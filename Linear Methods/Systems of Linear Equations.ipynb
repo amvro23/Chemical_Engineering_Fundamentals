{
 "cells": [
  {
   "cell_type": "markdown",
   "id": "ef50fdb3",
   "metadata": {},
   "source": [
    "# Systems of Linear Equations"
   ]
  },
  {
   "cell_type": "markdown",
   "id": "75d0eb1f",
   "metadata": {},
   "source": [
    "Methods of solution applied in numerical analysis to determine the unknowns of linear systems:\n",
    "- Elimination Methods\n",
    "- Iterative Methods"
   ]
  },
  {
   "cell_type": "markdown",
   "id": "6e5e9c69",
   "metadata": {},
   "source": [
    "# 1) Elimination Methods"
   ]
  },
  {
   "cell_type": "markdown",
   "id": "48d0e20f",
   "metadata": {},
   "source": [
    "## 1a) <u>Gauss Elimination</u>"
   ]
  },
  {
   "cell_type": "code",
   "execution_count": 1,
   "id": "9fc9afae",
   "metadata": {},
   "outputs": [
    {
     "name": "stdout",
     "output_type": "stream",
     "text": [
      "Given System: \n",
      " [[ 0.  7. -1.  3.  1.]\n",
      " [ 2.  3.  4.  1.  7.]\n",
      " [ 6.  2.  0.  2. -1.]\n",
      " [ 2.  1.  2.  0.  2.]\n",
      " [ 3.  4.  1. -2.  1.]]\n",
      ".................\n",
      "Eliminated System: \n",
      " [[ 2.00000000e+00  3.00000000e+00  4.00000000e+00  1.00000000e+00\n",
      "   7.00000000e+00]\n",
      " [ 0.00000000e+00  7.00000000e+00 -1.00000000e+00  3.00000000e+00\n",
      "   1.00000000e+00]\n",
      " [ 0.00000000e+00  0.00000000e+00 -1.30000000e+01  2.00000000e+00\n",
      "  -2.10000000e+01]\n",
      " [ 0.00000000e+00  0.00000000e+00  0.00000000e+00  2.81250000e+00\n",
      "   5.81250000e+00]\n",
      " [ 0.00000000e+00  8.88178420e-16  0.00000000e+00 -4.44089210e-16\n",
      "   4.95734797e+00]]\n",
      ".................\n",
      "The value of b vector is: \n",
      " [  7.           5.         -14.           0.625        0.15371622]\n",
      ".................\n",
      "The values calculated from Gaussian Elimination: \n",
      " [0.02170543 0.79224806 1.05116279 0.15813953 0.03100775]\n",
      ".................\n",
      "Package values are: \n",
      " [0.02170543 0.79224806 1.05116279 0.15813953 0.03100775]\n"
     ]
    }
   ],
   "source": [
    "import numpy as np\n",
    "\n",
    "A = np.array([[0, 7, -1, 3, 1],\n",
    "              [2, 3, 4, 1, 7],\n",
    "              [6, 2, 0, 2, -1],\n",
    "              [2, 1, 2, 0, 2],\n",
    "              [3, 4, 1, -2, 1]], float)\n",
    "\n",
    "b = np.array([5, 7, 2, 3, 4], float)\n",
    "\n",
    "n = len(b)\n",
    "x = np.zeros(n, float)\n",
    "\n",
    "print('Given System: \\n', A)\n",
    "print('.................')\n",
    "\n",
    "# Elimination\n",
    "for k in range(n-1):\n",
    "    if A[k, k] == 0:\n",
    "        for j in range(n):\n",
    "            A[k, j], A[k+1, j] = A[k+1, j], A[k, j] # swaping\n",
    "        b[k], b[k+1] = b[k+1], b[k]                 # swaping\n",
    "    for i in range(k+1, n):\n",
    "        if A[i, k] == 0:\n",
    "            continue\n",
    "        fctr = A[k, k] / A[i, k] # fctr is independent of j (column)\n",
    "        b[i] = b[k] - fctr*b[i]  # b is independent of j (column)\n",
    "        for j in range(k, n):\n",
    "            A[i, j] = A[k, j] - fctr*A[i, j]\n",
    "\n",
    "# Elimination           \n",
    "x[n-1] = b[n-1] / A[n-1, n-1]\n",
    "for i in range(n-2, -1, -1):\n",
    "    terms = 0\n",
    "    for j in range(i+1, n):\n",
    "        terms += A[i,j]*x[j]\n",
    "    x[i] = (b[i] - terms)/A[i,i]\n",
    "\n",
    "        \n",
    "print('Eliminated System: \\n', A)\n",
    "print('.................')\n",
    "print('The value of b vector is: \\n', b)\n",
    "print('.................')\n",
    "print('The values calculated from Gaussian Elimination: \\n', x)\n",
    "print('.................')\n",
    "print('Package values are: \\n', np.linalg.solve(A, b))"
   ]
  },
  {
   "cell_type": "markdown",
   "id": "e6232f09",
   "metadata": {},
   "source": [
    "## 2a) <u>Gauss-Jordan Elimination</u>"
   ]
  },
  {
   "cell_type": "code",
   "execution_count": 2,
   "id": "f659f225",
   "metadata": {},
   "outputs": [
    {
     "name": "stdout",
     "output_type": "stream",
     "text": [
      "The solution of the system:\n",
      "[0.02170543 0.79224806 1.05116279 0.15813953 0.03100775]\n",
      "The coefficient matrix after transformation:\n",
      "[[ 1.  0.  0.  0.  0.]\n",
      " [ 0.  1.  0.  0.  0.]\n",
      " [-0. -0.  1.  0.  0.]\n",
      " [-0. -0. -0.  1.  0.]\n",
      " [ 0.  0.  0.  0.  1.]]\n"
     ]
    }
   ],
   "source": [
    "def gauss_jordan(a,b):\n",
    "    a = np.array(a, float)\n",
    "    b = np.array(b, float)\n",
    "    n = len(b)\n",
    "\n",
    "    # main loop\n",
    "    for k in range(n):\n",
    "        # Partial Pivoting\n",
    "        if np.fabs(a[k,k]) < 1.0e-12:\n",
    "            for i in range(k+1,n):\n",
    "                if np.fabs(a[i,k]) > np.fabs(a[k,k]):\n",
    "                    a[[k,i]] = a[[i,k]]\n",
    "                    b[[k,i]] = b[[i,k]]\n",
    "                    break\n",
    "        # Division of the pivot row\n",
    "        pivot = a[k,k]\n",
    "        a[k] /= pivot\n",
    "        b[k] /= pivot\n",
    "        # Elimination loop\n",
    "        for i in range(n):\n",
    "            if i == k or a[i,k] == 0: continue\n",
    "            factor = a[i,k]\n",
    "            a[i] -= factor * a[k]\n",
    "            b[i] -= factor * b[k]\n",
    "    return b,a\n",
    "\n",
    "\n",
    "a = np.array([[0, 7, -1, 3, 1],\n",
    "              [2, 3, 4, 1, 7],\n",
    "              [6, 2, 0, 2, -1],\n",
    "              [2, 1, 2, 0, 2],\n",
    "              [3, 4, 1, -2, 1]], float)\n",
    "\n",
    "b = np.array([5, 7, 2, 3, 4], float)\n",
    "\n",
    "X, A = gauss_jordan(a, b)\n",
    "\n",
    "print(\"The solution of the system:\")\n",
    "print(X)\n",
    "print(\"The coefficient matrix after transformation:\")\n",
    "print(A)"
   ]
  },
  {
   "cell_type": "markdown",
   "id": "000ebadb",
   "metadata": {},
   "source": [
    "# 2) Iteration Methods"
   ]
  },
  {
   "cell_type": "markdown",
   "id": "4bd719a1",
   "metadata": {},
   "source": [
    "**Note that in order to apply Jacobi's or Gauss-Seidel method, the system should first rearranged or reordered to have or to satisfy the condition of diagonal dominance.**"
   ]
  },
  {
   "cell_type": "markdown",
   "id": "4c8e6650",
   "metadata": {},
   "source": [
    "## 2a) <u>Jacobi's Iteration Method</u>"
   ]
  },
  {
   "cell_type": "markdown",
   "id": "a3885fcc",
   "metadata": {},
   "source": [
    "\\\\( x_i^* = -\\frac{1}{a_{i,i}} \\left(\\sum_{j=1, j\\neq i}^{n} {a_{i,j}x_j} - b_i  \\right) \\\\)\n",
    "\n",
    "The superscript (*) over $x_i$ indicates that this is a new value of the current interation."
   ]
  },
  {
   "cell_type": "markdown",
   "id": "9588fadd",
   "metadata": {},
   "source": [
    "### i) Using for loops"
   ]
  },
  {
   "cell_type": "code",
   "execution_count": 3,
   "id": "aa97bc33",
   "metadata": {},
   "outputs": [
    {
     "name": "stdout",
     "output_type": "stream",
     "text": [
      "Number of iterations: 40\n",
      "The solution of the system:\n",
      "[ 0.36500753 -0.2337858   0.28506788 -0.20361992]\n",
      ".................\n",
      "Package values are: \n",
      " [ 0.36500754 -0.23378582  0.28506787 -0.20361991]\n"
     ]
    }
   ],
   "source": [
    "import numpy as np\n",
    "\n",
    "def solve_linear_system(a, b, x0, iterlimit=100, tolerance=1.0e-8):\n",
    "    n = len(b)\n",
    "    x = x0.copy()\n",
    "    xnew = np.empty(n, float)\n",
    "\n",
    "    for iteration in range(iterlimit + 1):\n",
    "        for i in range(n):\n",
    "            sum_term = sum(a[i, j] * x[j] for j in range(n) if j != i)\n",
    "            xnew[i] = -1 / a[i, i] * (sum_term - b[i])\n",
    "        \n",
    "        if np.all(np.abs(xnew - x) < tolerance):\n",
    "            break\n",
    "        else:\n",
    "            x = xnew.copy()\n",
    "\n",
    "    return x, iteration\n",
    "\n",
    "a = np.array([[4, 1, 2, -1],\n",
    "              [3, 6, -1, 2],\n",
    "              [2, -1, 5, -3],\n",
    "              [4, 1, -3, -8]], float)\n",
    "\n",
    "b = np.array([2, -1, 3, 2], float)\n",
    "x0 = np.full(len(b), 1.0, float)\n",
    "\n",
    "solution, num_iterations = solve_linear_system(a, b, x0)\n",
    "\n",
    "print('Number of iterations: %d' % (num_iterations))\n",
    "print('The solution of the system:')\n",
    "print(solution)\n",
    "\n",
    "print('.................')\n",
    "print('Package values are: \\n', np.linalg.solve(a, b))"
   ]
  },
  {
   "cell_type": "markdown",
   "id": "743c374e",
   "metadata": {},
   "source": [
    "### ii) Using numpy arrays"
   ]
  },
  {
   "cell_type": "code",
   "execution_count": 4,
   "id": "f095336d",
   "metadata": {},
   "outputs": [
    {
     "name": "stdout",
     "output_type": "stream",
     "text": [
      "Number of iterations: 40\n",
      "The solution of the system:\n",
      "[ 0.36500753 -0.2337858   0.28506788 -0.20361992]\n",
      ".................\n",
      "Package values are: \n",
      " [ 0.36500754 -0.23378582  0.28506787 -0.20361991]\n"
     ]
    }
   ],
   "source": [
    "import numpy as np\n",
    "\n",
    "def solve_linear_system(a, b, x0, iterlimit=100, tolerance=1.0e-8):\n",
    "    n = len(b)\n",
    "    x = x0.copy()\n",
    "    xnew = np.empty(n, float)\n",
    "\n",
    "    for iteration in range(iterlimit + 1):\n",
    "        sum_term = np.dot(a, x) - np.diag(a) * x\n",
    "        xnew = -1 / np.diag(a) * (sum_term - b)\n",
    "        \n",
    "        if np.all(np.abs(xnew - x) < tolerance):\n",
    "            break\n",
    "        else:\n",
    "            x = xnew.copy()\n",
    "\n",
    "    return x, iteration\n",
    "\n",
    "a = np.array([[4, 1, 2, -1],\n",
    "              [3, 6, -1, 2],\n",
    "              [2, -1, 5, -3],\n",
    "              [4, 1, -3, -8]], float)\n",
    "\n",
    "b = np.array([2, -1, 3, 2], float)\n",
    "x0 = np.full(len(b), 1.0, float)\n",
    "\n",
    "solution, num_iterations = solve_linear_system(a, b, x0)\n",
    "\n",
    "print('Number of iterations: %d' % (num_iterations))\n",
    "print('The solution of the system:')\n",
    "print(solution)\n",
    "\n",
    "print('.................')\n",
    "print('Package values are: \\n', np.linalg.solve(a, b))\n",
    "# print('Package values are: \\n', np.dot(np.linalg.inv(a), b))"
   ]
  },
  {
   "cell_type": "markdown",
   "id": "ea618563",
   "metadata": {},
   "source": [
    "## 2b) <u>Gauss-Seidel's Iteration Method</u>"
   ]
  },
  {
   "cell_type": "markdown",
   "id": "59970762",
   "metadata": {},
   "source": [
    "\\\\( x_i^* = -\\frac{1}{a_{i,i}} \\left(\\sum_{j=1, j\\neq i}^{n} {a_{i,j}x_j^*} - b_i  \\right) \\\\)\n",
    "\n",
    "where $x_j^*$ is the new values of the variable from the previous equations."
   ]
  },
  {
   "cell_type": "markdown",
   "id": "a65fbdab",
   "metadata": {},
   "source": [
    "### i) Using for loops"
   ]
  },
  {
   "cell_type": "code",
   "execution_count": 5,
   "id": "0d25f6f5",
   "metadata": {},
   "outputs": [
    {
     "name": "stdout",
     "output_type": "stream",
     "text": [
      "Number of iterations: 17\n",
      "The solution of the system:\n",
      "[ 0.36500754 -0.23378582  0.28506787 -0.20361991]\n",
      ".................\n",
      "Package values are: \n",
      " [ 0.36500754 -0.23378582  0.28506787 -0.20361991]\n"
     ]
    }
   ],
   "source": [
    "import numpy as np\n",
    "\n",
    "def solve_linear_system(a, b, x0, iterlimit=100, tolerance=1.0e-9):\n",
    "    n = len(b)\n",
    "    x = x0.copy()\n",
    "    xdiff = np.empty(n, float)\n",
    "\n",
    "    for iteration in range(iterlimit + 1):\n",
    "        for i in range(n):\n",
    "            sum_term = sum(a[i, j] * x[j] for j in range(n) if j != i)\n",
    "            xnew = -1 / a[i, i] * (sum_term - b[i])\n",
    "            xdiff = abs(xnew - x[i])\n",
    "            x[i] = xnew\n",
    "        if np.all(xdiff < tolerance):\n",
    "            break\n",
    "\n",
    "    return x, iteration\n",
    "\n",
    "a = np.array([[4, 1, 2, -1],\n",
    "              [3, 6, -1, 2],\n",
    "              [2, -1, 5, -3],\n",
    "              [4, 1, -3, -8]], float)\n",
    "\n",
    "b = np.array([2, -1, 3, 2], float)\n",
    "\n",
    "x0 = np.full(len(b), 1.0, float)\n",
    "\n",
    "solution, num_iterations = solve_linear_system(a, b, x0)\n",
    "\n",
    "print('Number of iterations: %d' % (num_iterations))\n",
    "print('The solution of the system:')\n",
    "print(solution)\n",
    "\n",
    "print('.................')\n",
    "print('Package values are: \\n', np.linalg.solve(a, b))"
   ]
  },
  {
   "cell_type": "markdown",
   "id": "e65c1490",
   "metadata": {},
   "source": [
    "### ii) Using numpy arrays"
   ]
  },
  {
   "cell_type": "code",
   "execution_count": 6,
   "id": "1892a064",
   "metadata": {},
   "outputs": [
    {
     "name": "stdout",
     "output_type": "stream",
     "text": [
      "Number of iterations: 45\n",
      "The solution of the system:\n",
      "[ 0.36500754 -0.23378582  0.28506787 -0.20361991]\n",
      ".................\n",
      "Package values are: \n",
      " [ 0.36500754 -0.23378582  0.28506787 -0.20361991]\n"
     ]
    }
   ],
   "source": [
    "import numpy as np\n",
    "\n",
    "def solve_linear_system(a, b, x0, iterlimit=100, tolerance=1.0e-9):\n",
    "    n = len(b)\n",
    "    x = x0.copy()\n",
    "    xdiff = np.empty(n, float)\n",
    "\n",
    "    for iteration in range(iterlimit + 1):\n",
    "        sum_term = np.dot(a, x) - np.diag(a) * x\n",
    "        xnew = -1 / np.diag(a) * (sum_term - b)\n",
    "        xdiff = np.abs(xnew - x)\n",
    "        x = xnew.copy()\n",
    "        \n",
    "        if np.all(xdiff < tolerance):\n",
    "            break\n",
    "\n",
    "    return x, iteration\n",
    "\n",
    "a = np.array([[4, 1, 2, -1],\n",
    "              [3, 6, -1, 2],\n",
    "              [2, -1, 5, -3],\n",
    "              [4, 1, -3, -8]], float)\n",
    "\n",
    "b = np.array([2, -1, 3, 2], float)\n",
    "\n",
    "x0 = np.full(len(b), 1.0, float)\n",
    "\n",
    "solution, num_iterations = solve_linear_system(a, b, x0)\n",
    "\n",
    "print('Number of iterations: %d' % (num_iterations))\n",
    "print('The solution of the system:')\n",
    "print(solution)\n",
    "\n",
    "print('.................')\n",
    "print('Package values are: \\n', np.linalg.solve(a, b))"
   ]
  }
 ],
 "metadata": {
  "kernelspec": {
   "display_name": "Python 3 (ipykernel)",
   "language": "python",
   "name": "python3"
  },
  "language_info": {
   "codemirror_mode": {
    "name": "ipython",
    "version": 3
   },
   "file_extension": ".py",
   "mimetype": "text/x-python",
   "name": "python",
   "nbconvert_exporter": "python",
   "pygments_lexer": "ipython3",
   "version": "3.10.10"
  }
 },
 "nbformat": 4,
 "nbformat_minor": 5
}
