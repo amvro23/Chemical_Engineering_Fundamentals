{
 "cells": [
  {
   "cell_type": "code",
   "execution_count": 1,
   "id": "9af84040",
   "metadata": {},
   "outputs": [],
   "source": [
    "import numpy as np\n",
    "import pandas as pd\n",
    "import matplotlib.pyplot as plt\n",
    "from scipy.optimize import curve_fit"
   ]
  },
  {
   "cell_type": "markdown",
   "id": "13560a7b",
   "metadata": {},
   "source": [
    "# Example PCB 1 (Linear Regression Summary)\n",
    "\n",
    "The aim of this example (Bates and Watts, 1988, p. 3) is to present linear regression estimation can be performed properly using different methods."
   ]
  },
  {
   "cell_type": "code",
   "execution_count": 2,
   "id": "097b92ba",
   "metadata": {},
   "outputs": [],
   "source": [
    "df = pd.DataFrame()\n",
    "df['Age (years)'] = [1, 1 ,1 ,1, 2, 2, 2, 3, 3, 3, 4, 4, 4, 5, 6, 6, 6, 7, 7, 7, 8, 8, 8, 9, 11, 12, 12, 12]\n",
    "df['PCB Conc. (ppm)'] = [0.6, 1.6, 0.5, 1.2, 2.0, 1.3, 2.5, 2.2, 2.4, 1.2, 3.5, 4.1, 5.1, 5.7, 3.4, 9.7, \n",
    "                         8.6, 4.0, 5.5, 10.5, 17.5, 13.4, 4.5, 30.4, 12.4, 13.4, 26.2, 7.4]"
   ]
  },
  {
   "cell_type": "code",
   "execution_count": 3,
   "id": "3457fac1",
   "metadata": {},
   "outputs": [
    {
     "data": {
      "text/html": [
       "<div>\n",
       "<style scoped>\n",
       "    .dataframe tbody tr th:only-of-type {\n",
       "        vertical-align: middle;\n",
       "    }\n",
       "\n",
       "    .dataframe tbody tr th {\n",
       "        vertical-align: top;\n",
       "    }\n",
       "\n",
       "    .dataframe thead th {\n",
       "        text-align: right;\n",
       "    }\n",
       "</style>\n",
       "<table border=\"1\" class=\"dataframe\">\n",
       "  <thead>\n",
       "    <tr style=\"text-align: right;\">\n",
       "      <th></th>\n",
       "      <th>Age (years)</th>\n",
       "      <th>PCB Conc. (ppm)</th>\n",
       "    </tr>\n",
       "  </thead>\n",
       "  <tbody>\n",
       "    <tr>\n",
       "      <th>0</th>\n",
       "      <td>1</td>\n",
       "      <td>0.6</td>\n",
       "    </tr>\n",
       "    <tr>\n",
       "      <th>1</th>\n",
       "      <td>1</td>\n",
       "      <td>1.6</td>\n",
       "    </tr>\n",
       "    <tr>\n",
       "      <th>2</th>\n",
       "      <td>1</td>\n",
       "      <td>0.5</td>\n",
       "    </tr>\n",
       "    <tr>\n",
       "      <th>3</th>\n",
       "      <td>1</td>\n",
       "      <td>1.2</td>\n",
       "    </tr>\n",
       "    <tr>\n",
       "      <th>4</th>\n",
       "      <td>2</td>\n",
       "      <td>2.0</td>\n",
       "    </tr>\n",
       "  </tbody>\n",
       "</table>\n",
       "</div>"
      ],
      "text/plain": [
       "   Age (years)  PCB Conc. (ppm)\n",
       "0            1              0.6\n",
       "1            1              1.6\n",
       "2            1              0.5\n",
       "3            1              1.2\n",
       "4            2              2.0"
      ]
     },
     "execution_count": 3,
     "metadata": {},
     "output_type": "execute_result"
    }
   ],
   "source": [
    "df.head(5)"
   ]
  },
  {
   "cell_type": "markdown",
   "id": "7e4302e9",
   "metadata": {},
   "source": [
    "### Adjustments\n",
    "\n",
    "Plotting the PCB concentration on a logarithmic scale, nicely stabilizes the variance and produces a more nearly linear relationship.\n",
    "\n",
    "Transforming the regressor variable can produce an even straighter plot, where we use the cube root of age as is clearly illustrated in plot (b)."
   ]
  },
  {
   "cell_type": "code",
   "execution_count": 4,
   "id": "b8e2f1ee",
   "metadata": {},
   "outputs": [],
   "source": [
    "x = np.log(df['Age (years)']**(1/3)).values\n",
    "y = np.log(df['PCB Conc. (ppm)']).values\n",
    "\n",
    "A = np.vstack([x, np.ones(len(x))]).T"
   ]
  },
  {
   "cell_type": "code",
   "execution_count": 5,
   "id": "0530f829",
   "metadata": {},
   "outputs": [
    {
     "data": {
      "text/plain": [
       "Text(0.0, 1.0, '(b)')"
      ]
     },
     "execution_count": 5,
     "metadata": {},
     "output_type": "execute_result"
    },
    {
     "data": {
      "image/png": "[encoded data removed]",
      "text/plain": [
       "<Figure size 1000x400 with 2 Axes>"
      ]
     },
     "metadata": {},
     "output_type": "display_data"
    }
   ],
   "source": [
    "fig, ax = plt.subplots(ncols  = 2, figsize = (10, 4))\n",
    "\n",
    "ax[0].plot((df['Age (years)']).values, (df['PCB Conc. (ppm)']).values, '.')\n",
    "ax[0].set_xlabel('Age (years)')\n",
    "ax[0].set_ylabel('PCB concentration (ppm)')\n",
    "ax[0].set_title(\"(a)\", loc = 'left')\n",
    "\n",
    "ax[1].plot(x, y, '.')\n",
    "ax[1].set_xlabel('Cube root of Age')\n",
    "ax[1].set_ylabel('ln(PCB concentration)')\n",
    "ax[1].set_title(\"(b)\", loc = 'left')"
   ]
  },
  {
   "cell_type": "markdown",
   "id": "bc504258",
   "metadata": {},
   "source": [
    "### Use optimize.curve_fit from scipy\n",
    "\n",
    "This scipy function is actually very powerful, that it can fit not only linear functions, but many different function forms, such as non-linear function. \n",
    "Here we will show the linear example from above. Note that, using this function, we don't need to turn y into a column vector."
   ]
  },
  {
   "cell_type": "code",
   "execution_count": 6,
   "id": "fec101ca",
   "metadata": {},
   "outputs": [],
   "source": [
    "popt, pcov = curve_fit(lambda x, a, b: a*x +b, x, y)\n",
    "\n",
    "a, b = popt"
   ]
  },
  {
   "cell_type": "markdown",
   "id": "13e78f08",
   "metadata": {},
   "source": [
    "### Use direct inverse method ###"
   ]
  },
  {
   "cell_type": "code",
   "execution_count": 7,
   "id": "57fddd1b",
   "metadata": {},
   "outputs": [
    {
     "data": {
      "text/plain": [
       "array([ 3.56205338, -0.25762537])"
      ]
     },
     "execution_count": 7,
     "metadata": {},
     "output_type": "execute_result"
    }
   ],
   "source": [
    "alpha = np.dot((np.dot(np.linalg.inv(np.dot(A.T,A)), A.T)), y)\n",
    "\n",
    "alpha"
   ]
  },
  {
   "cell_type": "markdown",
   "id": "4d519a48",
   "metadata": {},
   "source": [
    "### Use the pseudoinverse ###\n",
    "\n",
    "$ (A^TA)^{-1}A^T$ is called the pseudo-inverse, therefore, we could use the pinv function in numpy to directly calculate it."
   ]
  },
  {
   "cell_type": "code",
   "execution_count": 8,
   "id": "e74dd073",
   "metadata": {},
   "outputs": [],
   "source": [
    "y = y[:, np.newaxis]"
   ]
  },
  {
   "cell_type": "code",
   "execution_count": 9,
   "id": "8b5b453e",
   "metadata": {},
   "outputs": [
    {
     "name": "stdout",
     "output_type": "stream",
     "text": [
      "[[ 3.56205338]\n",
      " [-0.25762537]]\n"
     ]
    }
   ],
   "source": [
    "pinv = np.linalg.pinv(A)\n",
    "alpha = np.dot(pinv, y)\n",
    "\n",
    "print(alpha)"
   ]
  },
  {
   "cell_type": "markdown",
   "id": "05c60c76",
   "metadata": {},
   "source": [
    "### Use numpy.linalg.lstsq"
   ]
  },
  {
   "cell_type": "code",
   "execution_count": 10,
   "id": "bc506810",
   "metadata": {},
   "outputs": [
    {
     "name": "stdout",
     "output_type": "stream",
     "text": [
      "[[ 3.56205338]\n",
      " [-0.25762537]]\n"
     ]
    }
   ],
   "source": [
    "alpha = np.linalg.lstsq(A, y, rcond=None)[0]\n",
    "\n",
    "print(alpha)"
   ]
  },
  {
   "cell_type": "code",
   "execution_count": 11,
   "id": "9858d5e9",
   "metadata": {},
   "outputs": [
    {
     "data": {
      "text/plain": [
       "Text(0, 0.5, 'ln(PCB concentration (ppm))')"
      ]
     },
     "execution_count": 11,
     "metadata": {},
     "output_type": "execute_result"
    },
    {
     "data": {
      "image/png": "[encoded data removed]",
      "text/plain": [
       "<Figure size 640x480 with 1 Axes>"
      ]
     },
     "metadata": {},
     "output_type": "display_data"
    }
   ],
   "source": [
    "x = np.log(df['Age (years)']**(1/3)).values\n",
    "y = np.log(df['PCB Conc. (ppm)']).values\n",
    "\n",
    "plt.plot(x, y, '.')\n",
    "plt.plot(x, a*x + b, \"r--\")\n",
    "plt.xlabel('Cube root of Age')\n",
    "plt.ylabel('ln(PCB concentration (ppm))')"
   ]
  }
 ],
 "metadata": {
  "kernelspec": {
   "display_name": "Python 3 (ipykernel)",
   "language": "python",
   "name": "python3"
  },
  "language_info": {
   "codemirror_mode": {
    "name": "ipython",
    "version": 3
   },
   "file_extension": ".py",
   "mimetype": "text/x-python",
   "name": "python",
   "nbconvert_exporter": "python",
   "pygments_lexer": "ipython3",
   "version": "3.8.13"
  }
 },
 "nbformat": 4,
 "nbformat_minor": 5
}
