{
 "cells": [
  {
   "cell_type": "markdown",
   "id": "fb90bedf",
   "metadata": {},
   "source": [
    "# Jacobian Method\n",
    "\n",
    "Jacobian method or Jacobi method is one the iterative methods for approximating the solution of a system of n linear equations in n variables. The Jacobi iterative method is considered as an iterative algorithm which is used for determining the solutions for the system of linear equations in numerical linear algebra, which is diagonally dominant. In this method, an approximate value is filled in for each diagonal element. Until it converges, the process is iterated. This algorithm was first called the Jacobi transformation process of matrix diagonalization. Jacobi Method is also known as the simultaneous displacement method.\n",
    "\n",
    "You can find the example here:\n",
    "https://byjus.com/maths/jacobian-method/"
   ]
  },
  {
   "cell_type": "code",
   "execution_count": 1,
   "id": "40bd726f",
   "metadata": {},
   "outputs": [
    {
     "name": "stdout",
     "output_type": "stream",
     "text": [
      "Count\tx\ty\tz\n",
      "1\t0.0000\t-2.3333\t1.2500\n",
      "2\t1.7917\t-2.7500\t0.6667\n",
      "3\t1.7083\t-1.9583\t-0.7812\n",
      "\n",
      "Solution after 3 iterations: x=1.7083, y=-1.9583, z=-0.7812\n"
     ]
    }
   ],
   "source": [
    "\"\"\"\n",
    "4x + 2y – 2z = 0\n",
    "x – 3y – z = 7\n",
    "3x – y + 4z = 5\n",
    "\"\"\"\n",
    "\n",
    "# Defining equations to be solved\n",
    "# in diagonally dominant form\n",
    "f1 = lambda x, y, z: (0 - 2 * y + 2 * z) / 4\n",
    "f2 = lambda x, y, z: (7 - x + z) / -3\n",
    "f3 = lambda x, y, z: (5 - 3 * x + y) / 4\n",
    "\n",
    "# Initial setup\n",
    "x0 = 0\n",
    "y0 = 0\n",
    "z0 = 0\n",
    "\n",
    "# Implementation of Jacobi Iteration for 3 iterations\n",
    "print('Count\\tx\\ty\\tz')\n",
    "\n",
    "for count in range(3):\n",
    "    x1 = f1(x0, y0, z0)\n",
    "    y1 = f2(x0, y0, z0)\n",
    "    z1 = f3(x0, y0, z0)\n",
    "    print('%d\\t%0.4f\\t%0.4f\\t%0.4f' % (count + 1, x1, y1, z1))\n",
    "    x0 = x1\n",
    "    y0 = y1\n",
    "    z0 = z1\n",
    "\n",
    "print('\\nSolution after 3 iterations: x=%0.4f, y=%0.4f, z=%0.4f' % (x1, y1, z1))"
   ]
  }
 ],
 "metadata": {
  "kernelspec": {
   "display_name": "Python 3 (ipykernel)",
   "language": "python",
   "name": "python3"
  },
  "language_info": {
   "codemirror_mode": {
    "name": "ipython",
    "version": 3
   },
   "file_extension": ".py",
   "mimetype": "text/x-python",
   "name": "python",
   "nbconvert_exporter": "python",
   "pygments_lexer": "ipython3",
   "version": "3.10.10"
  }
 },
 "nbformat": 4,
 "nbformat_minor": 5
}
