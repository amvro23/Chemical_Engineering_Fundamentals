{
  "nbformat": 4,
  "nbformat_minor": 0,
  "metadata": {
    "colab": {
      "provenance": []
    },
    "kernelspec": {
      "name": "python3",
      "display_name": "Python 3"
    },
    "language_info": {
      "name": "python"
    }
  },
  "cells": [
    {
      "cell_type": "markdown",
      "source": [
        "# Jacobi Method\n",
        "\n",
        "### Element-based formula\n",
        "$$x^{k+1}_i = \\frac{1}{A_{ii}} \\left(b_i - \\sum_{j≠i} A_{ij} x^{k}_j \\right), i = 1,2,...,n$$\n",
        "\n",
        "### Matrix notation\n",
        "$$ x^{k+1} = D^{-1}(b - Rx^k) $$"
      ],
      "metadata": {
        "id": "aWAxIwJBcYoL"
      }
    },
    {
      "cell_type": "code",
      "source": [
        "import numpy as np\n",
        "\n",
        "\"\"\"\n",
        "4x + 2y – 2z = 0\n",
        "x – 3y – z = 7\n",
        "3x – y + 4z = 5\n",
        "\"\"\"\n",
        "\n",
        "import numpy as np\n",
        "\n",
        "\n",
        "def jacobi(A, b, N=25, x=None, tol=1e-6):\n",
        "  if x is None:\n",
        "    x = np.zeros(len(A[0]))\n",
        "\n",
        " # Create a vector of the diagonal elements and substract them from A\n",
        "  D = np.diag(A)\n",
        "  R = A - np.diagflat(D)\n",
        "\n",
        "  for k in range(N):\n",
        "    x_old = x.copy()\n",
        "    r = b - (R @ x)\n",
        "    x = r / D\n",
        "\n",
        "    # Calculate the change in the solution vector\n",
        "    \"\"\"The Jacobi method uses a global change measurement because it updates\n",
        "    all components of `x simultaneously, and it checks how much the entire\n",
        "    solution vector has changed.\"\"\"\n",
        "    change = np.linalg.norm(x - x_old)\n",
        "\n",
        "    # Check if the change is below the tolerance\n",
        "    if change < tol:\n",
        "      print(f\"Converged after {k + 1} iterations.\")\n",
        "      return x\n",
        "\n",
        "  print(\"Did not converge within the maximum number of iterations.\")\n",
        "  return x\n",
        "\n",
        "A = np.array([[4.0, 2.0, -2.0],\n",
        "              [1.0, -3.0, -1.0],\n",
        "              [3.0, -1.0, 4.0]])\n",
        "\n",
        "b = np.array([0.0, 7.0, 5.0])\n",
        "\n",
        "sol = jacobi(A, b, N=100)\n",
        "\n",
        "print(\"Solution x:\")\n",
        "print(sol)\n",
        "\n",
        "print(\"Error\")\n",
        "print(A @ sol - b)"
      ],
      "metadata": {
        "colab": {
          "base_uri": "https://localhost:8080/"
        },
        "id": "a6DxnZIXca7-",
        "outputId": "1a764471-f55b-4a04-ae3e-aa3cd1c68673"
      },
      "execution_count": 1,
      "outputs": [
        {
          "output_type": "stream",
          "name": "stdout",
          "text": [
            "Converged after 68 iterations.\n",
            "Solution x:\n",
            "[ 9.99999500e-01 -1.99999984e+00  1.91691871e-07]\n",
            "Error\n",
            "[-2.05977863e-06 -1.17362351e-06 -8.92552191e-07]\n"
          ]
        }
      ]
    },
    {
      "cell_type": "markdown",
      "source": [
        "### Gauss-Seidel\n",
        "\n",
        "### Element-based formula\n",
        "$$x^{k+1}_i = \\frac{1}{A_{ii}} \\left(b_i - \\sum_{j=1}^{i-1} A_{ij} x^{k+1}_j - \\sum_{j=i+1}^{n} A_{ij} x^k_j\\right), i = 1,2,...,n$$\n",
        "\n",
        "### Matrix notation\n",
        "\n",
        "$$x^{k+1} = x^{k} + E^{-1} (b - Ax^{k})$$\n",
        "\n",
        "where $E$ is the lower triangle matrix"
      ],
      "metadata": {
        "id": "Qe4QQVaCiXmV"
      }
    },
    {
      "cell_type": "code",
      "source": [
        "import numpy as np\n",
        "\n",
        "def gauss_seidel(A, b, num_steps=25, x=None, tol=1e-6):\n",
        "    if x is None:\n",
        "        x = np.zeros(len(A[0]))\n",
        "\n",
        "    # Lower triangle of an array.\n",
        "    E = np.tril(A)\n",
        "\n",
        "    for k in range(num_steps):\n",
        "        r = b - A @ x\n",
        "        x = x + np.linalg.inv(E) @ r\n",
        "\n",
        "        \"\"\"The Gauss-Seidel method uses a local change measurement because it\n",
        "        updates components of x sequentially, and it checks how well each\n",
        "        equation is being satisfied by measuring the change in the residual\n",
        "        vector, which reflects the local error in each equation.\"\"\"\n",
        "        change = np.linalg.norm(r)\n",
        "\n",
        "        if change < tol:\n",
        "            print(f\"Converged after {k + 1} iterations.\")\n",
        "            return x\n",
        "\n",
        "    print(\"Did not converge within the maximum number of iterations.\")\n",
        "    return x\n",
        "\n",
        "A = np.array([[4.0, 2.0, -2.0],\n",
        "              [1.0, -3.0, -1.0],\n",
        "              [3.0, -1.0, 4.0]])\n",
        "\n",
        "b = np.array([0.0, 7.0, 5.0])\n",
        "\n",
        "sol = gauss_seidel(A, b, num_steps=100)\n",
        "\n",
        "print(\"Solution x:\")\n",
        "print(sol)\n",
        "\n",
        "print(\"Error\")\n",
        "print(A @ sol - b)"
      ],
      "metadata": {
        "colab": {
          "base_uri": "https://localhost:8080/"
        },
        "id": "B8iWODuKf-1d",
        "outputId": "151aa0b6-583e-4511-c61f-bd1d073c05ed"
      },
      "execution_count": 2,
      "outputs": [
        {
          "output_type": "stream",
          "name": "stdout",
          "text": [
            "Converged after 17 iterations.\n",
            "Solution x:\n",
            "[ 1.00000007e+00 -1.99999999e+00 -4.97728368e-08]\n",
            "Error\n",
            "[4.02007540e-07 8.65312284e-08 0.00000000e+00]\n"
          ]
        }
      ]
    }
  ]
}