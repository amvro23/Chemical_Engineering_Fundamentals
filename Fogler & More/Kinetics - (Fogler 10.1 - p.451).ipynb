{
 "cells": [
  {
   "cell_type": "code",
   "execution_count": 1,
   "id": "7cfc3c87",
   "metadata": {},
   "outputs": [],
   "source": [
    "import pandas as pd\n",
    "import numpy as np\n",
    "import matplotlib.pyplot as plt\n",
    "from lmfit import Model\n",
    "from scipy.optimize import curve_fit\n",
    "from scipy.stats.distributions import t\n",
    "from scipy.optimize import minimize\n",
    "from scipy import stats\n",
    "import scipy.optimize as optimize\n",
    "from scipy.optimize import fsolve"
   ]
  },
  {
   "cell_type": "markdown",
   "id": "bbff13d8",
   "metadata": {},
   "source": [
    "**Non-linear Fitting to Determine the Model Parameters k, Kb , and Kt**\n",
    "\n",
    "You can download Fogler's book from here: https://doku.pub/download/h-scott-fogler-essentials-of-chemical-reaction-engineering-z0x2ze484wqn"
   ]
  },
  {
   "cell_type": "code",
   "execution_count": 2,
   "id": "cbfad02b",
   "metadata": {},
   "outputs": [],
   "source": [
    "# observed experimental reaction rates for the reaction C6H5CH3 + H2 → C6H6 + CH4 or t + h → b + m\n",
    "data = pd.DataFrame({\n",
    "\"r\":[71, 71.3, 41.6, 19.7, 42.0, 17.1, 71.8, 142.0, 284.0, 47.0, 71.3, 117.0, 127.0, 131.0, 133.0, 41.8], \n",
    "\"t\":[1, 1, 1, 1, 1, 1, 1, 1, 1, 0.5, 1,5, 10, 15, 20, 1], \n",
    "\"h\":[1, 1, 1, 1, 1, 1, 1, 2, 4, 1, 1, 1, 1, 1, 1, 1],\n",
    "\"m\":[1, 4, 0, 0, 1, 0, 0, 0, 0, 0, 0, 0, 0, 0, 0, 1], \n",
    "\"b\":[0, 0, 1, 4, 1, 5, 0, 0, 0, 0, 0, 0, 0, 0, 0, 1]\n",
    "})\n",
    "\n",
    "# multiple independent variables - partial pressures of components\n",
    "x_data = data.iloc[:, 1:].T.values\n",
    "\n",
    "# dependent variable - rate of reaction\n",
    "y_observed = data[\"r\"]"
   ]
  },
  {
   "cell_type": "code",
   "execution_count": 3,
   "id": "d00c4879",
   "metadata": {},
   "outputs": [
    {
     "name": "stdout",
     "output_type": "stream",
     "text": [
      "[[Model]]\n",
      "    Model(calc_y)\n",
      "[[Fit Statistics]]\n",
      "    # fitting method   = leastsq\n",
      "    # function evals   = 41\n",
      "    # data points      = 16\n",
      "    # variables        = 3\n",
      "    chi-square         = 3.26050902\n",
      "    reduced chi-square = 0.25080839\n",
      "    Akaike info crit   = -19.4512864\n",
      "    Bayesian info crit = -17.1335202\n",
      "    R-squared          = 0.99995092\n",
      "[[Variables]]\n",
      "    k:   144.767309 +/- 0.57428110 (0.40%) (init = 100000)\n",
      "    Kb:  1.39052653 +/- 0.02120298 (1.52%) (init = 0.01)\n",
      "    Kt:  1.03841056 +/- 0.00609302 (0.59%) (init = 0.01)\n",
      "[[Correlations]] (unreported correlations are < 0.100)\n",
      "    C(k, Kt)  = +0.9568\n",
      "    C(k, Kb)  = +0.3432\n",
      "    C(Kb, Kt) = +0.3094\n",
      "---------------------------------------------------------\n",
      "The value of r2 between the y_observed and y_calc is: 0.999953025267843\n"
     ]
    }
   ],
   "source": [
    "# calculate y\n",
    "def calc_y(x, k, Kb, Kt):\n",
    "    \n",
    "    num = k*x[0]*x[1]\n",
    "    denom = 1+Kb*x[3]+Kt*x[0]\n",
    "    y = num/denom #(mol/kg_cat.s)\n",
    "    \n",
    "    return y\n",
    "\n",
    "my_model = Model(calc_y)\n",
    "\n",
    "# set the boundries for each parameter\n",
    "# my_model.set_param_hint('k', min=0, max=np.inf)\n",
    "# my_model.set_param_hint('Kb', min=0, max=np.inf)\n",
    "# my_model.set_param_hint('Kt', min=0, max=np.inf)\n",
    "\n",
    "# initial values\n",
    "result = my_model.fit(y_observed, x=x_data, k=1e5, Kb=0.01, Kt=0.01)\n",
    "\n",
    "print(result.fit_report())\n",
    "\n",
    "best_values = result.best_values\n",
    "best_fit = result.best_fit\n",
    "\n",
    "slope, intercept, r_value, p_value, std_err = stats.linregress(y_observed, best_fit)\n",
    "    \n",
    "# if r2 value is not close to one change the initial values\n",
    "r2 = r_value**2\n",
    "print('---------------------------------------------------------')\n",
    "print('The value of r2 between the y_observed and y_calc is:', r2)"
   ]
  },
  {
   "cell_type": "markdown",
   "id": "d13fdcba",
   "metadata": {},
   "source": [
    "# 2nd method using curve_fit"
   ]
  },
  {
   "cell_type": "code",
   "execution_count": 4,
   "id": "64de3136",
   "metadata": {},
   "outputs": [
    {
     "name": "stdout",
     "output_type": "stream",
     "text": [
      "j0: 144.76730784256213 [143.52665713100265 146.00795855412161]\n",
      "j1: 1.390526436350292 [1.3447204265100068 1.4363324461905773]\n",
      "j2: 1.0384105580616636 [1.0252475855209613 1.051573530602366]\n",
      "The rate constant value is:  1.4476730784256213e-08\n",
      "The equilibrium constant of product b is 1.390526436350292\n",
      "The equilibrium constant of product t is 1.0384105580616636\n",
      "The R squared value is: 0.9999509157577747\n",
      "The R_adjusted value is:  0.9999386446972184\n",
      "The root mean square error (RMSE) or (RMSD) is 0.4514219906819957\n",
      "The variance is 0.2508083860569794\n"
     ]
    }
   ],
   "source": [
    "# mol/kg_cat.s\n",
    "def rate(x, *params):\n",
    "    \n",
    "    k, Kb, Kt = params\n",
    "    \n",
    "    num = k*x[0]*x[1]\n",
    "    denom = 1+Kb*x[3]+Kt*x[0]\n",
    "    y = num/denom            \n",
    "    \n",
    "    return y\n",
    "\n",
    "bnds = [0, [np.inf, np.inf, np.inf]]\n",
    "    \n",
    "popt, pcov = curve_fit(rate, x_data, y_observed, p0 =[1e05, 1.0, 1.0], \n",
    "bounds = bnds)\n",
    "\n",
    "#k value needs to be multiplied by 10^-10\n",
    "k, Kb, Kt = popt\n",
    "\n",
    "k_rate_constant = k*1e-10\n",
    "\n",
    "residuals = rate(x_data, *popt) - y_observed\n",
    "rss = sum(residuals**2)\n",
    "\n",
    "y_mean = np.mean(y_observed)\n",
    "total_residuals = y_mean - y_observed\n",
    "tss = sum(total_residuals**2)\n",
    "\n",
    "n = len(y_observed) # number of data points\n",
    "p = len(popt) # number of parameters\n",
    "alpha = 0.05\n",
    "\n",
    "dof = max(0, n - p) #number of degrees of freedom\n",
    "\n",
    "r_squared = 1 - (rss/tss)\n",
    "r_adjusted = 1 - ((1 - r_squared)*(n - 1))/(n - p - 1)\n",
    "\n",
    "tinv = lambda alpha, dof: abs(t.ppf(1.0 - alpha/2, dof)) \n",
    "tval = tinv(alpha, dof)\n",
    "\n",
    "#confidence level for the estimated parameters\n",
    "\n",
    "dfit = np.sqrt(np.diag(pcov))\n",
    "for i, j, var in zip(range(n), popt, dfit):\n",
    "    print('j{0}: {1} [{2} {3}]'.format(i, j, j - var*tval, j + var*tval))\n",
    "    \n",
    "variance = rss/dof\n",
    "\n",
    "rmse = (rss/n)**0.5\n",
    "\n",
    "print(\"The rate constant value is: \", k_rate_constant)\n",
    "print(\"The equilibrium constant of product b is\", Kb)\n",
    "print(\"The equilibrium constant of product t is\", Kt)\n",
    "print(\"The R squared value is:\", r_squared)\n",
    "print(\"The R_adjusted value is: \", r_adjusted)\n",
    "print(\"The root mean square error (RMSE) or (RMSD) is\", rmse)\n",
    "print(\"The variance is\", variance)"
   ]
  },
  {
   "cell_type": "markdown",
   "id": "53908c05",
   "metadata": {},
   "source": [
    "# 3rd method using 'BFGS'"
   ]
  },
  {
   "cell_type": "code",
   "execution_count": 5,
   "id": "bf7209c8",
   "metadata": {},
   "outputs": [
    {
     "name": "stdout",
     "output_type": "stream",
     "text": [
      "j0: 144.7673005996489 [143.52960899059954  146.00499220869827]\n",
      "j1: 1.3905263403326882 [1.3443241768934888  1.4367285037718875]\n",
      "j2: 1.038410477134909 [1.0251858763190675  1.0516350779507504]\n"
     ]
    },
    {
     "data": {
      "text/plain": [
       "(array([144.7673006 ,   1.39052634,   1.03841048]), 0.9999530252392126)"
      ]
     },
     "execution_count": 5,
     "metadata": {},
     "output_type": "execute_result"
    }
   ],
   "source": [
    "def kinet_params(data):\n",
    "\n",
    "    y_calc = lambda x, k: k[0]*x[0]*x[1]/(1+k[1]*x[3]+k[2]*x[0])\n",
    "\n",
    "    # Error function\n",
    "    errFunc = lambda k, x, y: y_calc(x, k) - y\n",
    "\n",
    "    # Error of parameters\n",
    "    def errFit(hess_inv, resVariance):\n",
    "        \n",
    "        return np.sqrt(np.diag(hess_inv * resVariance))\n",
    "\n",
    "    kstart = [0, 100, 0]\n",
    "    \n",
    "    # minimize, note that 'BFGS' method cannot handle bounds\n",
    "    result = minimize(lambda k, x, y, f: np.linalg.norm(y - f(x, k)), \n",
    "                      kstart, \n",
    "                      args=(x_data, y_observed, y_calc), \n",
    "                      method = 'BFGS')\n",
    "    \n",
    "    dFit = errFit(result.hess_inv, result.fun/(len(y_observed)-len(kstart)))\n",
    "    \n",
    "    # best estimated parameters\n",
    "    k = result.x\n",
    "    \n",
    "    slope, intercept, r_value, p_value, std_err = stats.linregress(y_observed, y_calc(x_data, k))\n",
    "    \n",
    "    # if r2 value is not close to one change the initial values\n",
    "    r2 = r_value**2\n",
    "    \n",
    "    # 95% confidence interval\n",
    "    alpha = 0.05\n",
    "    dof = max(0, len(y_observed) - len(k))\n",
    "    \n",
    "    tinv = lambda alpha, dof: abs(t.ppf(1.0 - alpha/2, dof))\n",
    "    tval = tinv(alpha, dof)\n",
    "    \n",
    "    for i, j, var in zip(range(len(y_observed)), k, dFit):\n",
    "        \n",
    "        print('j{0}: {1} [{2}  {3}]'.format(i, j, j - var*tval, j + var*tval))\n",
    "\n",
    "    return k, r2\n",
    "\n",
    "kinet_params(data)"
   ]
  },
  {
   "cell_type": "markdown",
   "id": "40c36016",
   "metadata": {},
   "source": [
    "# 4th method using 'SLSQP'"
   ]
  },
  {
   "cell_type": "code",
   "execution_count": 6,
   "id": "917babf6",
   "metadata": {},
   "outputs": [
    {
     "data": {
      "text/plain": [
       "array([144.76730315,   1.39052644,   1.03841053])"
      ]
     },
     "execution_count": 6,
     "metadata": {},
     "output_type": "execute_result"
    },
    {
     "data": {
      "image/png": "[encoded data removed]",
      "text/plain": [
       "<Figure size 400x300 with 1 Axes>"
      ]
     },
     "metadata": {},
     "output_type": "display_data"
    }
   ],
   "source": [
    "y_calc = lambda x, *k: k[0]*x[0]*x[1]/(1+k[1]*x[3]+k[2]*x[0])\n",
    "\n",
    "bnds = [(0.0, 200), (0.0, 10), (0.0, 10)]\n",
    "\n",
    "root = fsolve(lambda k: y_calc(x_data[:, :3], *k), [1, 1, 1]) # for estimating initial guess\n",
    "\n",
    "sol = minimize(lambda k, x, y, f: np.linalg.norm(y - f(x, *k)),\n",
    "               root,\n",
    "               args=(x_data, y_observed, y_calc), \n",
    "               method='SLSQP',\n",
    "               bounds=bnds)\n",
    "\n",
    "fig, ax = plt.subplots(figsize = (4,3))\n",
    "\n",
    "ax.plot(y_observed, y_calc(x_data, *sol.x) - y_observed, 'o')\n",
    "ax.set_xlabel('y$_{observed}$')\n",
    "ax.set_ylabel('residuals')\n",
    "ax.axhline(y = 0, linestyle = \":\")\n",
    "ax.grid(linestyle = ':')\n",
    "\n",
    "sol.x"
   ]
  },
  {
   "cell_type": "markdown",
   "id": "2467bbbc",
   "metadata": {},
   "source": [
    "# 5th method with residuals plots"
   ]
  },
  {
   "cell_type": "code",
   "execution_count": 7,
   "id": "6f9d6fe1",
   "metadata": {},
   "outputs": [
    {
     "name": "stdout",
     "output_type": "stream",
     "text": [
      "k  =  144.76736202802255\n",
      "Kb  =  1.390528638665779\n",
      "Kt  =  1.038410905746793\n"
     ]
    },
    {
     "data": {
      "image/png": "[encoded data removed]",
      "text/plain": [
       "<Figure size 1200x300 with 5 Axes>"
      ]
     },
     "metadata": {},
     "output_type": "display_data"
    },
    {
     "data": {
      "image/png": "[encoded data removed]",
      "text/plain": [
       "<Figure size 1200x300 with 5 Axes>"
      ]
     },
     "metadata": {},
     "output_type": "display_data"
    }
   ],
   "source": [
    "def fun(x, *params):\n",
    "    \n",
    "    k, Kb, Kt = params\n",
    "    \n",
    "    num = k*x[0]*x[1]\n",
    "    denom = 1+Kb*x[3]+Kt*x[0]\n",
    "    y = num/denom \n",
    "    \n",
    "    return y\n",
    "\n",
    "\n",
    "def residuals(params, x, y):\n",
    "    \n",
    "    return fun(x, *params) - y\n",
    "\n",
    "\n",
    "def min_fun(params, x, y, f):\n",
    "    \n",
    "    return np.linalg.norm(y - f(x, *params))\n",
    "  \n",
    "parameter_names = ['k', 'Kb', 'Kt']\n",
    "parameter_guess = [1, 1, 1]\n",
    "parameter_bounds = [(0.0, 200), (0.0, 10), (0.0, 10)]\n",
    "\n",
    "###################################################################\n",
    "def plot_residuals(r, data, ax=None):\n",
    "    rmax = np.max(np.abs(r))\n",
    "    if ax is None:\n",
    "        fig, ax = plt.subplots(1, len(data.columns), figsize=(12,3))\n",
    "    else:\n",
    "        rmax = max(ax[0].get_ylim()[1], rmax)\n",
    "    n = 0\n",
    "    for c in data.columns:\n",
    "        ax[n].scatter(data[c], r)\n",
    "        ax[n].set_ylim(-rmax, rmax)\n",
    "        ax[n].set_xlim(min(data[c]), max(data[c]))\n",
    "        ax[n].plot(ax[n].get_xlim(), [0,0], 'r')\n",
    "        ax[n].set_xlabel(c)\n",
    "        ax[n].set_title('Residuals') \n",
    "        ax[n].grid(True)\n",
    "        n += 1\n",
    "    plt.tight_layout()\n",
    "###################################################################\n",
    "\n",
    "sol = minimize(min_fun, \n",
    "               parameter_guess, \n",
    "               args=(x_data, y_observed, fun), \n",
    "               method='SLSQP',\n",
    "               bounds=parameter_bounds)\n",
    "\n",
    "for name, value in zip(parameter_names, sol.x):\n",
    "    print(name, \" = \", value)\n",
    "\n",
    "r = residuals(parameter_guess, x_data, y_observed)    \n",
    "ax = plot_residuals(r, data)\n",
    "\n",
    "r_best = residuals(sol.x, x_data, y_observed)\n",
    "plot_residuals(r_best, data, ax=ax)"
   ]
  }
 ],
 "metadata": {
  "kernelspec": {
   "display_name": "Python 3 (ipykernel)",
   "language": "python",
   "name": "python3"
  },
  "language_info": {
   "codemirror_mode": {
    "name": "ipython",
    "version": 3
   },
   "file_extension": ".py",
   "mimetype": "text/x-python",
   "name": "python",
   "nbconvert_exporter": "python",
   "pygments_lexer": "ipython3",
   "version": "3.10.10"
  }
 },
 "nbformat": 4,
 "nbformat_minor": 5
}
