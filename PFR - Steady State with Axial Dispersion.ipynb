{
 "cells": [
  {
   "cell_type": "code",
   "execution_count": 1,
   "id": "d1e6b66f",
   "metadata": {},
   "outputs": [],
   "source": [
    "import numpy as np\n",
    "import matplotlib.pyplot as plt\n",
    "from scipy.integrate import solve_bvp"
   ]
  },
  {
   "cell_type": "markdown",
   "id": "83a55db7",
   "metadata": {},
   "source": [
    "In general the general mass balance in gas phase is:\n",
    "\n",
    "\\begin{equation*}\\frac{d C}{d t} = - u \\frac{d C}{d x} + D \\frac{d^2 C}{d x^2} + R\\left(C,T\\right) \\tag{1}\\end{equation*}\n",
    "\n",
    "If we further assume that there is axial dispersion and we are in the steady state then the equation becomes:\n",
    "\n",
    "\\begin{equation*}0 = - u \\frac{d C}{d x} + D \\frac{d^2 C}{d x^2} + R\\left(C,T\\right) \\tag{2}\\end{equation*}\n",
    "\n",
    "where:\n",
    "\n",
    "*u: superficial velocity*\n",
    "\n",
    "*D: axial dispersion coefficient*\n",
    "\n",
    "*Ri: reaction rate*\n",
    "\n",
    "*Ci: concentration of species*\n",
    "\n",
    "\n",
    "The ODE obeys the following boundary conditions:\n",
    "\n",
    "\\begin{equation*}C_{io} = C_{i} - \\frac{D}{u}\\frac{d C_i}{d x}  ~at\\left(x = 0\\right) \\tag{3}\\end{equation*}\n",
    "\n",
    "\\begin{equation*}\\frac{d C_i}{d x} = 0  ~at\\left(x = L\\right) \\tag{4}\\end{equation*}\n",
    "\n",
    "where *L* is the total length of the reactor.\n",
    "\n",
    "For the sake of convenience the ODE is scaled by creating dimensionless variables as following:\n",
    "\n",
    "\\begin{equation*}v_i = \\frac{C_i}{C_{io}} = X_i \\tag{5}\\end{equation*}\n",
    "\n",
    "\\begin{equation*}z = \\frac{x}{L} \\tag{6}\\end{equation*}\n",
    "\n",
    "and by making:\n",
    "\n",
    "\\begin{equation*}C_i = C_{io}(1 - X_i) \\tag{7}\\end{equation*}\n",
    "\n",
    "the dependent variable represents the conversion of the reactant: \n",
    "\n",
    "\n",
    "The ODE is now:\n",
    "\n",
    "\\begin{equation*}\\frac{C_{io}u}{L} \\frac{d v_i}{d z} = (\\frac{C_{io}D}{L^2} \\frac{d^2 v_i}{d z^2} + R_iL^2) \\tag{8a}\\end{equation*}\n",
    "\n",
    "\\begin{equation*}\\frac{d^2 v_i}{d z^2} = Pe(\\frac{d v_i}{dz} + R_i\\frac{L}{C_{io}u}) \\tag{8b}\\end{equation*}\n",
    "                                                                       \n",
    "where:\n",
    "\n",
    "\\begin{equation*}Pe = \\frac{uL}{D} \\tag{9}\\end{equation*}\n",
    "                                                                        \n",
    "with Boundary Conditions (BC) given by:\n",
    "\n",
    "\\begin{equation*}\\frac{d v_i}{dz} = v_iPe~at~z = 0 \\tag{10a}\\end{equation*}\n",
    "\n",
    "Note that the boundary condition for z = 0 is specified from equation (10b), however for this example equation (10a) is used.\n",
    "\n",
    "\\begin{equation*}\\frac{d v_i}{dz} = Pe(v_i - 1)~at~z = 0 \\tag{10b}\\end{equation*}\n",
    "\n",
    "\\begin{equation*}\\frac{d v_i}{dz} = 0~v_i~at~z = 1 \\tag{11}\\end{equation*}\n",
    "\n",
    "The problem is to find the concentration of the reactant at the outlet for a first order reaction:\n",
    "\n",
    "\\begin{equation*}R_i = kC_{io}(1 - v_i) \\tag{12}\\end{equation*}\n",
    "\n",
    "\\begin{equation*}\\frac{kL}{u} = k_{t} \\tag{13}\\end{equation*}\n",
    "\n",
    "\\begin{equation*}\\frac{d^2 v_i}{d z^2} = Pe(\\frac{d v_i}{dz} + kC_{io}(1 - v_i)\\frac{L}{C_{io}u}) \\tag{14}\\end{equation*}\n",
    "\n",
    "\\begin{equation*}\\frac{d^2 v_i}{d z^2} = Pe(\\frac{d v_i}{dz} + k_t(1 - v_i)) \\tag{15}\\end{equation*}\n",
    "\n",
    "with Pe = 16, C$_{io}$ = 1 and k$_t$ = 2.0.\n",
    "\n",
    "***The problem was taken from E. B. Nauman, Chemical Reactor Design, Optimization, and Scaleup, McGraw-Hill, 2001***"
   ]
  },
  {
   "cell_type": "code",
   "execution_count": 10,
   "id": "efaf63f4",
   "metadata": {},
   "outputs": [
    {
     "name": "stdout",
     "output_type": "stream",
     "text": [
      "----------------------------------------------------------\n",
      "The numerical solution of the problem at the outlet is:\n",
      "Final Conversion =  1.000\n",
      "Final Concentration = -0.000\n",
      "----------------------------------------------------------\n"
     ]
    },
    {
     "data": {
      "image/png": "[encoded data removed]",
      "text/plain": [
       "<Figure size 800x400 with 1 Axes>"
      ]
     },
     "metadata": {},
     "output_type": "display_data"
    }
   ],
   "source": [
    "# Definition of the problem parameters\n",
    "\n",
    "Pe = 16.0\n",
    "Ci0 = 1.0\n",
    "kt = 2.0\n",
    "\n",
    "def ode(z, Y):\n",
    "    # the dependent variable represents the conversion\n",
    "    v, dv = Y\n",
    "    \n",
    "    ddv = Pe*(dv - kt*(1.0-v)) # from equation (15)\n",
    "    return np.stack([dv, ddv])\n",
    "\n",
    "# set boundary conditions\n",
    "def bc(va, vb):\n",
    "    \n",
    "    low_v, low_dv = va # left side\n",
    "    up_v, up_dv = vb # right side\n",
    "    \n",
    "    return np.array([low_dv - low_v*Pe, up_dv])\n",
    "\n",
    "x = np.linspace(0.0, 1.0, 100)\n",
    "y = np.zeros((2, x.size))\n",
    "\n",
    "sol = solve_bvp(ode, bc, x, y)\n",
    "\n",
    "v, dv = sol.y\n",
    "\n",
    "print ('----------------------------------------------------------')\n",
    "print ('The numerical solution of the problem at the outlet is:')\n",
    "print ('Final Conversion =  {:.3f}'.format(v[-1])) \n",
    "print ('Final Concentration = {:.3f}'.format(Ci0*(1-v[-1])))\n",
    "print ('----------------------------------------------------------')\n",
    "\n",
    "fig, ax = plt.subplots(figsize = (8,4), dpi = 100)\n",
    "ax.plot(sol.x, dv, 'b-')\n",
    "ax.plot(sol.x, v, 'g-')\n",
    "ax.legend(('dv', 'v'))\n",
    "ax.set_xlabel('Normalized Reactor Length')\n",
    "ax.set_ylabel('dv/dz')\n",
    "ax.set_title('System of ODEs for the Axial Dispersion Model')\n",
    "ax.grid('True')"
   ]
  },
  {
   "cell_type": "code",
   "execution_count": null,
   "id": "9066ca75",
   "metadata": {},
   "outputs": [],
   "source": []
  }
 ],
 "metadata": {
  "kernelspec": {
   "display_name": "Python 3 (ipykernel)",
   "language": "python",
   "name": "python3"
  },
  "language_info": {
   "codemirror_mode": {
    "name": "ipython",
    "version": 3
   },
   "file_extension": ".py",
   "mimetype": "text/x-python",
   "name": "python",
   "nbconvert_exporter": "python",
   "pygments_lexer": "ipython3",
   "version": "3.8.11"
  }
 },
 "nbformat": 4,
 "nbformat_minor": 5
}
