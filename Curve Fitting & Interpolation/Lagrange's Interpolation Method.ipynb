{
 "cells": [
  {
   "cell_type": "markdown",
   "id": "7b9afc1e",
   "metadata": {},
   "source": [
    "## The Lagrange interpolation formula is given by:\n",
    "\n",
    "$$ L_i(x) = \\prod_{j=0, j\\neq i}^{n} \\frac{{(x - x_j)}}{{(x_i - x_j)}} $$\n",
    "\n",
    "where:\n",
    "- \\\\( L_i(x) \\\\) is the \\\\( i \\\\)-th Lagrange basis polynomial.\n",
    "- \\\\( n \\\\) is the number of data points.\n",
    "- \\\\( x_i \\\\) and \\\\( x_j \\\\) are the \\\\( x \\\\)-coordinates of the data points.\n",
    "- \\\\( x \\\\) is the point at which the interpolation is performed.\n",
    "\n",
    "The interpolated value \\\\( y_p \\\\) at the point \\\\( x_p \\\\) can be obtained as:\n",
    "\n",
    "$$ y_p = \\sum_{i=0}^{n} L_i(x_p) \\cdot y_i $$\n",
    "\n",
    "where \\\\( y_i \\\\) are the corresponding \\\\( y \\\\)-coordinates of the data points.\n"
   ]
  },
  {
   "cell_type": "code",
   "execution_count": 6,
   "id": "947238bd",
   "metadata": {},
   "outputs": [
    {
     "data": {
      "text/plain": [
       "66.94765625"
      ]
     },
     "execution_count": 6,
     "metadata": {},
     "output_type": "execute_result"
    }
   ],
   "source": [
    "import numpy as np\n",
    "import matplotlib.pyplot as plt\n",
    "\n",
    "x = np.linspace(0,100, 6)\n",
    "y = np.array([26.0, 48.6, 61.6, 71.2, 74.8, 75.2])\n",
    "\n",
    "def lagrange_interpolation(x, y, xp):\n",
    "    n = len(x) - 1 # degree of the polynomial\n",
    "    index_i = range(n + 1)\n",
    "    index_j = range(n + 1)\n",
    "    p_values = np.array([ np.prod([(xp - x[j]) / (x[i] - x[j]) for j in index_j if j != i]) for i in index_i ])\n",
    "    yp = p_values.dot(y[index_i])\n",
    "    return yp\n",
    "\n",
    "lagrange_interpolation(x, y, 50)"
   ]
  },
  {
   "cell_type": "code",
   "execution_count": 7,
   "id": "07d56868",
   "metadata": {},
   "outputs": [
    {
     "name": "stdout",
     "output_type": "stream",
     "text": [
      "[  0.  20.  40.  60.  80. 100.]\n",
      "[26.  48.6 61.6 71.2 74.8 75.2]\n"
     ]
    }
   ],
   "source": [
    "x = np.linspace(0,100, 6)\n",
    "y = np.array([26.0, 48.6, 61.6, 71.2, 74.8, 75.2])\n",
    "\n",
    "print(x)\n",
    "print(y)"
   ]
  },
  {
   "cell_type": "code",
   "execution_count": 11,
   "id": "1c91f0db",
   "metadata": {},
   "outputs": [
    {
     "data": {
      "text/plain": [
       "[<matplotlib.lines.Line2D at 0x1df7616b490>]"
      ]
     },
     "execution_count": 11,
     "metadata": {},
     "output_type": "execute_result"
    },
    {
     "data": {
      "image/png": "[encoded data removed]",
      "text/plain": [
       "<Figure size 640x480 with 1 Axes>"
      ]
     },
     "metadata": {},
     "output_type": "display_data"
    }
   ],
   "source": [
    "x_test = np.linspace(min(x), max(x), 100)\n",
    "\n",
    "plt.plot(x, y, '.')\n",
    "plt.plot(x_test, [lagrange_interpolation(x, y, xi) for xi in x_test], '--')"
   ]
  }
 ],
 "metadata": {
  "kernelspec": {
   "display_name": "Python 3 (ipykernel)",
   "language": "python",
   "name": "python3"
  },
  "language_info": {
   "codemirror_mode": {
    "name": "ipython",
    "version": 3
   },
   "file_extension": ".py",
   "mimetype": "text/x-python",
   "name": "python",
   "nbconvert_exporter": "python",
   "pygments_lexer": "ipython3",
   "version": "3.10.10"
  }
 },
 "nbformat": 4,
 "nbformat_minor": 5
}
