{
 "cells": [
  {
   "cell_type": "markdown",
   "id": "7684c420",
   "metadata": {},
   "source": [
    "# Curve Fitting\n",
    "\n",
    "\n",
    "- In **interpolation** for example if we have six points then we will use a fifth degree interpolation (data_points-1), because the degree of the polynomial is related to the number of the data points.\n",
    "- In **curve fitting** the degree of the polynomial **is not related** to the number of data points so we can assume the degree of the polynomial."
   ]
  },
  {
   "cell_type": "markdown",
   "id": "1747bb93",
   "metadata": {},
   "source": [
    "The polynomial has the form\n",
    "\n",
    "\\\\( f(x) = a_0 + a_1x + a_2x^2 + ... + a_nx^n\\\\)\n",
    "\n",
    "Considering that a data set contains m opints to be fitted by the polynomial curve of degree n, a system of linear equations is formulated to calculate the values of the coefficients\n",
    "\n",
    "\\\\([A][a] = [B]\\\\)"
   ]
  },
  {
   "cell_type": "code",
   "execution_count": 53,
   "id": "0e0d8034",
   "metadata": {},
   "outputs": [
    {
     "name": "stdout",
     "output_type": "stream",
     "text": [
      "The polynomial :\n",
      "f(x) = \t 1.8349206349206588 + x^0\n",
      "\t 5.493386243385988 + x^1\n",
      "\t 0.040873015873166135 + x^2\n",
      "\t 0.24907407407405358 + x^3\n"
     ]
    }
   ],
   "source": [
    "import numpy as np\n",
    "\n",
    "x = np.arange(6)\n",
    "y = np.array([1.9, 7.8, 13.6, 27.8, 38.7, 61.9])\n",
    "m = len(x)\n",
    "n = 3 # degree of the polynomial\n",
    "A = np.zeros([n+1, n+1])\n",
    "B = np.zeros([n+1])\n",
    "a = np.zeros([n+1]) # coefficients of the polynomial\n",
    "\n",
    "for row in range(n+1):\n",
    "    for col in range(n+1):\n",
    "        if row == 0 and col == 0:\n",
    "            A[row, col] = m\n",
    "            continue\n",
    "        A[row,col] = np.sum(x**(row+col))\n",
    "    B[row] = np.sum(x**row*y)\n",
    "    \n",
    "a = np.linalg.solve(A, B)\n",
    "\n",
    "print('The polynomial :')\n",
    "print('f(x) = \\t {} + x^0'.format(a[0]))\n",
    "for i in range(1, n+1):\n",
    "    print('\\t {} + x^{}'.format(a[i],i))"
   ]
  }
 ],
 "metadata": {
  "kernelspec": {
   "display_name": "Python 3 (ipykernel)",
   "language": "python",
   "name": "python3"
  },
  "language_info": {
   "codemirror_mode": {
    "name": "ipython",
    "version": 3
   },
   "file_extension": ".py",
   "mimetype": "text/x-python",
   "name": "python",
   "nbconvert_exporter": "python",
   "pygments_lexer": "ipython3",
   "version": "3.10.10"
  }
 },
 "nbformat": 4,
 "nbformat_minor": 5
}
