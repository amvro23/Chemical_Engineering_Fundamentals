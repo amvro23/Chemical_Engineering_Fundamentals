{
 "cells": [
  {
   "cell_type": "markdown",
   "id": "7684c420",
   "metadata": {},
   "source": [
    "# Curve Fitting\n",
    "\n",
    "\n",
    "- In **interpolation** for example if we have six points then we will use a fifth degree interpolation (data_points-1), because the degree of the polynomial is related to the number of the data points.\n",
    "- In **curve fitting** the degree of the polynomial **is not related** to the number of data points so we can assume the degree of the polynomial."
   ]
  },
  {
   "cell_type": "markdown",
   "id": "1747bb93",
   "metadata": {},
   "source": [
    "The polynomial has the form\n",
    "\n",
    "\\\\( f(x) = a_0 + a_1x + a_2x^2 + ... + a_nx^n\\\\)\n",
    "\n",
    "Considering that a data set contains m opints to be fitted by the polynomial curve of degree n, a system of linear equations is formulated to calculate the values of the coefficients\n",
    "\n",
    "\\\\([A][a] = [B]\\\\)"
   ]
  },
  {
   "cell_type": "markdown",
   "id": "f7fbfcaf",
   "metadata": {},
   "source": [
    "### Using Linear Algebra"
   ]
  },
  {
   "cell_type": "code",
   "execution_count": 1,
   "id": "0e0d8034",
   "metadata": {},
   "outputs": [
    {
     "name": "stdout",
     "output_type": "stream",
     "text": [
      "The polynomial :\n",
      "f(x) = \t 2.582142857142851 + x^0\n",
      "\t 2.0810714285714265 + x^1\n",
      "\t 1.9089285714285726 + x^2\n"
     ]
    }
   ],
   "source": [
    "import numpy as np\n",
    "\n",
    "x = np.arange(6)\n",
    "y = np.array([1.9, 7.8, 13.6, 27.8, 38.7, 61.9])\n",
    "m = len(x)\n",
    "n = 2 # degree of the polynomial\n",
    "A = np.zeros([n+1, n+1])\n",
    "B = np.zeros([n+1])\n",
    "a = np.zeros([n+1]) # coefficients of the polynomial\n",
    "\n",
    "for row in range(n+1):\n",
    "    for col in range(n+1):\n",
    "        if row == 0 and col == 0:\n",
    "            A[row, col] = m\n",
    "            continue\n",
    "        A[row,col] = np.sum(x**(row+col))\n",
    "    B[row] = np.sum(x**row*y)\n",
    "    \n",
    "a = np.linalg.solve(A, B)\n",
    "\n",
    "print('The polynomial :')\n",
    "print('f(x) = \\t {} + x^0'.format(a[0]))\n",
    "for i in range(1, n+1):\n",
    "    print('\\t {} + x^{}'.format(a[i],i))"
   ]
  },
  {
   "cell_type": "markdown",
   "id": "c863d4be",
   "metadata": {},
   "source": [
    "### Using scipy"
   ]
  },
  {
   "cell_type": "code",
   "execution_count": 57,
   "id": "6f2adcfc",
   "metadata": {},
   "outputs": [
    {
     "data": {
      "text/plain": [
       "array([2.58214286, 2.08107143, 1.90892857])"
      ]
     },
     "execution_count": 57,
     "metadata": {},
     "output_type": "execute_result"
    }
   ],
   "source": [
    "from scipy.optimize import curve_fit\n",
    "\n",
    "x = np.arange(6)\n",
    "y = np.array([1.9, 7.8, 13.6, 27.8, 38.7, 61.9])\n",
    "\n",
    "def f(x, a0, a1, a2):\n",
    "    return a0*x**0 + a1*x**1 + a2*x**2\n",
    "\n",
    "popt, pcov = curve_fit(f, x, y)\n",
    "popt"
   ]
  },
  {
   "cell_type": "markdown",
   "id": "467f2df9",
   "metadata": {},
   "source": [
    "### A more generic approach with scipy"
   ]
  },
  {
   "cell_type": "code",
   "execution_count": 58,
   "id": "2a1b4985",
   "metadata": {},
   "outputs": [
    {
     "name": "stdout",
     "output_type": "stream",
     "text": [
      "Optimized Coefficients: [2.58214286 2.08107143 1.90892857]\n"
     ]
    }
   ],
   "source": [
    "# Define a generic polynomial function\n",
    "def polynomial(x, *coefficients):\n",
    "    return sum(coef * x**i for i, coef in enumerate(coefficients))\n",
    "\n",
    "# Data\n",
    "x = np.arange(6)\n",
    "y = np.array([1.9, 7.8, 13.6, 27.8, 38.7, 61.9])\n",
    "\n",
    "# Fit the data using the generic polynomial function\n",
    "initial_guess = [1.0, 1.0, 1.0]  # Initial guess for coefficients\n",
    "popt, pcov = curve_fit(polynomial, x, y, p0=initial_guess)\n",
    "\n",
    "# The optimized coefficients are stored in popt\n",
    "print(\"Optimized Coefficients:\", popt)"
   ]
  }
 ],
 "metadata": {
  "kernelspec": {
   "display_name": "Python 3 (ipykernel)",
   "language": "python",
   "name": "python3"
  },
  "language_info": {
   "codemirror_mode": {
    "name": "ipython",
    "version": 3
   },
   "file_extension": ".py",
   "mimetype": "text/x-python",
   "name": "python",
   "nbconvert_exporter": "python",
   "pygments_lexer": "ipython3",
   "version": "3.10.10"
  }
 },
 "nbformat": 4,
 "nbformat_minor": 5
}
