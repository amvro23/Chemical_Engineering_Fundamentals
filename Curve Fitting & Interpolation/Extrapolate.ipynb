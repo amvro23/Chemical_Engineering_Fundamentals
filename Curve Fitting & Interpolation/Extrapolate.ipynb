{
  "nbformat": 4,
  "nbformat_minor": 0,
  "metadata": {
    "colab": {
      "provenance": []
    },
    "kernelspec": {
      "name": "python3",
      "display_name": "Python 3"
    },
    "language_info": {
      "name": "python"
    }
  },
  "cells": [
    {
      "cell_type": "code",
      "execution_count": null,
      "metadata": {
        "id": "yFSh7dHMaO8w"
      },
      "outputs": [],
      "source": [
        "import numpy as np\n",
        "from scipy import interpolate\n",
        "import matplotlib.pyplot as plt\n",
        "\n",
        "# quadratic, slinear, cubic, zero\n",
        "\n",
        "x = np.arange(0,10)\n",
        "y = np.exp(-x/3.0)\n",
        "f = interpolate.interp1d(x, y, fill_value='extrapolate', kind = 'quadratic')\n",
        "\n",
        "print(f(9))\n",
        "print(f(11))\n",
        "\n",
        "plt.plot(x, y, 'ko', mfc = 'None')\n",
        "plt.plot(x, f(x))\n",
        "plt.plot(11, f(11), 'bo')\n",
        "\n",
        "plt.plot(np.linspace(0,11), f(np.linspace(0,11)), 'y--')"
      ]
    }
  ]
}