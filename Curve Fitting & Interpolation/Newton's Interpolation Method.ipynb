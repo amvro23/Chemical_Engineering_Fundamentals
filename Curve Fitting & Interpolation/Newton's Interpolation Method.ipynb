{
 "cells": [
  {
   "cell_type": "markdown",
   "id": "8394ffbc",
   "metadata": {},
   "source": [
    "# The Newton's Interpolation formula is given by:"
   ]
  },
  {
   "cell_type": "markdown",
   "id": "7b30f4da",
   "metadata": {},
   "source": [
    "\\\\( Δ^i f(x_0, x_1, ..., x_i) = (f(x_1, x_2, ..., x_i) - f(x_0, x_1, ..., x_i-1)) / (x_i - x_0)\\\\)\n",
    "\n",
    "\n",
    "\n",
    "\\\\(P(x) = a_n + (x - x_n)*(a_n-1 + (x - x_n-1)*(a_n-2 + ... (x - x_1)*(a_0))) \\\\)"
   ]
  },
  {
   "cell_type": "code",
   "execution_count": 1,
   "id": "70bcc33c",
   "metadata": {},
   "outputs": [],
   "source": [
    "import numpy as np\n",
    "import matplotlib.pyplot as plt"
   ]
  },
  {
   "cell_type": "code",
   "execution_count": 2,
   "id": "663c4fbb",
   "metadata": {},
   "outputs": [],
   "source": [
    "x = [0.0, 1.5, 2.8, 4.4, 6.1, 8.0]\n",
    "y = [0.0, 0.9, 2.5, 6.6, 7.7, 8.0]\n",
    "\n",
    "def _poly_newton_coefficient(x, y):\n",
    "    \"\"\"\n",
    "    x: list or np array contanining x data points\n",
    "    y: list or np array contanining y data points\n",
    "    \"\"\"\n",
    "\n",
    "    m = len(x)\n",
    "\n",
    "    x = np.copy(x)\n",
    "    a = np.copy(y)\n",
    "    for k in range(1, m):\n",
    "        a[k:m] = (a[k:m] - a[k - 1])/(x[k:m] - x[k - 1])\n",
    "\n",
    "    return a\n",
    "\n",
    "def newton_polynomial(x_data, y_data, x):\n",
    "    \"\"\"\n",
    "    x_data: data points at x\n",
    "    y_data: data points at y\n",
    "    x: evaluation point(s)\n",
    "    \"\"\"\n",
    "    a = _poly_newton_coefficient(x_data, y_data)\n",
    "    n = len(x_data) - 1  # Degree of polynomial\n",
    "    p = a[n]\n",
    "\n",
    "    for k in range(1, n + 1):\n",
    "        p = a[n - k] + (x - x_data[n - k])*p\n",
    "\n",
    "    return p"
   ]
  },
  {
   "cell_type": "code",
   "execution_count": 3,
   "id": "eb1e0612",
   "metadata": {},
   "outputs": [
    {
     "data": {
      "text/plain": [
       "array([0.        , 0.19582221, 0.35750863, 0.48898298, 0.59395446,\n",
       "       0.67592256, 0.73818195, 0.78382729, 0.81575806, 0.83668346,\n",
       "       0.84912717, 0.85543228, 0.85776606, 0.85812485, 0.85833887,\n",
       "       0.86007708, 0.86485204, 0.8740247 , 0.88880928, 0.91027814,\n",
       "       0.93936655, 0.97687759, 1.02348696, 1.07974785, 1.14609577,\n",
       "       1.22285339, 1.31023536, 1.40835321, 1.51722014, 1.63675589,\n",
       "       1.76679155, 1.90707446, 2.05727299, 2.21698143, 2.38572481,\n",
       "       2.56296372, 2.74809921, 2.94047759, 3.13939527, 3.34410364,\n",
       "       3.55381386, 3.76770175, 3.9849126 , 4.20456604, 4.42576084,\n",
       "       4.64757982, 4.86909461, 5.08937056, 5.30747154, 5.52246483,\n",
       "       5.7334259 , 5.93944329, 6.13962345, 6.3330956 , 6.51901651,\n",
       "       6.69657542, 6.86499882, 7.02355535, 7.17156057, 7.30838189,\n",
       "       7.43344332, 7.54623039, 7.64629494, 7.73326001, 7.80682464,\n",
       "       7.86676871, 7.91295783, 7.94534815, 7.96399118, 7.96903868,\n",
       "       7.96074748, 7.93948431, 7.90573067, 7.86008764, 7.80328076,\n",
       "       7.73616483, 7.6597288 , 7.57510057, 7.48355185, 7.38650301,\n",
       "       7.28552791, 7.18235874, 7.07889088, 6.97718773, 6.87948556,\n",
       "       6.78819833, 6.70592255, 6.63544214, 6.57973325, 6.54196908,\n",
       "       6.52552479, 6.53398226, 6.57113501, 6.64099297, 6.74778739,\n",
       "       6.89597564, 7.09024605, 7.33552279, 7.63697067, 8.        ])"
      ]
     },
     "execution_count": 3,
     "metadata": {},
     "output_type": "execute_result"
    }
   ],
   "source": [
    "x_test = np.linspace(min(x), max(x), 100)\n",
    "newton_polynomial(x, y, x_test)"
   ]
  },
  {
   "cell_type": "code",
   "execution_count": 4,
   "id": "b7bda01b",
   "metadata": {},
   "outputs": [
    {
     "data": {
      "text/plain": [
       "[<matplotlib.lines.Line2D at 0x1d0c9587040>]"
      ]
     },
     "execution_count": 4,
     "metadata": {},
     "output_type": "execute_result"
    },
    {
     "data": {
      "image/png": "[encoded data removed]",
      "text/plain": [
       "<Figure size 640x480 with 1 Axes>"
      ]
     },
     "metadata": {},
     "output_type": "display_data"
    }
   ],
   "source": [
    "plt.plot(x,y, 'o')\n",
    "plt.plot(x_test, newton_polynomial(x, y, x_test), '-')"
   ]
  }
 ],
 "metadata": {
  "kernelspec": {
   "display_name": "Python 3 (ipykernel)",
   "language": "python",
   "name": "python3"
  },
  "language_info": {
   "codemirror_mode": {
    "name": "ipython",
    "version": 3
   },
   "file_extension": ".py",
   "mimetype": "text/x-python",
   "name": "python",
   "nbconvert_exporter": "python",
   "pygments_lexer": "ipython3",
   "version": "3.10.10"
  }
 },
 "nbformat": 4,
 "nbformat_minor": 5
}
