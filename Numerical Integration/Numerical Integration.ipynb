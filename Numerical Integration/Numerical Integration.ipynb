{
 "cells": [
  {
   "cell_type": "markdown",
   "id": "2a6a6fbc",
   "metadata": {},
   "source": [
    "# Numerical Integration"
   ]
  },
  {
   "cell_type": "code",
   "execution_count": 1,
   "id": "50f20591",
   "metadata": {},
   "outputs": [],
   "source": [
    "import numpy as np\n",
    "from scipy.integrate import simpson, quad, dblquad\n",
    "import matplotlib.pyplot as plt"
   ]
  },
  {
   "cell_type": "markdown",
   "id": "12a7d81a",
   "metadata": {},
   "source": [
    "# Example 1"
   ]
  },
  {
   "cell_type": "markdown",
   "id": "a3268528",
   "metadata": {},
   "source": [
    "### Define the function"
   ]
  },
  {
   "cell_type": "code",
   "execution_count": 2,
   "id": "782e86b1",
   "metadata": {},
   "outputs": [],
   "source": [
    "f = lambda x: 0.5 + 0.1*x + 0.2*x**2 + 0.03*x**3"
   ]
  },
  {
   "cell_type": "markdown",
   "id": "9dd93b09",
   "metadata": {},
   "source": [
    "### Analytical solution"
   ]
  },
  {
   "cell_type": "markdown",
   "id": "e3e550c1",
   "metadata": {},
   "source": [
    "\\\\( f(x) = \\frac{1}{2} + \\frac{1}{10}x + \\frac{1}{5}x^2 + \\frac{3}{100}x^3 \\\\)\n",
    "\n",
    "\\\\( A = \\int_{-3}^3 f(x)\\,\\mathrm{d}x = \\int_{-3}^3\\left(\\frac{1}{2} + \\frac{1}{10}x + \\frac{1}{5}x^2 + \\frac{3}{100}x^3\\right)\\,\\mathrm{d}x = \\left[\\frac{1}{2}x + \\frac{1}{20}x^2 + \\frac{1}{15}x^3 + \\frac{3}{400}x^4\\right]_{-3}^3\\\\)"
   ]
  },
  {
   "cell_type": "code",
   "execution_count": 3,
   "id": "ad78415b",
   "metadata": {},
   "outputs": [
    {
     "data": {
      "text/plain": [
       "6.6"
      ]
     },
     "execution_count": 3,
     "metadata": {},
     "output_type": "execute_result"
    }
   ],
   "source": [
    "( 1/2*(3) + 1/20*(3)**2 + 1/15*(3)**3 + 3/400*(3)**4 ) - ( 1/2*(-3) + 1/20*(-3)**2 + 1/15*(-3)**3 + 3/400*(-3)**4 )"
   ]
  },
  {
   "cell_type": "markdown",
   "id": "ee2da57e",
   "metadata": {},
   "source": [
    "### Create data"
   ]
  },
  {
   "cell_type": "code",
   "execution_count": 4,
   "id": "755ca570",
   "metadata": {},
   "outputs": [],
   "source": [
    "a = -3\n",
    "b = 3\n",
    "n = 13\n",
    "x = np.linspace(a, b, n)\n",
    "y = f(x)"
   ]
  },
  {
   "cell_type": "markdown",
   "id": "7f52685e",
   "metadata": {},
   "source": [
    "### Create plot"
   ]
  },
  {
   "cell_type": "code",
   "execution_count": 5,
   "id": "95b8b018",
   "metadata": {},
   "outputs": [
    {
     "data": {
      "text/plain": [
       "<matplotlib.collections.PolyCollection at 0x25ed3d6ff70>"
      ]
     },
     "execution_count": 5,
     "metadata": {},
     "output_type": "execute_result"
    },
    {
     "data": {
      "image/png": "[encoded data removed]",
      "text/plain": [
       "<Figure size 640x480 with 1 Axes>"
      ]
     },
     "metadata": {},
     "output_type": "display_data"
    }
   ],
   "source": [
    "plt.plot(x, y, '-o', label = 'data')\n",
    "plt.ylim(0, 4)\n",
    "plt.legend()\n",
    "plt.fill_between(x, y, color = 'pink')"
   ]
  },
  {
   "cell_type": "markdown",
   "id": "47f09fe7",
   "metadata": {},
   "source": [
    "## 1. Trapezoidal rule"
   ]
  },
  {
   "cell_type": "markdown",
   "id": "a43aa8bd",
   "metadata": {},
   "source": [
    "Corresponds to integrating a linear spline through the data points. It is now possible to properly deal with non-equidistant data.\n",
    "\n",
    "\\\\( A = \\int_{a}^b f(x)\\,\\mathrm{d}x \\approx \\sum_{i=1}^{n-1} \\frac{f(x_{i+1})+f(x_{i})}{2}(x_{i+1}-x_i)\\\\)"
   ]
  },
  {
   "cell_type": "markdown",
   "id": "49c1bdb2",
   "metadata": {},
   "source": [
    "### Using for loop"
   ]
  },
  {
   "cell_type": "code",
   "execution_count": 6,
   "id": "f531718a",
   "metadata": {},
   "outputs": [
    {
     "data": {
      "text/plain": [
       "6.650000000000001"
      ]
     },
     "execution_count": 6,
     "metadata": {},
     "output_type": "execute_result"
    }
   ],
   "source": [
    "def integralTrapezoidal(x, y):\n",
    "    A = 0\n",
    "    n = len(x)\n",
    "    A = sum((y[i+1] + y[i]) / 2*(x[i+1] - x[i]) for i in range(n-1))\n",
    "    return A\n",
    "\n",
    "integralTrapezoidal(x, y)"
   ]
  },
  {
   "cell_type": "markdown",
   "id": "35de59fe",
   "metadata": {},
   "source": [
    "### Using Numpy arrays"
   ]
  },
  {
   "cell_type": "code",
   "execution_count": 7,
   "id": "b829018d",
   "metadata": {},
   "outputs": [
    {
     "data": {
      "text/plain": [
       "6.650000000000001"
      ]
     },
     "execution_count": 7,
     "metadata": {},
     "output_type": "execute_result"
    }
   ],
   "source": [
    "def integralTrapezoidal2(x, y):\n",
    "    dx = np.diff(x)\n",
    "    A = sum((y[1:] + y[:-1]) / 2 * dx)\n",
    "    return A\n",
    "\n",
    "integralTrapezoidal2(x, y)"
   ]
  },
  {
   "cell_type": "markdown",
   "id": "71ee5cb7",
   "metadata": {},
   "source": [
    "### Using Numpy package"
   ]
  },
  {
   "cell_type": "code",
   "execution_count": 8,
   "id": "fdc10a2d",
   "metadata": {},
   "outputs": [
    {
     "data": {
      "text/plain": [
       "6.650000000000001"
      ]
     },
     "execution_count": 8,
     "metadata": {},
     "output_type": "execute_result"
    }
   ],
   "source": [
    "np.trapz(y, x)"
   ]
  },
  {
   "cell_type": "markdown",
   "id": "94ca4be3",
   "metadata": {},
   "source": [
    "## 2. Simpson rule"
   ]
  },
  {
   "cell_type": "markdown",
   "id": "068a1b2b",
   "metadata": {},
   "source": [
    "This method corresponds to integrating a polynomial interpolation function through the data points. The coefficients have been optimized accordingly."
   ]
  },
  {
   "cell_type": "markdown",
   "id": "b658f540",
   "metadata": {},
   "source": [
    "Careful! This method works only if there are an **odd number** of data points.\n",
    "\n",
    "\\\\( A = \\int_{a}^b f(x)\\,\\mathrm{d}x \\approx \\frac{b-a}{n-1} \\left[ \\frac{1}{3}f(x_1) + \\frac{4}{3}f(x_2) + \\frac{2}{3}f(x_3) + \\frac{4}{3}f(x_4) + \\dots + \\frac{4}{3}f(x_{n-3}) + \\frac{2}{3}f(x_{n-2}) + \\frac{4}{3}f(x_{n-1}) + \\frac{1}{3}f(x_n) \\right]\\\\)"
   ]
  },
  {
   "cell_type": "markdown",
   "id": "d379cd21",
   "metadata": {},
   "source": [
    "### Using Numpy arrays"
   ]
  },
  {
   "cell_type": "code",
   "execution_count": 9,
   "id": "f4d56ef2",
   "metadata": {},
   "outputs": [
    {
     "data": {
      "text/plain": [
       "6.6"
      ]
     },
     "execution_count": 9,
     "metadata": {},
     "output_type": "execute_result"
    }
   ],
   "source": [
    "def integralSimpson(x, y):\n",
    "    n = len(x)\n",
    "    b  = x[-1]\n",
    "    a = x[0]\n",
    "    term = ((b-a)/(n-1))\n",
    "    return term*( 1/3*y[0] + 4/3*sum(y[1:-1:2]) + sum(2/3*y[2:-1:2]) + 1/3*y[-1])\n",
    "\n",
    "integralSimpson(x, y)"
   ]
  },
  {
   "cell_type": "markdown",
   "id": "1a0b411b",
   "metadata": {},
   "source": [
    "### Using Scipy package"
   ]
  },
  {
   "cell_type": "code",
   "execution_count": 10,
   "id": "f02199e5",
   "metadata": {},
   "outputs": [
    {
     "data": {
      "text/plain": [
       "6.6000000000000005"
      ]
     },
     "execution_count": 10,
     "metadata": {},
     "output_type": "execute_result"
    }
   ],
   "source": [
    "simpson(y, x)"
   ]
  },
  {
   "cell_type": "markdown",
   "id": "4508181a",
   "metadata": {},
   "source": [
    "# Example 2"
   ]
  },
  {
   "cell_type": "markdown",
   "id": "a844956d",
   "metadata": {},
   "source": [
    "### Define the function"
   ]
  },
  {
   "cell_type": "code",
   "execution_count": 11,
   "id": "40331e47",
   "metadata": {},
   "outputs": [],
   "source": [
    "g = lambda x: x*np.sin(x)"
   ]
  },
  {
   "cell_type": "markdown",
   "id": "74926ed8",
   "metadata": {},
   "source": [
    "The result of analytical solution is 1"
   ]
  },
  {
   "cell_type": "markdown",
   "id": "96f0f20e",
   "metadata": {},
   "source": [
    "### Using Numpy and Scipy packages"
   ]
  },
  {
   "cell_type": "code",
   "execution_count": 12,
   "id": "48e69db1",
   "metadata": {},
   "outputs": [
    {
     "name": "stdout",
     "output_type": "stream",
     "text": [
      "Trapezoidal rule using numpy: 1.00002097942522\n",
      "Gauss-Kronrod quadrature algorithm using scipy: (1.0, 1.1102230246251565e-14)\n",
      "Simpson rule: 1.0000000743305\n"
     ]
    }
   ],
   "source": [
    "a = 0\n",
    "b = np.pi/2\n",
    "n = 100\n",
    "x = np.linspace(a, b, n)\n",
    "\n",
    "print('Trapezoidal rule using numpy:', np.trapz(g(x), x))\n",
    "print('Gauss-Kronrod quadrature algorithm using scipy:', quad(g, a, b))\n",
    "print('Simpson rule:', simpson(g(x), x))"
   ]
  },
  {
   "cell_type": "markdown",
   "id": "b675e432",
   "metadata": {},
   "source": [
    "*Note that the second value of the Gauss-Kronrod is the estimated absolute error.*"
   ]
  },
  {
   "cell_type": "markdown",
   "id": "37077ad4",
   "metadata": {},
   "source": [
    "# Double Integrations"
   ]
  },
  {
   "cell_type": "markdown",
   "id": "23dc8430",
   "metadata": {},
   "source": [
    "# Example 3"
   ]
  },
  {
   "cell_type": "markdown",
   "id": "6676694c",
   "metadata": {},
   "source": [
    "\\\\( \\int_{x=0}^{x=2} \\int_{y=0}^{y=1} xy^2dydx \\\\)"
   ]
  },
  {
   "cell_type": "code",
   "execution_count": 13,
   "id": "6c4cb767",
   "metadata": {},
   "outputs": [
    {
     "data": {
      "text/plain": [
       "(0.6666666666666667, 7.401486830834377e-15)"
      ]
     },
     "execution_count": 13,
     "metadata": {},
     "output_type": "execute_result"
    }
   ],
   "source": [
    "h = lambda y, x: x*y**2\n",
    "dblquad(h, 0, 2, 0, 1)"
   ]
  },
  {
   "cell_type": "markdown",
   "id": "0412fbf8",
   "metadata": {},
   "source": [
    "# Example 4"
   ]
  },
  {
   "cell_type": "markdown",
   "id": "177c97ca",
   "metadata": {},
   "source": [
    "\\\\( \\int_{x=0}^{x=1} \\int_{y=x}^{y=2-x} axy^2dydx \\\\) for a = 1,3."
   ]
  },
  {
   "cell_type": "code",
   "execution_count": 14,
   "id": "ce7a8d9d",
   "metadata": {},
   "outputs": [
    {
     "name": "stdout",
     "output_type": "stream",
     "text": [
      "(0.33333333333333337, 5.551115123125783e-15) for a=1\n",
      "(1.0, 1.6653345369377348e-14) for a=3\n"
     ]
    }
   ],
   "source": [
    "l = lambda y, x, a: a*x*y\n",
    "print(dblquad(l, 0, 1, lambda x: x, lambda x: 2-x, args=(1,)), 'for a=1')\n",
    "print(dblquad(l, 0, 1, lambda x: x, lambda x: 2-x, args=(3,)), 'for a=3')"
   ]
  },
  {
   "cell_type": "markdown",
   "id": "88165414",
   "metadata": {},
   "source": [
    "# Example 5"
   ]
  },
  {
   "cell_type": "markdown",
   "id": "fe771b6b",
   "metadata": {},
   "source": [
    "Compute the two-dimensional Gaussian Integral, which is the integral of the Gaussian function"
   ]
  },
  {
   "cell_type": "markdown",
   "id": "709ae489",
   "metadata": {},
   "source": [
    "\\\\( \\int \\int_{-\\infty}^{+\\infty} e^{-(x^2 + y^2)}dydx \\\\)"
   ]
  },
  {
   "cell_type": "code",
   "execution_count": 15,
   "id": "06eab7fc",
   "metadata": {},
   "outputs": [
    {
     "data": {
      "text/plain": [
       "(3.141592653589777, 2.5173086737433208e-08)"
      ]
     },
     "execution_count": 15,
     "metadata": {},
     "output_type": "execute_result"
    }
   ],
   "source": [
    "m = lambda x, y: np.exp(-(x ** 2 + y ** 2))\n",
    "dblquad(m, -np.inf, np.inf, -np.inf, np.inf)"
   ]
  },
  {
   "cell_type": "markdown",
   "id": "ff2cec3e",
   "metadata": {},
   "source": [
    "# Example 6"
   ]
  },
  {
   "cell_type": "markdown",
   "id": "1a6f475e",
   "metadata": {},
   "source": [
    "\\\\( \\int_{y=-1}^{y=1} \\int_{x=1}^{x=2} (x^2y + xy^2)dxdy \\\\)"
   ]
  },
  {
   "cell_type": "code",
   "execution_count": 16,
   "id": "a4ea87ad",
   "metadata": {},
   "outputs": [],
   "source": [
    "q = lambda x, y: x**2*y + x*y**2"
   ]
  },
  {
   "cell_type": "code",
   "execution_count": 17,
   "id": "d79d4b26",
   "metadata": {},
   "outputs": [
    {
     "name": "stdout",
     "output_type": "stream",
     "text": [
      "The absolute error is 4.230171575788777e-14\n"
     ]
    }
   ],
   "source": [
    "dblquad(q, -1, 1, 1, 2)\n",
    "print('The absolute error is', dblquad(q, -1, 1, 1, 2)[1])"
   ]
  },
  {
   "cell_type": "code",
   "execution_count": 18,
   "id": "05627b99",
   "metadata": {},
   "outputs": [
    {
     "name": "stdout",
     "output_type": "stream",
     "text": [
      "The integral value is 1.0\n"
     ]
    }
   ],
   "source": [
    "I, _ = dblquad(q, -1, 1, 1, 2)\n",
    "print('The integral value is', I)"
   ]
  }
 ],
 "metadata": {
  "kernelspec": {
   "display_name": "Python 3 (ipykernel)",
   "language": "python",
   "name": "python3"
  },
  "language_info": {
   "codemirror_mode": {
    "name": "ipython",
    "version": 3
   },
   "file_extension": ".py",
   "mimetype": "text/x-python",
   "name": "python",
   "nbconvert_exporter": "python",
   "pygments_lexer": "ipython3",
   "version": "3.10.10"
  }
 },
 "nbformat": 4,
 "nbformat_minor": 5
}
