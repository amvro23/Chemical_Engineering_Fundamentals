{
 "cells": [
  {
   "cell_type": "code",
   "execution_count": 1,
   "id": "9dd14c8c",
   "metadata": {},
   "outputs": [],
   "source": [
    "import numpy as np\n",
    "import pandas as pd\n",
    "from lmfit import Model"
   ]
  },
  {
   "attachments": {},
   "cell_type": "markdown",
   "id": "7af49bc6",
   "metadata": {},
   "source": [
    "**Hydrogenation of Ethylene to Ethane**\n",
    "\n",
    "You can download Fogler's book from here: https://doku.pub/download/h-scott-fogler-essentials-of-chemical-reaction-engineering-z0x2ze484wqn\n",
    "\n",
    "$H_2 + C_2H_4 -> C_2H_6$\n",
    "\n",
    "Carry out a nonlinear regression analysis on the data given and determine which rate law best describes the **differential reactor (DR)** data.\n",
    "\n",
    "$(a) -r'_E = \\frac{kP_EP_H}{1+K_{EA}P_{EA}+K_EP_E}$\n",
    "\n",
    "$(b) -r'_E = \\frac{kP_EP_H}{1+K_{E}P_{E}}$\n",
    "\n",
    "$(c) -r'_E = \\frac{kP_EP_H}{(1+K_{E}P_{E})^2}$\n",
    "\n",
    "$(d) -r'_E = kP_E^aP_H^b $"
   ]
  },
  {
   "cell_type": "code",
   "execution_count": 2,
   "id": "d3333359",
   "metadata": {},
   "outputs": [
    {
     "data": {
      "text/html": [
       "<div>\n",
       "<style scoped>\n",
       "    .dataframe tbody tr th:only-of-type {\n",
       "        vertical-align: middle;\n",
       "    }\n",
       "\n",
       "    .dataframe tbody tr th {\n",
       "        vertical-align: top;\n",
       "    }\n",
       "\n",
       "    .dataframe thead th {\n",
       "        text-align: right;\n",
       "    }\n",
       "</style>\n",
       "<table border=\"1\" class=\"dataframe\">\n",
       "  <thead>\n",
       "    <tr style=\"text-align: right;\">\n",
       "      <th></th>\n",
       "      <th>Reaction Rate (mol/kg$_{cat}$/s)</th>\n",
       "      <th>P$_E$ (atm)</th>\n",
       "      <th>P$_{EA}$ (atm)</th>\n",
       "      <th>P$_H$ (atm)</th>\n",
       "    </tr>\n",
       "    <tr>\n",
       "      <th>Run Number</th>\n",
       "      <th></th>\n",
       "      <th></th>\n",
       "      <th></th>\n",
       "      <th></th>\n",
       "    </tr>\n",
       "  </thead>\n",
       "  <tbody>\n",
       "    <tr>\n",
       "      <th>1</th>\n",
       "      <td>1.040</td>\n",
       "      <td>1.0</td>\n",
       "      <td>1.0</td>\n",
       "      <td>1.0</td>\n",
       "    </tr>\n",
       "    <tr>\n",
       "      <th>2</th>\n",
       "      <td>3.130</td>\n",
       "      <td>1.0</td>\n",
       "      <td>1.0</td>\n",
       "      <td>3.0</td>\n",
       "    </tr>\n",
       "    <tr>\n",
       "      <th>3</th>\n",
       "      <td>5.210</td>\n",
       "      <td>1.0</td>\n",
       "      <td>1.0</td>\n",
       "      <td>5.0</td>\n",
       "    </tr>\n",
       "    <tr>\n",
       "      <th>4</th>\n",
       "      <td>3.820</td>\n",
       "      <td>3.0</td>\n",
       "      <td>1.0</td>\n",
       "      <td>3.0</td>\n",
       "    </tr>\n",
       "    <tr>\n",
       "      <th>5</th>\n",
       "      <td>4.190</td>\n",
       "      <td>5.0</td>\n",
       "      <td>1.0</td>\n",
       "      <td>3.0</td>\n",
       "    </tr>\n",
       "    <tr>\n",
       "      <th>6</th>\n",
       "      <td>2.391</td>\n",
       "      <td>0.5</td>\n",
       "      <td>1.0</td>\n",
       "      <td>3.0</td>\n",
       "    </tr>\n",
       "    <tr>\n",
       "      <th>7</th>\n",
       "      <td>3.867</td>\n",
       "      <td>0.5</td>\n",
       "      <td>0.5</td>\n",
       "      <td>5.0</td>\n",
       "    </tr>\n",
       "    <tr>\n",
       "      <th>8</th>\n",
       "      <td>2.199</td>\n",
       "      <td>0.5</td>\n",
       "      <td>3.0</td>\n",
       "      <td>3.0</td>\n",
       "    </tr>\n",
       "    <tr>\n",
       "      <th>9</th>\n",
       "      <td>0.750</td>\n",
       "      <td>0.5</td>\n",
       "      <td>5.0</td>\n",
       "      <td>1.0</td>\n",
       "    </tr>\n",
       "  </tbody>\n",
       "</table>\n",
       "</div>"
      ],
      "text/plain": [
       "            Reaction Rate (mol/kg$_{cat}$/s)  P$_E$ (atm)  P$_{EA}$ (atm)  \\\n",
       "Run Number                                                                  \n",
       "1                                      1.040          1.0             1.0   \n",
       "2                                      3.130          1.0             1.0   \n",
       "3                                      5.210          1.0             1.0   \n",
       "4                                      3.820          3.0             1.0   \n",
       "5                                      4.190          5.0             1.0   \n",
       "6                                      2.391          0.5             1.0   \n",
       "7                                      3.867          0.5             0.5   \n",
       "8                                      2.199          0.5             3.0   \n",
       "9                                      0.750          0.5             5.0   \n",
       "\n",
       "            P$_H$ (atm)  \n",
       "Run Number               \n",
       "1                   1.0  \n",
       "2                   3.0  \n",
       "3                   5.0  \n",
       "4                   3.0  \n",
       "5                   3.0  \n",
       "6                   3.0  \n",
       "7                   5.0  \n",
       "8                   3.0  \n",
       "9                   1.0  "
      ]
     },
     "execution_count": 2,
     "metadata": {},
     "output_type": "execute_result"
    }
   ],
   "source": [
    "df = pd.DataFrame()\n",
    "df['Run Number'] = [1, 2, 3, 4, 5, 6, 7, 8, 9]\n",
    "df['Reaction Rate (mol/kg$_{cat}$/s)'] = [1.04, 3.13, 5.21, 3.82, 4.19, 2.391, 3.867, 2.199, 0.75]\n",
    "df['P$_E$ (atm)'] = [1., 1., 1., 3., 5., 0.5, 0.5, 0.5, 0.5]\n",
    "df['P$_{EA}$ (atm)'] = [1., 1., 1., 1., 1., 1., 0.5, 3., 5.]\n",
    "df['P$_H$ (atm)'] = [1., 3., 5., 3., 3., 3., 5., 3., 1.]\n",
    "\n",
    "df = df.set_index('Run Number')\n",
    "\n",
    "df"
   ]
  },
  {
   "cell_type": "code",
   "execution_count": 3,
   "id": "0310eb33",
   "metadata": {},
   "outputs": [],
   "source": [
    "ydata = df.iloc[:, 0].T.values\n",
    "xdata = df.iloc[:, 1:].T.values"
   ]
  },
  {
   "cell_type": "markdown",
   "id": "ee39e9e2",
   "metadata": {},
   "source": [
    "### model (a)"
   ]
  },
  {
   "cell_type": "code",
   "execution_count": 4,
   "id": "dcdda6d1",
   "metadata": {},
   "outputs": [
    {
     "name": "stdout",
     "output_type": "stream",
     "text": [
      "[[Model]]\n",
      "    Model(y_calc_A)\n",
      "[[Fit Statistics]]\n",
      "    # fitting method   = leastsq\n",
      "    # function evals   = 38\n",
      "    # data points      = 9\n",
      "    # variables        = 3\n",
      "    chi-square         = 0.02961672\n",
      "    reduced chi-square = 0.00493612\n",
      "    Akaike info crit   = -45.4497667\n",
      "    Bayesian info crit = -44.8580930\n",
      "[[Variables]]\n",
      "    k:     3.34787630 +/- 0.15980989 (4.77%) (init = 1)\n",
      "    K_EA:  0.04284145 +/- 0.02916203 (68.07%) (init = 1)\n",
      "    K_E:   2.21107624 +/- 0.13031663 (5.89%) (init = 1)\n",
      "[[Correlations]] (unreported correlations are < 0.100)\n",
      "    C(k, K_E)    = 0.977\n",
      "    C(k, K_EA)   = 0.689\n",
      "    C(K_EA, K_E) = 0.581\n"
     ]
    }
   ],
   "source": [
    "def y_calc_A(x, k, K_EA, K_E):\n",
    "    \n",
    "    num = k*x[0]*x[2]\n",
    "    denom = 1+K_EA*x[1]+K_E*x[0]\n",
    "    y = num/denom\n",
    "    \n",
    "    return y\n",
    "\n",
    "model_A = Model(y_calc_A)\n",
    "\n",
    "result_A = model_A.fit(ydata, x=xdata, k=1.0, K_EA=1.0, K_E=1.0)\n",
    "\n",
    "print(result_A.fit_report())"
   ]
  },
  {
   "cell_type": "markdown",
   "id": "49cdc57b",
   "metadata": {},
   "source": [
    "### model (b)"
   ]
  },
  {
   "cell_type": "code",
   "execution_count": 5,
   "id": "6a2d91cc",
   "metadata": {},
   "outputs": [
    {
     "name": "stdout",
     "output_type": "stream",
     "text": [
      "[[Model]]\n",
      "    Model(y_calc_B)\n",
      "[[Fit Statistics]]\n",
      "    # fitting method   = leastsq\n",
      "    # function evals   = 16\n",
      "    # data points      = 9\n",
      "    # variables        = 2\n",
      "    chi-square         = 0.04237352\n",
      "    reduced chi-square = 0.00605336\n",
      "    Akaike info crit   = -44.2261049\n",
      "    Bayesian info crit = -43.8316558\n",
      "[[Variables]]\n",
      "    k:    3.18678195 +/- 0.12178901 (3.82%) (init = 1)\n",
      "    K_E:  2.10133338 +/- 0.11159830 (5.31%) (init = 1)\n",
      "[[Correlations]] (unreported correlations are < 0.100)\n",
      "    C(k, K_E) = 0.978\n"
     ]
    }
   ],
   "source": [
    "def y_calc_B(x, k, K_E):\n",
    "    \n",
    "    num = k*x[0]*x[2]\n",
    "    denom = 1+K_E*x[0]\n",
    "    y = num/denom\n",
    "    \n",
    "    return y\n",
    "\n",
    "model_B = Model(y_calc_B)\n",
    "\n",
    "result_B = model_B.fit(ydata, x=xdata, k=1.0, K_E=1.0)\n",
    "\n",
    "print(result_B.fit_report())"
   ]
  },
  {
   "cell_type": "markdown",
   "id": "37d43756",
   "metadata": {},
   "source": [
    "### model (c)"
   ]
  },
  {
   "cell_type": "code",
   "execution_count": 6,
   "id": "c025b408",
   "metadata": {},
   "outputs": [
    {
     "name": "stdout",
     "output_type": "stream",
     "text": [
      "[[Model]]\n",
      "    Model(y_calc_C)\n",
      "[[Fit Statistics]]\n",
      "    # fitting method   = leastsq\n",
      "    # function evals   = 30\n",
      "    # data points      = 9\n",
      "    # variables        = 2\n",
      "    chi-square         = 0.43612186\n",
      "    reduced chi-square = 0.06230312\n",
      "    Akaike info crit   = -23.2435235\n",
      "    Bayesian info crit = -22.8490743\n",
      "[[Variables]]\n",
      "    k:    2.00878307 +/- 0.11255632 (5.60%) (init = 1)\n",
      "    K_E:  0.36166703 +/- 0.02634703 (7.28%) (init = 1)\n",
      "[[Correlations]] (unreported correlations are < 0.100)\n",
      "    C(k, K_E) = 0.890\n"
     ]
    }
   ],
   "source": [
    "def y_calc_C(x, k, K_E):\n",
    "    \n",
    "    num = k*x[0]*x[2]\n",
    "    denom = (1+K_E*x[0])**2\n",
    "    y = num/denom\n",
    "    \n",
    "    return y\n",
    "\n",
    "model_C = Model(y_calc_C)\n",
    "\n",
    "result_C = model_C.fit(ydata, x=xdata, k=1.0, K_E=1.0)\n",
    "\n",
    "print(result_C.fit_report())"
   ]
  },
  {
   "cell_type": "markdown",
   "id": "d1daf583",
   "metadata": {},
   "source": [
    "### model (d)"
   ]
  },
  {
   "cell_type": "code",
   "execution_count": 7,
   "id": "da7e8793",
   "metadata": {},
   "outputs": [
    {
     "name": "stdout",
     "output_type": "stream",
     "text": [
      "[[Model]]\n",
      "    Model(y_calc_D)\n",
      "[[Fit Statistics]]\n",
      "    # fitting method   = leastsq\n",
      "    # function evals   = 21\n",
      "    # data points      = 9\n",
      "    # variables        = 3\n",
      "    chi-square         = 0.29722302\n",
      "    reduced chi-square = 0.04953717\n",
      "    Akaike info crit   = -24.6944739\n",
      "    Bayesian info crit = -24.1028001\n",
      "[[Variables]]\n",
      "    k:  0.89402691 +/- 0.10498880 (11.74%) (init = 1)\n",
      "    a:  0.25844116 +/- 0.02897048 (11.21%) (init = 1)\n",
      "    b:  1.06155141 +/- 0.08553385 (8.06%) (init = 1)\n",
      "[[Correlations]] (unreported correlations are < 0.100)\n",
      "    C(k, b) = -0.979\n",
      "    C(k, a) = -0.487\n",
      "    C(a, b) = 0.442\n"
     ]
    }
   ],
   "source": [
    "def y_calc_D(x, k, a, b):\n",
    "    \n",
    "    return k*x[0]**a*x[2]**b\n",
    "\n",
    "model_D = Model(y_calc_D)\n",
    "\n",
    "result_D = model_D.fit(ydata, x=xdata, k =1.0, a=1.0, b=1.0)\n",
    "\n",
    "print(result_D.fit_report())"
   ]
  },
  {
   "cell_type": "markdown",
   "id": "9e6f97c6",
   "metadata": {},
   "source": [
    "### Observations"
   ]
  },
  {
   "cell_type": "markdown",
   "id": "0d15fa6a",
   "metadata": {},
   "source": [
    "*We now examine the reduced chi-square and range of variables themselves. \n",
    "The reduced chi-square is reasonable and in fact the smallest of all the models at 0.0049.*\n",
    "\n",
    "*The 95% confidence limit means that if the experiment were \n",
    "run 100 times and then 95 times it would fall within the specified range (e.g., 0.04284145 +/- 0.02916203 for model (a).*\n",
    "\n",
    "*If the lower limit within the confidence interval leads to a negative value then the model should be rejected.*"
   ]
  }
 ],
 "metadata": {
  "kernelspec": {
   "display_name": "Python 3 (ipykernel)",
   "language": "python",
   "name": "python3"
  },
  "language_info": {
   "codemirror_mode": {
    "name": "ipython",
    "version": 3
   },
   "file_extension": ".py",
   "mimetype": "text/x-python",
   "name": "python",
   "nbconvert_exporter": "python",
   "pygments_lexer": "ipython3",
   "version": "3.8.13"
  }
 },
 "nbformat": 4,
 "nbformat_minor": 5
}
