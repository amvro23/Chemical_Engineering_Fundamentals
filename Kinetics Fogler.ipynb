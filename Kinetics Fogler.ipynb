{
 "cells": [
  {
   "cell_type": "code",
   "execution_count": 1,
   "id": "34d0eede",
   "metadata": {},
   "outputs": [],
   "source": [
    "import pandas as pd\n",
    "import numpy as np\n",
    "import matplotlib.pyplot as plt\n",
    "from lmfit import Model"
   ]
  },
  {
   "cell_type": "code",
   "execution_count": 3,
   "id": "3146eb85",
   "metadata": {},
   "outputs": [],
   "source": [
    "# observed experimental reaction rates\n",
    "data = pd.DataFrame({\"r\":[71,71.3,41.6,19.7,42.0,17.1,71.8, \n",
    "142.0,284.0,47.0,71.3,117.0,127.0,131.0,133.0,41.8], \n",
    "\"Pt\":[1,1,1,1,1,1,1,1,1,0.5,1,5,10,15,20,1], \"PH2\":[1,1,1,1,1,1,1,2,4,1,1,1,1,1,1,1],\n",
    "\"Pm\":[1,4,0,0,1,0,0,0,0,0,0,0,0,0,0,1], \"Pb\":[0,0,1,4,1,5,0,0,0,0,0,0,0,0,0,1]\n",
    "})\n",
    "\n",
    "p1, p2, p3, p4 = data[\"Pt\"], data[\"PH2\"], data[\"Pb\"], data[\"Pm\"]\n",
    "y_observed = data[\"r\"]"
   ]
  },
  {
   "cell_type": "code",
   "execution_count": 4,
   "id": "f9a1c78c",
   "metadata": {},
   "outputs": [
    {
     "name": "stdout",
     "output_type": "stream",
     "text": [
      "[[Model]]\n",
      "    Model(calc_y)\n",
      "[[Fit Statistics]]\n",
      "    # fitting method   = leastsq\n",
      "    # function evals   = 94\n",
      "    # data points      = 16\n",
      "    # variables        = 3\n",
      "    chi-square         = 3.26050902\n",
      "    reduced chi-square = 0.25080839\n",
      "    Akaike info crit   = -19.4512864\n",
      "    Bayesian info crit = -17.1335202\n",
      "[[Variables]]\n",
      "    k:   144.767308 +/- 0.57427659 (0.40%) (init = 0.05)\n",
      "    Kb:  1.39052641 +/- 0.02120285 (1.52%) (init = 150)\n",
      "    Kt:  1.03841056 +/- 0.00609291 (0.59%) (init = 1)\n",
      "[[Correlations]] (unreported correlations are < 0.100)\n",
      "    C(k, Kt)  = 0.957\n",
      "    C(k, Kb)  = 0.343\n",
      "    C(Kb, Kt) = 0.309\n"
     ]
    }
   ],
   "source": [
    "# calculate y\n",
    "def calc_y(x, k, Kb, Kt):\n",
    "    num = k*p1*p2\n",
    "    denom = 1+Kb*p3+Kt*p1\n",
    "    y = num/denom #(mol/kg_cat.s)\n",
    "    return y\n",
    "\n",
    "my_model = Model(calc_y)\n",
    "\n",
    "# set the boundries for each parameter\n",
    "my_model.set_param_hint('k', min=0, max=200)\n",
    "my_model.set_param_hint('Kb', min=0, max=150)\n",
    "my_model.set_param_hint('Kt', min=0, max=150)\n",
    "\n",
    "# x_eval can be defined by the user accordingly\n",
    "x_eval = np.linspace(0, 10, 200)\n",
    "\n",
    "# initial values\n",
    "result = my_model.fit(y_observed, x=x_eval, k=0.05, Kb=200.0, Kt=1.0)\n",
    "\n",
    "print(result.fit_report())\n",
    "\n",
    "best_values = result.best_values\n",
    "best_fit = result.best_fit"
   ]
  }
 ],
 "metadata": {
  "kernelspec": {
   "display_name": "Python 3 (ipykernel)",
   "language": "python",
   "name": "python3"
  },
  "language_info": {
   "codemirror_mode": {
    "name": "ipython",
    "version": 3
   },
   "file_extension": ".py",
   "mimetype": "text/x-python",
   "name": "python",
   "nbconvert_exporter": "python",
   "pygments_lexer": "ipython3",
   "version": "3.8.11"
  }
 },
 "nbformat": 4,
 "nbformat_minor": 5
}
