{
 "cells": [
  {
   "cell_type": "code",
   "execution_count": 1,
   "id": "ba3aa54a",
   "metadata": {},
   "outputs": [],
   "source": [
    "import numpy as np\n",
    "import matplotlib.pyplot as plt\n",
    "import pandas as pd"
   ]
  },
  {
   "cell_type": "code",
   "execution_count": 2,
   "id": "44366f1d",
   "metadata": {},
   "outputs": [
    {
     "data": {
      "text/html": [
       "<div>\n",
       "<style scoped>\n",
       "    .dataframe tbody tr th:only-of-type {\n",
       "        vertical-align: middle;\n",
       "    }\n",
       "\n",
       "    .dataframe tbody tr th {\n",
       "        vertical-align: top;\n",
       "    }\n",
       "\n",
       "    .dataframe thead th {\n",
       "        text-align: right;\n",
       "    }\n",
       "</style>\n",
       "<table border=\"1\" class=\"dataframe\">\n",
       "  <thead>\n",
       "    <tr style=\"text-align: right;\">\n",
       "      <th></th>\n",
       "      <th>set1</th>\n",
       "      <th>set2</th>\n",
       "      <th>set3</th>\n",
       "    </tr>\n",
       "  </thead>\n",
       "  <tbody>\n",
       "    <tr>\n",
       "      <th>count</th>\n",
       "      <td>10.000000</td>\n",
       "      <td>10.000000</td>\n",
       "      <td>10.000000</td>\n",
       "    </tr>\n",
       "    <tr>\n",
       "      <th>mean</th>\n",
       "      <td>0.000040</td>\n",
       "      <td>0.000026</td>\n",
       "      <td>0.000016</td>\n",
       "    </tr>\n",
       "    <tr>\n",
       "      <th>std</th>\n",
       "      <td>0.000016</td>\n",
       "      <td>0.000010</td>\n",
       "      <td>0.000007</td>\n",
       "    </tr>\n",
       "    <tr>\n",
       "      <th>min</th>\n",
       "      <td>0.000024</td>\n",
       "      <td>0.000016</td>\n",
       "      <td>0.000009</td>\n",
       "    </tr>\n",
       "    <tr>\n",
       "      <th>25%</th>\n",
       "      <td>0.000030</td>\n",
       "      <td>0.000019</td>\n",
       "      <td>0.000012</td>\n",
       "    </tr>\n",
       "    <tr>\n",
       "      <th>50%</th>\n",
       "      <td>0.000037</td>\n",
       "      <td>0.000022</td>\n",
       "      <td>0.000014</td>\n",
       "    </tr>\n",
       "    <tr>\n",
       "      <th>75%</th>\n",
       "      <td>0.000044</td>\n",
       "      <td>0.000031</td>\n",
       "      <td>0.000016</td>\n",
       "    </tr>\n",
       "    <tr>\n",
       "      <th>max</th>\n",
       "      <td>0.000070</td>\n",
       "      <td>0.000045</td>\n",
       "      <td>0.000033</td>\n",
       "    </tr>\n",
       "  </tbody>\n",
       "</table>\n",
       "</div>"
      ],
      "text/plain": [
       "            set1       set2       set3\n",
       "count  10.000000  10.000000  10.000000\n",
       "mean    0.000040   0.000026   0.000016\n",
       "std     0.000016   0.000010   0.000007\n",
       "min     0.000024   0.000016   0.000009\n",
       "25%     0.000030   0.000019   0.000012\n",
       "50%     0.000037   0.000022   0.000014\n",
       "75%     0.000044   0.000031   0.000016\n",
       "max     0.000070   0.000045   0.000033"
      ]
     },
     "execution_count": 2,
     "metadata": {},
     "output_type": "execute_result"
    }
   ],
   "source": [
    "df = pd.DataFrame({'set1': [6.40E-05, 3.01E-05, 2.36E-05, 3.00E-05, 7.00E-05, 4.50E-05, 3.80E-05, 4.20E-05, 2.62E-05, 3.60E-05],\n",
    "                   'set2': [4.50E-05, 1.97E-05, 1.60E-05, 1.97E-05, 4.00E-05, 2.40E-05, 1.90E-05, 2.41E-05, 1.85E-05, 3.30E-05],\n",
    "                   'set3': [3.30E-05, 1.20E-05, 9.00E-06, 1.20E-05, 1.30E-05, 1.60E-05, 1.40E-05, 1.58E-05, 1.32E-05, 2.10E-05]\n",
    "                  })\n",
    "\n",
    "df.describe()"
   ]
  },
  {
   "cell_type": "code",
   "execution_count": 3,
   "id": "bb6cf115",
   "metadata": {},
   "outputs": [
    {
     "data": {
      "text/plain": [
       "<BarContainer object of 3 artists>"
      ]
     },
     "execution_count": 3,
     "metadata": {},
     "output_type": "execute_result"
    },
    {
     "data": {
      "image/png": "[encoded data removed]",
      "text/plain": [
       "<Figure size 600x400 with 1 Axes>"
      ]
     },
     "metadata": {
      "needs_background": "light"
     },
     "output_type": "display_data"
    }
   ],
   "source": [
    "fig, ax = plt.subplots(dpi = 100)\n",
    "\n",
    "x = df.columns\n",
    "\n",
    "for axis in ['top','bottom','left','right']:\n",
    "    ax.spines[axis].set_linewidth(3)\n",
    "    ax.spines[axis].set_color('k')\n",
    "    ax.spines[axis].set_zorder(1)\n",
    "\n",
    "ax.bar(x, df.mean(), yerr = df.std(), color = [\"grey\", \"gold\", \"cyan\"], align='center', \n",
    "       alpha=1.0, ecolor='k', hatch = '///////', capsize=10)"
   ]
  },
  {
   "cell_type": "code",
   "execution_count": 4,
   "id": "90de9368",
   "metadata": {},
   "outputs": [
    {
     "data": {
      "text/plain": [
       "<ErrorbarContainer object of 3 artists>"
      ]
     },
     "execution_count": 4,
     "metadata": {},
     "output_type": "execute_result"
    },
    {
     "data": {
      "image/png": "[encoded data removed]",
      "text/plain": [
       "<Figure size 600x400 with 1 Axes>"
      ]
     },
     "metadata": {
      "needs_background": "light"
     },
     "output_type": "display_data"
    }
   ],
   "source": [
    "fig, ax = plt.subplots(dpi = 100)\n",
    "\n",
    "x = np.linspace(0, 1, len(df.set1))\n",
    "\n",
    "for axis in ['top','bottom','left','right']:\n",
    "    ax.spines[axis].set_linewidth(3)\n",
    "    ax.spines[axis].set_color('k')\n",
    "    ax.spines[axis].set_zorder(1)\n",
    "\n",
    "ax.errorbar(x, df.set1, yerr = df.set1.std(), color = 'grey', fmt ='o')\n",
    "ax.errorbar(x, df.set2, yerr = df.set2.std(), color = 'gold', fmt ='d')\n",
    "ax.errorbar(x, df.set3, yerr = df.set3.std(), color = 'cyan', fmt ='P')"
   ]
  }
 ],
 "metadata": {
  "kernelspec": {
   "display_name": "Python 3 (ipykernel)",
   "language": "python",
   "name": "python3"
  },
  "language_info": {
   "codemirror_mode": {
    "name": "ipython",
    "version": 3
   },
   "file_extension": ".py",
   "mimetype": "text/x-python",
   "name": "python",
   "nbconvert_exporter": "python",
   "pygments_lexer": "ipython3",
   "version": "3.8.11"
  }
 },
 "nbformat": 4,
 "nbformat_minor": 5
}
