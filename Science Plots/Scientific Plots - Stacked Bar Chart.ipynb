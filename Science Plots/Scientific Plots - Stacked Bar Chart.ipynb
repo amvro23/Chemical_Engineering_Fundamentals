{
 "cells": [
  {
   "cell_type": "code",
   "execution_count": 1,
   "id": "32d20b20",
   "metadata": {},
   "outputs": [
    {
     "data": {
      "image/png": "[encoded data removed]",
      "text/plain": [
       "<Figure size 432x288 with 1 Axes>"
      ]
     },
     "metadata": {
      "needs_background": "light"
     },
     "output_type": "display_data"
    }
   ],
   "source": [
    "# importing package\n",
    "import matplotlib.pyplot as plt\n",
    "import numpy as np\n",
    " \n",
    "# create data\n",
    "x = ['A', 'B', 'C', 'D']\n",
    "y1 = np.array([10, 20, 10, 30])\n",
    "y2 = np.array([20, 25, 15, 25])\n",
    "y3 = np.array([12, 15, 19, 6])\n",
    "y4 = np.array([10, 29, 13, 19])\n",
    " \n",
    "# plot bars in stack manner\n",
    "plt.bar(x, y1, color='r')\n",
    "plt.bar(x, y2, bottom=y1, color='b')\n",
    "plt.bar(x, y3, bottom=y1+y2, color='y')\n",
    "plt.bar(x, y4, bottom=y1+y2+y3, color='g')\n",
    "plt.xlabel(\"Teams\")\n",
    "plt.ylabel(\"Score\")\n",
    "plt.legend([\"Round 1\", \"Round 2\", \"Round 3\", \"Round 4\"])\n",
    "plt.title(\"Scores by Teams in 4 Rounds\")\n",
    "plt.show()"
   ]
  }
 ],
 "metadata": {
  "kernelspec": {
   "display_name": "Python 3 (ipykernel)",
   "language": "python",
   "name": "python3"
  },
  "language_info": {
   "codemirror_mode": {
    "name": "ipython",
    "version": 3
   },
   "file_extension": ".py",
   "mimetype": "text/x-python",
   "name": "python",
   "nbconvert_exporter": "python",
   "pygments_lexer": "ipython3",
   "version": "3.10.6"
  }
 },
 "nbformat": 4,
 "nbformat_minor": 5
}
