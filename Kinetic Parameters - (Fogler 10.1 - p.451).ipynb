{
 "cells": [
  {
   "cell_type": "code",
   "execution_count": 1,
   "id": "34d0eede",
   "metadata": {},
   "outputs": [],
   "source": [
    "import pandas as pd\n",
    "import numpy as np\n",
    "import matplotlib.pyplot as plt\n",
    "from lmfit import Model\n",
    "from scipy.optimize import curve_fit\n",
    "from scipy.stats.distributions import t\n",
    "from scipy.optimize import minimize\n",
    "from scipy import stats"
   ]
  },
  {
   "cell_type": "markdown",
   "id": "3bd4c804",
   "metadata": {},
   "source": [
    "# Single response optimization\n",
    "\n",
    "***Non-linear Regression Analysis to Determine the Model Parameters k, Kb , and Kt***"
   ]
  },
  {
   "cell_type": "markdown",
   "id": "53205946",
   "metadata": {},
   "source": [
    "You can download Fogler's book from here:\n",
    "https://doku.pub/download/h-scott-fogler-essentials-of-chemical-reaction-engineering-z0x2ze484wqn"
   ]
  },
  {
   "cell_type": "markdown",
   "id": "5e888faa",
   "metadata": {},
   "source": [
    "# 1st method using lmfit"
   ]
  },
  {
   "cell_type": "code",
   "execution_count": 2,
   "id": "3146eb85",
   "metadata": {},
   "outputs": [],
   "source": [
    "# observed experimental reaction rates for the reaction C6H5CH3 + H2 → C6H6 + CH4 or t + h → b + m\n",
    "data = pd.DataFrame({\"r\":[71,71.3,41.6,19.7,42.0,17.1,71.8, \n",
    "142.0,284.0,47.0,71.3,117.0,127.0,131.0,133.0,41.8], \n",
    "\"t\":[1,1,1,1,1,1,1,1,1,0.5,1,5,10,15,20,1], \"h\":[1,1,1,1,1,1,1,2,4,1,1,1,1,1,1,1],\n",
    "\"m\":[1,4,0,0,1,0,0,0,0,0,0,0,0,0,0,1], \"b\":[0,0,1,4,1,5,0,0,0,0,0,0,0,0,0,1]\n",
    "})\n",
    "\n",
    "# multiple independent variables - partial pressures of components\n",
    "x_data = np.array([data[\"t\"], data[\"h\"], data[\"b\"], data[\"m\"]])\n",
    "\n",
    "# dependent variable - rate of reaction\n",
    "y_observed = data[\"r\"]"
   ]
  },
  {
   "cell_type": "code",
   "execution_count": 3,
   "id": "f9a1c78c",
   "metadata": {},
   "outputs": [
    {
     "name": "stdout",
     "output_type": "stream",
     "text": [
      "[[Model]]\n",
      "    Model(calc_y)\n",
      "[[Fit Statistics]]\n",
      "    # fitting method   = leastsq\n",
      "    # function evals   = 94\n",
      "    # data points      = 16\n",
      "    # variables        = 3\n",
      "    chi-square         = 3.26050902\n",
      "    reduced chi-square = 0.25080839\n",
      "    Akaike info crit   = -19.4512864\n",
      "    Bayesian info crit = -17.1335202\n",
      "[[Variables]]\n",
      "    k:   144.767308 +/- 0.57427659 (0.40%) (init = 0.05)\n",
      "    Kb:  1.39052641 +/- 0.02120285 (1.52%) (init = 150)\n",
      "    Kt:  1.03841056 +/- 0.00609291 (0.59%) (init = 1)\n",
      "[[Correlations]] (unreported correlations are < 0.100)\n",
      "    C(k, Kt)  = 0.957\n",
      "    C(k, Kb)  = 0.343\n",
      "    C(Kb, Kt) = 0.309\n",
      "---------------------------------------------------------\n",
      "The value of r2 between the y_observed and y_calc is: 0.9999530252449884\n"
     ]
    }
   ],
   "source": [
    "# calculate y\n",
    "def calc_y(x, k, Kb, Kt):\n",
    "    \n",
    "    num = k*x[0]*x[1]\n",
    "    denom = 1+Kb*x[2]+Kt*x[0]\n",
    "    y = num/denom #(mol/kg_cat.s)\n",
    "    \n",
    "    return y\n",
    "\n",
    "my_model = Model(calc_y)\n",
    "\n",
    "# set the boundries for each parameter\n",
    "my_model.set_param_hint('k', min=0, max=200)\n",
    "my_model.set_param_hint('Kb', min=0, max=150)\n",
    "my_model.set_param_hint('Kt', min=0, max=150)\n",
    "\n",
    "# initial values\n",
    "result = my_model.fit(y_observed, x=x_data, k=0.05, Kb=200.0, Kt=1.0)\n",
    "\n",
    "print(result.fit_report())\n",
    "\n",
    "best_values = result.best_values\n",
    "best_fit = result.best_fit\n",
    "\n",
    "slope, intercept, r_value, p_value, std_err = stats.linregress(y_observed, best_fit)\n",
    "    \n",
    "# if r2 value is not close to one change the initial values\n",
    "r2 = r_value**2\n",
    "print('---------------------------------------------------------')\n",
    "print('The value of r2 between the y_observed and y_calc is:', r2)"
   ]
  },
  {
   "cell_type": "markdown",
   "id": "18ef59d3",
   "metadata": {},
   "source": [
    "# Second method using Scipy curve_fit"
   ]
  },
  {
   "cell_type": "code",
   "execution_count": 4,
   "id": "f27732bf",
   "metadata": {},
   "outputs": [
    {
     "name": "stdout",
     "output_type": "stream",
     "text": [
      "j0: 144.76730767069233 [143.5266570647402 146.00795827664447]\n",
      "j1: 1.3905263980717728 [1.3447203893734294 1.4363324067701162]\n",
      "j2: 1.0384105567359774 [1.0252475851572633 1.0515735283146914]\n",
      "The rate constant value is:  1.4476730767069233e-08\n",
      "The equilibrium constant of product b is 1.3905263980717728\n",
      "The equilibrium constant of product t is 1.0384105567359774\n",
      "The R squared value is: 0.9999509157577747\n",
      "The R_adjusted value is:  0.9999386446972184\n",
      "The root mean square error (RMSE) or (RMSD) is 0.451421990682046\n",
      "The variance is 0.25080838605703537\n"
     ]
    }
   ],
   "source": [
    "# mol/kg_cat.s\n",
    "def Rate(x, k, Kb, Kt):\n",
    "    \n",
    "    num = k*x[0]*x[1]\n",
    "    denom = 1+Kb*x[2]+Kt*x[0]\n",
    "    y = num/denom            \n",
    "    \n",
    "    return y\n",
    "\n",
    "bnds = [0, [np.inf, np.inf, np.inf]]\n",
    "    \n",
    "popt, pcov = curve_fit(Rate, x_data, y_observed, p0 =[1.0, 1.0, 1.0], \n",
    "bounds = bnds)\n",
    "\n",
    "#k value needs to be multiplied by 10^-10\n",
    "k, Kb, Kt = popt\n",
    "\n",
    "k_rate_constant = k*1e-10\n",
    "\n",
    "residuals = Rate(x_data, *popt) - y_observed\n",
    "rss = sum(residuals**2)\n",
    "\n",
    "y_mean = np.mean(y_observed)\n",
    "total_residuals = y_mean - y_observed\n",
    "tss = sum(total_residuals**2)\n",
    "\n",
    "n = len(y_observed) # number of data points\n",
    "p = len(popt) # number of parameters\n",
    "alpha = 0.05\n",
    "\n",
    "dof = max(0, n - p) #number of degrees of freedom\n",
    "\n",
    "r_squared = 1 - (rss/tss)\n",
    "r_adjusted = 1 - ((1 - r_squared)*(n - 1))/(n - p - 1)\n",
    "\n",
    "tinv = lambda alpha, dof: abs(t.ppf(1.0 - alpha/2, dof)) \n",
    "tval = tinv(alpha, dof)\n",
    "\n",
    "#confidence level for the estimated parameters\n",
    "\n",
    "dfit = np.sqrt(np.diag(pcov))\n",
    "for i, j, var in zip(range(n), popt, dfit):\n",
    "    print('j{0}: {1} [{2} {3}]'.format(i, j, j - var*tval, j + var*tval))\n",
    "    \n",
    "variance = rss/dof\n",
    "\n",
    "rmse = (rss/n)**0.5\n",
    "\n",
    "print(\"The rate constant value is: \", k_rate_constant)\n",
    "print(\"The equilibrium constant of product b is\", Kb)\n",
    "print(\"The equilibrium constant of product t is\", Kt)\n",
    "print(\"The R squared value is:\", r_squared)\n",
    "print(\"The R_adjusted value is: \", r_adjusted)\n",
    "print(\"The root mean square error (RMSE) or (RMSD) is\", rmse)\n",
    "print(\"The variance is\", variance)"
   ]
  },
  {
   "cell_type": "markdown",
   "id": "5b5563f1",
   "metadata": {},
   "source": [
    "# Third method using Scipy minimization, method = 'BFGS'"
   ]
  },
  {
   "cell_type": "code",
   "execution_count": 5,
   "id": "3fc879ef",
   "metadata": {},
   "outputs": [
    {
     "name": "stdout",
     "output_type": "stream",
     "text": [
      "j0: 144.7673002082985 [144.60856263702195  144.92603777957507]\n",
      "j1: 1.3905263346623833 [1.361215980684616  1.4198366886401506]\n",
      "j2: 1.0384104735068629 [1.035231066253937  1.0415898807597888]\n"
     ]
    },
    {
     "data": {
      "text/plain": [
       "(array([144.76730021,   1.39052633,   1.03841047]), 0.9999530252384543)"
      ]
     },
     "execution_count": 5,
     "metadata": {},
     "output_type": "execute_result"
    }
   ],
   "source": [
    "def kinet_params(data):\n",
    "\n",
    "    y_calc = lambda x, k: k[0]*x[0]*x[1]/(1+k[1]*x[2]+k[2]*x[0])\n",
    "\n",
    "    # Error function\n",
    "    errFunc = lambda k, x, y: y_calc(x, k) - y\n",
    "\n",
    "    # Error of parameters\n",
    "    def errFit(hess_inv, resVariance):\n",
    "        return np.sqrt(np.diag(hess_inv * resVariance))\n",
    "\n",
    "    kstart = [0, 100, 0]\n",
    "    \n",
    "    # minimize, note that 'BFGS' method cannot handle bounds\n",
    "    result = minimize(lambda k, x, y: (errFunc(k, x, y)**2).sum(), kstart, args=(x_data, y_observed), method = 'BFGS')\n",
    "    \n",
    "    dFit = errFit(result.hess_inv, result.fun/(len(y_observed)-len(kstart)))\n",
    "    \n",
    "    # best estimated parameters\n",
    "    k = result.x\n",
    "    \n",
    "    slope, intercept, r_value, p_value, std_err = stats.linregress(y_observed, y_calc(x_data, k))\n",
    "    \n",
    "    # if r2 value is not close to one change the initial values\n",
    "    r2 = r_value**2\n",
    "    \n",
    "    # 95% confidence interval\n",
    "    alpha = 0.05\n",
    "    dof = max(0, len(y_observed) - len(k))\n",
    "    \n",
    "    tinv = lambda alpha, dof: abs(t.ppf(1.0 - alpha/2, dof))\n",
    "    tval = tinv(alpha, dof)\n",
    "    \n",
    "    for i, j, var in zip(range(len(y_observed)), k, dFit):\n",
    "        \n",
    "        print('j{0}: {1} [{2}  {3}]'.format(i, j, j - var*tval, j + var*tval))\n",
    "\n",
    "    return k, r2\n",
    "\n",
    "kinet_params(data)"
   ]
  },
  {
   "cell_type": "markdown",
   "id": "b5b4d7cc",
   "metadata": {},
   "source": [
    "# Fourth method using Scipy minimization, method = 'SLSQP'"
   ]
  },
  {
   "cell_type": "code",
   "execution_count": 15,
   "id": "108f7e73",
   "metadata": {},
   "outputs": [
    {
     "name": "stdout",
     "output_type": "stream",
     "text": [
      "The value of r2 between the y_observed and y_pred is: 0.9999530252423822\n"
     ]
    },
    {
     "data": {
      "text/plain": [
       "array([144.76745725,   1.39052497,   1.0384117 ])"
      ]
     },
     "execution_count": 15,
     "metadata": {},
     "output_type": "execute_result"
    }
   ],
   "source": [
    "def fun(x, k, Kb, Kt):\n",
    "    \n",
    "    num = k*x[0]*x[1]\n",
    "    denom = 1+Kb*x[2]+Kt*x[0]\n",
    "    y = num/denom \n",
    "    \n",
    "    return y\n",
    "\n",
    "def min_fun(params, x, y, fun):\n",
    "    \n",
    "    k, Kb, Kt = params\n",
    "    \n",
    "    y_pred = fun(x, k, Kb, Kt)\n",
    "    \n",
    "    errFun = y_pred - y\n",
    "\n",
    "    return (errFun**2).sum()\n",
    "\n",
    "sol = minimize(min_fun, [1, 1, 1], args=(x_data, y_observed, fun), method='SLSQP',\n",
    "               bounds=[(0.0, np.inf), (0.0, np.inf), (0.0, np.inf)])\n",
    "\n",
    "slope, intercept, r_value, p_value, std_err = stats.linregress(y_observed, fun(x_data, k, Kb, Kt))\n",
    "\n",
    "# if r2 value is not close to one change the initial values\n",
    "r2 = r_value**2\n",
    "print('The value of r2 between the y_observed and y_pred is:', r2)\n",
    "\n",
    "sol.x"
   ]
  }
 ],
 "metadata": {
  "kernelspec": {
   "display_name": "Python 3 (ipykernel)",
   "language": "python",
   "name": "python3"
  },
  "language_info": {
   "codemirror_mode": {
    "name": "ipython",
    "version": 3
   },
   "file_extension": ".py",
   "mimetype": "text/x-python",
   "name": "python",
   "nbconvert_exporter": "python",
   "pygments_lexer": "ipython3",
   "version": "3.8.13"
  }
 },
 "nbformat": 4,
 "nbformat_minor": 5
}
