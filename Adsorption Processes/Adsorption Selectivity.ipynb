{
 "cells": [
  {
   "cell_type": "code",
   "execution_count": 1,
   "id": "11533926",
   "metadata": {},
   "outputs": [],
   "source": [
    "import numpy as np\n",
    "import pandas as pd"
   ]
  },
  {
   "cell_type": "code",
   "execution_count": 79,
   "id": "31cdff6a",
   "metadata": {},
   "outputs": [
    {
     "data": {
      "text/html": [
       "<div>\n",
       "<style scoped>\n",
       "    .dataframe tbody tr th:only-of-type {\n",
       "        vertical-align: middle;\n",
       "    }\n",
       "\n",
       "    .dataframe tbody tr th {\n",
       "        vertical-align: top;\n",
       "    }\n",
       "\n",
       "    .dataframe thead th {\n",
       "        text-align: right;\n",
       "    }\n",
       "</style>\n",
       "<table border=\"1\" class=\"dataframe\">\n",
       "  <thead>\n",
       "    <tr style=\"text-align: right;\">\n",
       "      <th></th>\n",
       "      <th>molar_ratio</th>\n",
       "      <th>molar_mass</th>\n",
       "      <th>mg_g</th>\n",
       "    </tr>\n",
       "  </thead>\n",
       "  <tbody>\n",
       "    <tr>\n",
       "      <th>H2S</th>\n",
       "      <td>1</td>\n",
       "      <td>34.01</td>\n",
       "      <td>100</td>\n",
       "    </tr>\n",
       "    <tr>\n",
       "      <th>CH4</th>\n",
       "      <td>100</td>\n",
       "      <td>16.04</td>\n",
       "      <td>50</td>\n",
       "    </tr>\n",
       "  </tbody>\n",
       "</table>\n",
       "</div>"
      ],
      "text/plain": [
       "     molar_ratio  molar_mass  mg_g\n",
       "H2S            1       34.01   100\n",
       "CH4          100       16.04    50"
      ]
     },
     "execution_count": 79,
     "metadata": {},
     "output_type": "execute_result"
    }
   ],
   "source": [
    "molecules = ['H2S', 'CH4']\n",
    "\n",
    "dic = {'molar_ratio': [1, 100], \n",
    "        'molar_mass': [34.01, 16.04], \n",
    "        'mg_g': [100, 50]}\n",
    "\n",
    "df = pd.DataFrame(dic, index = molecules)\n",
    "df"
   ]
  },
  {
   "cell_type": "code",
   "execution_count": 80,
   "id": "3488e4e0",
   "metadata": {},
   "outputs": [
    {
     "data": {
      "text/plain": [
       "array([  1, 100], dtype=int64)"
      ]
     },
     "execution_count": 80,
     "metadata": {},
     "output_type": "execute_result"
    }
   ],
   "source": [
    "molar_ratio = df['molar_ratio'].values\n",
    "molar_ratio"
   ]
  },
  {
   "cell_type": "code",
   "execution_count": 81,
   "id": "616ffe5e",
   "metadata": {},
   "outputs": [
    {
     "data": {
      "text/plain": [
       "array([2.94031167, 3.11720698])"
      ]
     },
     "execution_count": 81,
     "metadata": {},
     "output_type": "execute_result"
    }
   ],
   "source": [
    "mmol_g = (df[\"mg_g\"]/df[\"molar_mass\"]).values\n",
    "mmol_g"
   ]
  },
  {
   "cell_type": "code",
   "execution_count": 82,
   "id": "1c301c41",
   "metadata": {},
   "outputs": [
    {
     "data": {
      "text/plain": [
       "array([0.4853987, 0.5146013])"
      ]
     },
     "execution_count": 82,
     "metadata": {},
     "output_type": "execute_result"
    }
   ],
   "source": [
    "ads_ratio = mmol_g/mmol_g.sum()\n",
    "ads_ratio"
   ]
  },
  {
   "cell_type": "code",
   "execution_count": 83,
   "id": "8fbdd88c",
   "metadata": {},
   "outputs": [
    {
     "data": {
      "text/plain": [
       "array([0.4853987 , 0.00514601])"
      ]
     },
     "execution_count": 83,
     "metadata": {},
     "output_type": "execute_result"
    }
   ],
   "source": [
    "ratio = ads_ratio/molar_ratio\n",
    "ratio"
   ]
  },
  {
   "cell_type": "code",
   "execution_count": 85,
   "id": "1cc6b7b1",
   "metadata": {},
   "outputs": [
    {
     "data": {
      "text/plain": [
       "array([9.43251985e+01, 1.06016209e-02])"
      ]
     },
     "execution_count": 85,
     "metadata": {},
     "output_type": "execute_result"
    }
   ],
   "source": [
    "# Horizontal flip\n",
    "sel = np.diag(np.fliplr(ratio.reshape([-1,1])/ratio.reshape([1,-1])))\n",
    "sel"
   ]
  },
  {
   "cell_type": "code",
   "execution_count": 86,
   "id": "ddf4d861",
   "metadata": {},
   "outputs": [
    {
     "name": "stdout",
     "output_type": "stream",
     "text": [
      "for H2S selectivity is 94.32519847103792\n",
      "for CH4 selectivity is 0.010601620947630924\n"
     ]
    }
   ],
   "source": [
    "print(\"for\", molecules[0], \"selectivity is\", sel[0])\n",
    "print(\"for\", molecules[1], \"selectivity is\", sel[1])"
   ]
  }
 ],
 "metadata": {
  "kernelspec": {
   "display_name": "Python 3 (ipykernel)",
   "language": "python",
   "name": "python3"
  },
  "language_info": {
   "codemirror_mode": {
    "name": "ipython",
    "version": 3
   },
   "file_extension": ".py",
   "mimetype": "text/x-python",
   "name": "python",
   "nbconvert_exporter": "python",
   "pygments_lexer": "ipython3",
   "version": "3.8.13"
  }
 },
 "nbformat": 4,
 "nbformat_minor": 5
}
