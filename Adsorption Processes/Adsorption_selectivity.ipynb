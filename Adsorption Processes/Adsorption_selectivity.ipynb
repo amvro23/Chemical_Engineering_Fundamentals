{
 "cells": [
  {
   "cell_type": "code",
   "execution_count": 1,
   "id": "7aaa2d3f",
   "metadata": {},
   "outputs": [],
   "source": [
    "import pandas as pd"
   ]
  },
  {
   "cell_type": "code",
   "execution_count": 2,
   "id": "55646e54",
   "metadata": {},
   "outputs": [
    {
     "data": {
      "text/html": [
       "<div>\n",
       "<style scoped>\n",
       "    .dataframe tbody tr th:only-of-type {\n",
       "        vertical-align: middle;\n",
       "    }\n",
       "\n",
       "    .dataframe tbody tr th {\n",
       "        vertical-align: top;\n",
       "    }\n",
       "\n",
       "    .dataframe thead th {\n",
       "        text-align: right;\n",
       "    }\n",
       "</style>\n",
       "<table border=\"1\" class=\"dataframe\">\n",
       "  <thead>\n",
       "    <tr style=\"text-align: right;\">\n",
       "      <th></th>\n",
       "      <th>molar_ratio</th>\n",
       "      <th>molar_mass</th>\n",
       "      <th>mg_g</th>\n",
       "    </tr>\n",
       "  </thead>\n",
       "  <tbody>\n",
       "    <tr>\n",
       "      <th>H2S</th>\n",
       "      <td>1</td>\n",
       "      <td>34.01</td>\n",
       "      <td>100</td>\n",
       "    </tr>\n",
       "    <tr>\n",
       "      <th>CH4</th>\n",
       "      <td>100</td>\n",
       "      <td>16.04</td>\n",
       "      <td>50</td>\n",
       "    </tr>\n",
       "  </tbody>\n",
       "</table>\n",
       "</div>"
      ],
      "text/plain": [
       "     molar_ratio  molar_mass  mg_g\n",
       "H2S            1       34.01   100\n",
       "CH4          100       16.04    50"
      ]
     },
     "execution_count": 2,
     "metadata": {},
     "output_type": "execute_result"
    }
   ],
   "source": [
    "molecules = ['H2S', 'CH4']\n",
    "\n",
    "dic = {'molar_ratio': [1, 100], \n",
    "        'molar_mass': [34.01, 16.04], \n",
    "        'mg_g': [100, 50]}\n",
    "\n",
    "df = pd.DataFrame(dic, index = molecules)\n",
    "df"
   ]
  },
  {
   "cell_type": "code",
   "execution_count": 3,
   "id": "9bc289f4",
   "metadata": {},
   "outputs": [
    {
     "data": {
      "text/html": [
       "<div>\n",
       "<style scoped>\n",
       "    .dataframe tbody tr th:only-of-type {\n",
       "        vertical-align: middle;\n",
       "    }\n",
       "\n",
       "    .dataframe tbody tr th {\n",
       "        vertical-align: top;\n",
       "    }\n",
       "\n",
       "    .dataframe thead th {\n",
       "        text-align: right;\n",
       "    }\n",
       "</style>\n",
       "<table border=\"1\" class=\"dataframe\">\n",
       "  <thead>\n",
       "    <tr style=\"text-align: right;\">\n",
       "      <th></th>\n",
       "      <th>molar_ratio</th>\n",
       "      <th>molar_mass</th>\n",
       "      <th>mg_g</th>\n",
       "      <th>mmol_g</th>\n",
       "      <th>ads_ratio</th>\n",
       "    </tr>\n",
       "  </thead>\n",
       "  <tbody>\n",
       "    <tr>\n",
       "      <th>H2S</th>\n",
       "      <td>1</td>\n",
       "      <td>34.01</td>\n",
       "      <td>100</td>\n",
       "      <td>2.940312</td>\n",
       "      <td>0.485399</td>\n",
       "    </tr>\n",
       "    <tr>\n",
       "      <th>CH4</th>\n",
       "      <td>100</td>\n",
       "      <td>16.04</td>\n",
       "      <td>50</td>\n",
       "      <td>3.117207</td>\n",
       "      <td>0.514601</td>\n",
       "    </tr>\n",
       "  </tbody>\n",
       "</table>\n",
       "</div>"
      ],
      "text/plain": [
       "     molar_ratio  molar_mass  mg_g    mmol_g  ads_ratio\n",
       "H2S            1       34.01   100  2.940312   0.485399\n",
       "CH4          100       16.04    50  3.117207   0.514601"
      ]
     },
     "execution_count": 3,
     "metadata": {},
     "output_type": "execute_result"
    }
   ],
   "source": [
    "# convert to mmol_g\n",
    "df['mmol_g'] = df['mg_g']/df['molar_mass']\n",
    "\n",
    "# calculate the ratio of adsorbed molecule\n",
    "df['ads_ratio'] = df['mmol_g']/df['mmol_g'].sum()\n",
    "\n",
    "df"
   ]
  },
  {
   "cell_type": "code",
   "execution_count": 4,
   "id": "eb8245ee",
   "metadata": {},
   "outputs": [
    {
     "data": {
      "text/plain": [
       "{'CH4':      molar_ratio  molar_mass  mg_g    mmol_g  ads_ratio\n",
       " CH4          100       16.04    50  3.117207   0.514601,\n",
       " 'H2S':      molar_ratio  molar_mass  mg_g    mmol_g  ads_ratio\n",
       " H2S            1       34.01   100  2.940312   0.485399}"
      ]
     },
     "execution_count": 4,
     "metadata": {},
     "output_type": "execute_result"
    }
   ],
   "source": [
    "# access individual dframes\n",
    "dfs = {}\n",
    "\n",
    "for region, df_region in df.groupby(df.index):\n",
    "    dfs[region] = df_region\n",
    "    \n",
    "dfs"
   ]
  },
  {
   "cell_type": "code",
   "execution_count": 5,
   "id": "121007f8",
   "metadata": {},
   "outputs": [
    {
     "data": {
      "text/plain": [
       "[H2S    0.485399\n",
       " dtype: float64,\n",
       " CH4    0.005146\n",
       " dtype: float64]"
      ]
     },
     "execution_count": 5,
     "metadata": {},
     "output_type": "execute_result"
    }
   ],
   "source": [
    "lst = []\n",
    "\n",
    "for molec in molecules:\n",
    "    lst.append(dfs[molec]['ads_ratio']/dfs[molec]['molar_ratio'])\n",
    "    \n",
    "lst"
   ]
  },
  {
   "cell_type": "code",
   "execution_count": 6,
   "id": "77b1a240",
   "metadata": {},
   "outputs": [
    {
     "data": {
      "text/plain": [
       "H2S    0.485399\n",
       "CH4    0.005146\n",
       "dtype: float64"
      ]
     },
     "execution_count": 6,
     "metadata": {},
     "output_type": "execute_result"
    }
   ],
   "source": [
    "sel = pd.concat(lst, axis=0)\n",
    "sel"
   ]
  },
  {
   "cell_type": "code",
   "execution_count": 7,
   "id": "75933adf",
   "metadata": {},
   "outputs": [
    {
     "name": "stdout",
     "output_type": "stream",
     "text": [
      "The H2S selectivity is: 94.3252\n",
      "The CH4 selectivity is: 0.0106\n"
     ]
    }
   ],
   "source": [
    "for i in range(len(sel)-1):\n",
    "    print('The %s selectivity is: %.4f' % (df.index[i], sel[i]/sel[i+1]))\n",
    "    print('The %s selectivity is: %.4f' % (df.index[i+1], sel[i+1]/sel[i]))"
   ]
  }
 ],
 "metadata": {
  "kernelspec": {
   "display_name": "Python 3 (ipykernel)",
   "language": "python",
   "name": "python3"
  },
  "language_info": {
   "codemirror_mode": {
    "name": "ipython",
    "version": 3
   },
   "file_extension": ".py",
   "mimetype": "text/x-python",
   "name": "python",
   "nbconvert_exporter": "python",
   "pygments_lexer": "ipython3",
   "version": "3.8.13"
  }
 },
 "nbformat": 4,
 "nbformat_minor": 5
}
