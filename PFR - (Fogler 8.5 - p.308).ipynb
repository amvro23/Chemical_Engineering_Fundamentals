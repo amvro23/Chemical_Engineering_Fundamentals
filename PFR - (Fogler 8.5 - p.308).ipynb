{
 "cells": [
  {
   "cell_type": "code",
   "execution_count": 1,
   "id": "360c83e0",
   "metadata": {},
   "outputs": [],
   "source": [
    "import numpy as np\n",
    "import pandas as pd\n",
    "from scipy.integrate import odeint\n",
    "import matplotlib.pyplot as plt"
   ]
  },
  {
   "cell_type": "markdown",
   "id": "da544682",
   "metadata": {},
   "source": [
    "***Multiple Gas Phase Reactions in a PBR***"
   ]
  },
  {
   "cell_type": "markdown",
   "id": "90e8df76",
   "metadata": {},
   "source": [
    "You can download Fogler's book from here:\n",
    "https://doku.pub/download/h-scott-fogler-essentials-of-chemical-reaction-engineering-z0x2ze484wqn"
   ]
  },
  {
   "cell_type": "code",
   "execution_count": 2,
   "id": "129cf46f",
   "metadata": {},
   "outputs": [],
   "source": [
    "#                    a=NH3    b=O2   c=NO   d=H2O  e=N2   f=NO2\n",
    "Rxn_coef = np.array([\n",
    "                    [ -4.0,  -5.0,   4.0,   6.0,   0.0,   0.0], # rxn (1a)\n",
    "                    [ -2.0,  -1.5,   0.0,   3.0,   1.0,   0.0], # rxn (2a)\n",
    "                    [  0.0,  -1.0,  -2.0,   0.0,   0.0,   2.0], # rxn (3b)\n",
    "                    [ -4.0,   0.0,  -6.0,   6.0,   5.0,   0.0]  # rxn (4c)\n",
    "                                                             ])"
   ]
  },
  {
   "cell_type": "code",
   "execution_count": 3,
   "id": "8aae349e",
   "metadata": {},
   "outputs": [
    {
     "data": {
      "text/html": [
       "<div>\n",
       "<style scoped>\n",
       "    .dataframe tbody tr th:only-of-type {\n",
       "        vertical-align: middle;\n",
       "    }\n",
       "\n",
       "    .dataframe tbody tr th {\n",
       "        vertical-align: top;\n",
       "    }\n",
       "\n",
       "    .dataframe thead th {\n",
       "        text-align: right;\n",
       "    }\n",
       "</style>\n",
       "<table border=\"1\" class=\"dataframe\">\n",
       "  <thead>\n",
       "    <tr style=\"text-align: right;\">\n",
       "      <th></th>\n",
       "      <th>a</th>\n",
       "      <th>b</th>\n",
       "      <th>c</th>\n",
       "      <th>d</th>\n",
       "      <th>e</th>\n",
       "      <th>f</th>\n",
       "    </tr>\n",
       "  </thead>\n",
       "  <tbody>\n",
       "    <tr>\n",
       "      <th>1a</th>\n",
       "      <td>-4.0</td>\n",
       "      <td>-5.0</td>\n",
       "      <td>4.0</td>\n",
       "      <td>6.0</td>\n",
       "      <td>0.0</td>\n",
       "      <td>0.0</td>\n",
       "    </tr>\n",
       "    <tr>\n",
       "      <th>2a</th>\n",
       "      <td>-2.0</td>\n",
       "      <td>-1.5</td>\n",
       "      <td>0.0</td>\n",
       "      <td>3.0</td>\n",
       "      <td>1.0</td>\n",
       "      <td>0.0</td>\n",
       "    </tr>\n",
       "    <tr>\n",
       "      <th>3b</th>\n",
       "      <td>0.0</td>\n",
       "      <td>-1.0</td>\n",
       "      <td>-2.0</td>\n",
       "      <td>0.0</td>\n",
       "      <td>0.0</td>\n",
       "      <td>2.0</td>\n",
       "    </tr>\n",
       "    <tr>\n",
       "      <th>4c</th>\n",
       "      <td>-4.0</td>\n",
       "      <td>0.0</td>\n",
       "      <td>-6.0</td>\n",
       "      <td>6.0</td>\n",
       "      <td>5.0</td>\n",
       "      <td>0.0</td>\n",
       "    </tr>\n",
       "  </tbody>\n",
       "</table>\n",
       "</div>"
      ],
      "text/plain": [
       "      a    b    c    d    e    f\n",
       "1a -4.0 -5.0  4.0  6.0  0.0  0.0\n",
       "2a -2.0 -1.5  0.0  3.0  1.0  0.0\n",
       "3b  0.0 -1.0 -2.0  0.0  0.0  2.0\n",
       "4c -4.0  0.0 -6.0  6.0  5.0  0.0"
      ]
     },
     "execution_count": 3,
     "metadata": {},
     "output_type": "execute_result"
    }
   ],
   "source": [
    "df = pd.DataFrame(Rxn_coef)\n",
    "df.columns = ['a', 'b', 'c', 'd', 'e', 'f']\n",
    "df.index = ['1a', '2a', '3b', '4c']\n",
    "df"
   ]
  },
  {
   "cell_type": "code",
   "execution_count": 4,
   "id": "542dad01",
   "metadata": {},
   "outputs": [
    {
     "data": {
      "text/html": [
       "<div>\n",
       "<style scoped>\n",
       "    .dataframe tbody tr th:only-of-type {\n",
       "        vertical-align: middle;\n",
       "    }\n",
       "\n",
       "    .dataframe tbody tr th {\n",
       "        vertical-align: top;\n",
       "    }\n",
       "\n",
       "    .dataframe thead th {\n",
       "        text-align: right;\n",
       "    }\n",
       "</style>\n",
       "<table border=\"1\" class=\"dataframe\">\n",
       "  <thead>\n",
       "    <tr style=\"text-align: right;\">\n",
       "      <th></th>\n",
       "      <th>1a</th>\n",
       "      <th>2a</th>\n",
       "      <th>3b</th>\n",
       "      <th>4c</th>\n",
       "    </tr>\n",
       "  </thead>\n",
       "  <tbody>\n",
       "    <tr>\n",
       "      <th>a</th>\n",
       "      <td>-4.0</td>\n",
       "      <td>-2.0</td>\n",
       "      <td>0.0</td>\n",
       "      <td>-4.0</td>\n",
       "    </tr>\n",
       "    <tr>\n",
       "      <th>b</th>\n",
       "      <td>-5.0</td>\n",
       "      <td>-1.5</td>\n",
       "      <td>-1.0</td>\n",
       "      <td>0.0</td>\n",
       "    </tr>\n",
       "    <tr>\n",
       "      <th>c</th>\n",
       "      <td>4.0</td>\n",
       "      <td>0.0</td>\n",
       "      <td>-2.0</td>\n",
       "      <td>-6.0</td>\n",
       "    </tr>\n",
       "    <tr>\n",
       "      <th>d</th>\n",
       "      <td>6.0</td>\n",
       "      <td>3.0</td>\n",
       "      <td>0.0</td>\n",
       "      <td>6.0</td>\n",
       "    </tr>\n",
       "    <tr>\n",
       "      <th>e</th>\n",
       "      <td>0.0</td>\n",
       "      <td>1.0</td>\n",
       "      <td>0.0</td>\n",
       "      <td>5.0</td>\n",
       "    </tr>\n",
       "    <tr>\n",
       "      <th>f</th>\n",
       "      <td>0.0</td>\n",
       "      <td>0.0</td>\n",
       "      <td>2.0</td>\n",
       "      <td>0.0</td>\n",
       "    </tr>\n",
       "  </tbody>\n",
       "</table>\n",
       "</div>"
      ],
      "text/plain": [
       "    1a   2a   3b   4c\n",
       "a -4.0 -2.0  0.0 -4.0\n",
       "b -5.0 -1.5 -1.0  0.0\n",
       "c  4.0  0.0 -2.0 -6.0\n",
       "d  6.0  3.0  0.0  6.0\n",
       "e  0.0  1.0  0.0  5.0\n",
       "f  0.0  0.0  2.0  0.0"
      ]
     },
     "execution_count": 4,
     "metadata": {},
     "output_type": "execute_result"
    }
   ],
   "source": [
    "df_T = df.transpose()\n",
    "df_T"
   ]
  },
  {
   "cell_type": "code",
   "execution_count": 5,
   "id": "b4314d3a",
   "metadata": {},
   "outputs": [
    {
     "data": {
      "text/plain": [
       "[-4.0, -2.0, -1.0, -6.0]"
      ]
     },
     "execution_count": 5,
     "metadata": {},
     "output_type": "execute_result"
    }
   ],
   "source": [
    "lst = [df_T.loc['a', '1a'], df_T.loc['a', '2a'], df_T.loc['b', '3b'], df_T.loc['c', '4c']]\n",
    "lst"
   ]
  },
  {
   "cell_type": "code",
   "execution_count": 6,
   "id": "075e25ce",
   "metadata": {},
   "outputs": [
    {
     "data": {
      "text/html": [
       "<div>\n",
       "<style scoped>\n",
       "    .dataframe tbody tr th:only-of-type {\n",
       "        vertical-align: middle;\n",
       "    }\n",
       "\n",
       "    .dataframe tbody tr th {\n",
       "        vertical-align: top;\n",
       "    }\n",
       "\n",
       "    .dataframe thead th {\n",
       "        text-align: right;\n",
       "    }\n",
       "</style>\n",
       "<table border=\"1\" class=\"dataframe\">\n",
       "  <thead>\n",
       "    <tr style=\"text-align: right;\">\n",
       "      <th></th>\n",
       "      <th>a</th>\n",
       "      <th>b</th>\n",
       "      <th>c</th>\n",
       "      <th>d</th>\n",
       "      <th>e</th>\n",
       "      <th>f</th>\n",
       "    </tr>\n",
       "  </thead>\n",
       "  <tbody>\n",
       "    <tr>\n",
       "      <th>1a</th>\n",
       "      <td>1.000000</td>\n",
       "      <td>1.25</td>\n",
       "      <td>-1.0</td>\n",
       "      <td>-1.5</td>\n",
       "      <td>-0.000000</td>\n",
       "      <td>-0.0</td>\n",
       "    </tr>\n",
       "    <tr>\n",
       "      <th>2a</th>\n",
       "      <td>1.000000</td>\n",
       "      <td>0.75</td>\n",
       "      <td>-0.0</td>\n",
       "      <td>-1.5</td>\n",
       "      <td>-0.500000</td>\n",
       "      <td>-0.0</td>\n",
       "    </tr>\n",
       "    <tr>\n",
       "      <th>3b</th>\n",
       "      <td>-0.000000</td>\n",
       "      <td>1.00</td>\n",
       "      <td>2.0</td>\n",
       "      <td>-0.0</td>\n",
       "      <td>-0.000000</td>\n",
       "      <td>-2.0</td>\n",
       "    </tr>\n",
       "    <tr>\n",
       "      <th>4c</th>\n",
       "      <td>0.666667</td>\n",
       "      <td>-0.00</td>\n",
       "      <td>1.0</td>\n",
       "      <td>-1.0</td>\n",
       "      <td>-0.833333</td>\n",
       "      <td>-0.0</td>\n",
       "    </tr>\n",
       "  </tbody>\n",
       "</table>\n",
       "</div>"
      ],
      "text/plain": [
       "           a     b    c    d         e    f\n",
       "1a  1.000000  1.25 -1.0 -1.5 -0.000000 -0.0\n",
       "2a  1.000000  0.75 -0.0 -1.5 -0.500000 -0.0\n",
       "3b -0.000000  1.00  2.0 -0.0 -0.000000 -2.0\n",
       "4c  0.666667 -0.00  1.0 -1.0 -0.833333 -0.0"
      ]
     },
     "execution_count": 6,
     "metadata": {},
     "output_type": "execute_result"
    }
   ],
   "source": [
    "# df.div | df.mul\n",
    "newdf = df.div(lst, axis=0)\n",
    "newdf"
   ]
  },
  {
   "cell_type": "code",
   "execution_count": 7,
   "id": "1a388719",
   "metadata": {},
   "outputs": [
    {
     "data": {
      "text/plain": [
       "array([[ 1.        ,  1.        , -0.        ,  0.66666667],\n",
       "       [ 1.25      ,  0.75      ,  1.        , -0.        ],\n",
       "       [-1.        , -0.        ,  2.        ,  1.        ],\n",
       "       [-1.5       , -1.5       , -0.        , -1.        ],\n",
       "       [-0.        , -0.5       , -0.        , -0.83333333],\n",
       "       [-0.        , -0.        , -2.        , -0.        ]])"
      ]
     },
     "execution_count": 7,
     "metadata": {},
     "output_type": "execute_result"
    }
   ],
   "source": [
    "rate_coef = np.array(newdf.transpose())\n",
    "rate_coef"
   ]
  },
  {
   "cell_type": "code",
   "execution_count": 8,
   "id": "54e2004d",
   "metadata": {},
   "outputs": [],
   "source": [
    "vol_flow = 10 # L/min\n",
    "V = 10 # L\n",
    "Ca0 = 1.0; Cb0 = 1.0 # mol/L\n",
    "Ct0 = Ca0 + Cb0 # mol/L initial total concentration\n",
    "Fa0 = vol_flow*Ca0 # mol/min\n",
    "Fb0 = vol_flow*Cb0 # L/min\n",
    "Fc0 = 0; Fd0 = 0; Fe0 = 0; Ff0 = 0 # L/min\n",
    "Ft0 = Fa0 + Fb0 + Fc0 + Fd0 + Fe0 + Ff0 # L/min\n",
    "\n",
    "k1a = 5.0 # ((m^3/kmol)^2)/min\n",
    "k2a = 2.0 # (m^3/kmol/min)\n",
    "k3b = 10.0 # ((m^3/kmol)^2)/min\n",
    "k4c = 5.0 # ((m^3/kmol)^2/3)/min"
   ]
  },
  {
   "cell_type": "code",
   "execution_count": 9,
   "id": "3669dec9",
   "metadata": {},
   "outputs": [],
   "source": [
    "def func(C, V):\n",
    "    Ca, Cb, Cc, Cd, Ce, Cf = C\n",
    "    \n",
    "    r1a = -k1a*Ca*Cb**2 # be careful of the minus sign\n",
    "    r2a = -k2a*Ca*Cb\n",
    "    r3b = -k3b*Cb*Cc**2\n",
    "    r4c = -k4c*Cc*Ca**(2/3)\n",
    "    \n",
    "    rds = np.array([r1a, r2a, r3b, r4c])\n",
    "    total_rxn = rate_coef*rds\n",
    "    \n",
    "    ra = sum(total_rxn[0])\n",
    "    rb = sum(total_rxn[1])\n",
    "    rc = sum(total_rxn[2])\n",
    "    rd = sum(total_rxn[3])\n",
    "    re = sum(total_rxn[4])\n",
    "    rf = sum(total_rxn[5])\n",
    "    \n",
    "    dCadV = ra/vol_flow\n",
    "    dCbdV = rb/vol_flow\n",
    "    dCcdV = rc/vol_flow\n",
    "    dCddV = rd/vol_flow\n",
    "    dCedV = re/vol_flow\n",
    "    dCfdV = rf/vol_flow\n",
    "    \n",
    "    return [dCadV, dCbdV, dCcdV, dCddV, dCedV, dCfdV]\n",
    "    \n",
    "# initial conditions for the dependent variables\n",
    "x0 = [Ca0, Cb0, 0, 0, 0, 0]\n",
    "\n",
    "# declare a volume vector (volume window) for independent variable\n",
    "Vspan = np.linspace(0, V)\n",
    "# call the function\n",
    "sol = odeint(func, x0, Vspan)\n",
    "\n",
    "Ca, Cb, Cc, Cd, Ce, Cf = sol.T"
   ]
  },
  {
   "cell_type": "code",
   "execution_count": 10,
   "id": "1bd412f3",
   "metadata": {},
   "outputs": [
    {
     "data": {
      "text/plain": [
       "<matplotlib.legend.Legend at 0x2b34dd8d250>"
      ]
     },
     "execution_count": 10,
     "metadata": {},
     "output_type": "execute_result"
    },
    {
     "data": {
      "image/png": "[encoded data removed]",
      "text/plain": [
       "<Figure size 600x400 with 1 Axes>"
      ]
     },
     "metadata": {
      "needs_background": "light"
     },
     "output_type": "display_data"
    },
    {
     "data": {
      "image/png": "[encoded data removed]",
      "text/plain": [
       "<Figure size 600x400 with 1 Axes>"
      ]
     },
     "metadata": {
      "needs_background": "light"
     },
     "output_type": "display_data"
    }
   ],
   "source": [
    "molar_lst = []\n",
    "for conc in sol.T:\n",
    "    molar_lst.append(conc/Ct0)\n",
    "        \n",
    "r1a = k1a*Ca*Cb**2\n",
    "r2a = k2a*Ca*Cb\n",
    "r3b = k3b*Cb*Cc**2\n",
    "r4c = k4c*Cc*Ca**(2/3)\n",
    "\n",
    "rds = np.array([r1a, r2a, r3b, r4c])\n",
    "\n",
    "plt.figure(dpi = 100)\n",
    "plt.plot(Vspan, Ca, label = 'Ca', lw = 1)\n",
    "plt.plot(Vspan, Cb, label = 'Cb', lw = 1)\n",
    "plt.plot(Vspan, Cc, label = 'Cc', lw = 1)\n",
    "plt.plot(Vspan, Cd, label = 'Cd', lw = 1)\n",
    "plt.plot(Vspan, Ce, label = 'Ce', lw = 1)\n",
    "plt.plot(Vspan, Cf, label = 'Cf', lw = 1)\n",
    "\n",
    "plt.ylabel('C$_i$ [mol/min]')\n",
    "plt.xlabel('V [L]')\n",
    "plt.legend(loc='best')\n",
    "\n",
    "plt.figure(dpi = 100)\n",
    "plt.plot(Vspan, r1a, label = 'r1a', lw = 1)\n",
    "plt.plot(Vspan, r2a, label = 'r2a', lw = 1)\n",
    "plt.plot(Vspan, r3b, label = 'r3b', lw = 1)\n",
    "plt.plot(Vspan, r4c, label = 'r4c', lw = 1)\n",
    "\n",
    "plt.ylabel('r$_i$ [mol/min]')\n",
    "plt.xlabel('V [L]')\n",
    "plt.legend(loc='best')"
   ]
  }
 ],
 "metadata": {
  "kernelspec": {
   "display_name": "Python 3 (ipykernel)",
   "language": "python",
   "name": "python3"
  },
  "language_info": {
   "codemirror_mode": {
    "name": "ipython",
    "version": 3
   },
   "file_extension": ".py",
   "mimetype": "text/x-python",
   "name": "python",
   "nbconvert_exporter": "python",
   "pygments_lexer": "ipython3",
   "version": "3.8.11"
  }
 },
 "nbformat": 4,
 "nbformat_minor": 5
}
