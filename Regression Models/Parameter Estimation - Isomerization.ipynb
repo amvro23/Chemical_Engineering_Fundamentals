{
 "cells": [
  {
   "cell_type": "code",
   "execution_count": 1,
   "id": "9f7bbde6",
   "metadata": {},
   "outputs": [],
   "source": [
    "import numpy as np\n",
    "import pandas as pd\n",
    "import matplotlib.pyplot as plt\n",
    "from lmfit import Model\n",
    "from scipy.optimize import minimize"
   ]
  },
  {
   "cell_type": "markdown",
   "id": "0faf8e75",
   "metadata": {},
   "source": [
    "# Non Linear Regression - Iterative Estimation & Linear Approximations\n",
    "\n",
    "(Bates and Watts, 1988, p. 55)\n",
    "\n",
    "Data on the reaction rate of the catalytic isomerization of n-pentane to isopentane versus the partial pressures of hydrogen, n-pentane, and isopentane"
   ]
  },
  {
   "cell_type": "code",
   "execution_count": 2,
   "id": "b201b9ef",
   "metadata": {},
   "outputs": [],
   "source": [
    "df = pd.DataFrame()\n",
    "\n",
    "# partial pressure of hydrogen, n-pentane and isopentane in (psia)\n",
    "df['p_hydrogen'] = [205.8, 404.8, 209.7, 401.6, 224.9, 402.6, 212.7, 406.2, 133.3, 470.9, 300.0, \n",
    "                    301.6, 297.3, 314.0, 305.7, 300.1, 305.4, 305.2, 300.1, 106.6, 417.2, 251.0, 250.3, 145.1]\n",
    "\n",
    "df['p_n_pentane'] = [90.9, 92.9, 174.9, 187.2, 92.7, 102.2, 186.9, 192.6, 140.8, 144.2, 68.3, 214.6, 142.2, 146.7,\n",
    "                    142.0, 143.7, 141.1, 141.5, 83.0, 209.6, 83.9, 294.4, 148.0, 291.0]\n",
    "\n",
    "df['isopentane'] = [37.1, 36.3, 49.4, 44.9, 116.3, 128.9, 134.4, 134.9, 87.6, 86.9, 81.7, 101.7, 10.5, 157.1,\n",
    "                   86.0, 90.2, 87.4, 87.0, 66.4, 33.0, 32.9, 41.5, 14.7, 50.2]\n",
    "\n",
    "# reaction rate in (hr^-1)\n",
    "df['reaction_rate'] = [3.541, 2.397, 6.694, 4.722, 0.593, 0.268, 2.797, 2.451, 3.196, 2.021, 0.896, 5.084, 5.686,\n",
    "                      1.193, 2.648, 3.303, 3.054, 3.302, 1.271, 11.648, 2.002, 9.604, 7.754, 11.590]"
   ]
  },
  {
   "cell_type": "code",
   "execution_count": 3,
   "id": "d73b9d15",
   "metadata": {},
   "outputs": [
    {
     "data": {
      "text/html": [
       "<div>\n",
       "<style scoped>\n",
       "    .dataframe tbody tr th:only-of-type {\n",
       "        vertical-align: middle;\n",
       "    }\n",
       "\n",
       "    .dataframe tbody tr th {\n",
       "        vertical-align: top;\n",
       "    }\n",
       "\n",
       "    .dataframe thead th {\n",
       "        text-align: right;\n",
       "    }\n",
       "</style>\n",
       "<table border=\"1\" class=\"dataframe\">\n",
       "  <thead>\n",
       "    <tr style=\"text-align: right;\">\n",
       "      <th></th>\n",
       "      <th>p_hydrogen</th>\n",
       "      <th>p_n_pentane</th>\n",
       "      <th>isopentane</th>\n",
       "      <th>reaction_rate</th>\n",
       "    </tr>\n",
       "  </thead>\n",
       "  <tbody>\n",
       "    <tr>\n",
       "      <th>0</th>\n",
       "      <td>205.8</td>\n",
       "      <td>90.9</td>\n",
       "      <td>37.1</td>\n",
       "      <td>3.541</td>\n",
       "    </tr>\n",
       "    <tr>\n",
       "      <th>1</th>\n",
       "      <td>404.8</td>\n",
       "      <td>92.9</td>\n",
       "      <td>36.3</td>\n",
       "      <td>2.397</td>\n",
       "    </tr>\n",
       "    <tr>\n",
       "      <th>2</th>\n",
       "      <td>209.7</td>\n",
       "      <td>174.9</td>\n",
       "      <td>49.4</td>\n",
       "      <td>6.694</td>\n",
       "    </tr>\n",
       "    <tr>\n",
       "      <th>3</th>\n",
       "      <td>401.6</td>\n",
       "      <td>187.2</td>\n",
       "      <td>44.9</td>\n",
       "      <td>4.722</td>\n",
       "    </tr>\n",
       "    <tr>\n",
       "      <th>4</th>\n",
       "      <td>224.9</td>\n",
       "      <td>92.7</td>\n",
       "      <td>116.3</td>\n",
       "      <td>0.593</td>\n",
       "    </tr>\n",
       "    <tr>\n",
       "      <th>5</th>\n",
       "      <td>402.6</td>\n",
       "      <td>102.2</td>\n",
       "      <td>128.9</td>\n",
       "      <td>0.268</td>\n",
       "    </tr>\n",
       "    <tr>\n",
       "      <th>6</th>\n",
       "      <td>212.7</td>\n",
       "      <td>186.9</td>\n",
       "      <td>134.4</td>\n",
       "      <td>2.797</td>\n",
       "    </tr>\n",
       "    <tr>\n",
       "      <th>7</th>\n",
       "      <td>406.2</td>\n",
       "      <td>192.6</td>\n",
       "      <td>134.9</td>\n",
       "      <td>2.451</td>\n",
       "    </tr>\n",
       "    <tr>\n",
       "      <th>8</th>\n",
       "      <td>133.3</td>\n",
       "      <td>140.8</td>\n",
       "      <td>87.6</td>\n",
       "      <td>3.196</td>\n",
       "    </tr>\n",
       "    <tr>\n",
       "      <th>9</th>\n",
       "      <td>470.9</td>\n",
       "      <td>144.2</td>\n",
       "      <td>86.9</td>\n",
       "      <td>2.021</td>\n",
       "    </tr>\n",
       "    <tr>\n",
       "      <th>10</th>\n",
       "      <td>300.0</td>\n",
       "      <td>68.3</td>\n",
       "      <td>81.7</td>\n",
       "      <td>0.896</td>\n",
       "    </tr>\n",
       "    <tr>\n",
       "      <th>11</th>\n",
       "      <td>301.6</td>\n",
       "      <td>214.6</td>\n",
       "      <td>101.7</td>\n",
       "      <td>5.084</td>\n",
       "    </tr>\n",
       "    <tr>\n",
       "      <th>12</th>\n",
       "      <td>297.3</td>\n",
       "      <td>142.2</td>\n",
       "      <td>10.5</td>\n",
       "      <td>5.686</td>\n",
       "    </tr>\n",
       "    <tr>\n",
       "      <th>13</th>\n",
       "      <td>314.0</td>\n",
       "      <td>146.7</td>\n",
       "      <td>157.1</td>\n",
       "      <td>1.193</td>\n",
       "    </tr>\n",
       "    <tr>\n",
       "      <th>14</th>\n",
       "      <td>305.7</td>\n",
       "      <td>142.0</td>\n",
       "      <td>86.0</td>\n",
       "      <td>2.648</td>\n",
       "    </tr>\n",
       "    <tr>\n",
       "      <th>15</th>\n",
       "      <td>300.1</td>\n",
       "      <td>143.7</td>\n",
       "      <td>90.2</td>\n",
       "      <td>3.303</td>\n",
       "    </tr>\n",
       "    <tr>\n",
       "      <th>16</th>\n",
       "      <td>305.4</td>\n",
       "      <td>141.1</td>\n",
       "      <td>87.4</td>\n",
       "      <td>3.054</td>\n",
       "    </tr>\n",
       "    <tr>\n",
       "      <th>17</th>\n",
       "      <td>305.2</td>\n",
       "      <td>141.5</td>\n",
       "      <td>87.0</td>\n",
       "      <td>3.302</td>\n",
       "    </tr>\n",
       "    <tr>\n",
       "      <th>18</th>\n",
       "      <td>300.1</td>\n",
       "      <td>83.0</td>\n",
       "      <td>66.4</td>\n",
       "      <td>1.271</td>\n",
       "    </tr>\n",
       "    <tr>\n",
       "      <th>19</th>\n",
       "      <td>106.6</td>\n",
       "      <td>209.6</td>\n",
       "      <td>33.0</td>\n",
       "      <td>11.648</td>\n",
       "    </tr>\n",
       "    <tr>\n",
       "      <th>20</th>\n",
       "      <td>417.2</td>\n",
       "      <td>83.9</td>\n",
       "      <td>32.9</td>\n",
       "      <td>2.002</td>\n",
       "    </tr>\n",
       "    <tr>\n",
       "      <th>21</th>\n",
       "      <td>251.0</td>\n",
       "      <td>294.4</td>\n",
       "      <td>41.5</td>\n",
       "      <td>9.604</td>\n",
       "    </tr>\n",
       "    <tr>\n",
       "      <th>22</th>\n",
       "      <td>250.3</td>\n",
       "      <td>148.0</td>\n",
       "      <td>14.7</td>\n",
       "      <td>7.754</td>\n",
       "    </tr>\n",
       "    <tr>\n",
       "      <th>23</th>\n",
       "      <td>145.1</td>\n",
       "      <td>291.0</td>\n",
       "      <td>50.2</td>\n",
       "      <td>11.590</td>\n",
       "    </tr>\n",
       "  </tbody>\n",
       "</table>\n",
       "</div>"
      ],
      "text/plain": [
       "    p_hydrogen  p_n_pentane  isopentane  reaction_rate\n",
       "0        205.8         90.9        37.1          3.541\n",
       "1        404.8         92.9        36.3          2.397\n",
       "2        209.7        174.9        49.4          6.694\n",
       "3        401.6        187.2        44.9          4.722\n",
       "4        224.9         92.7       116.3          0.593\n",
       "5        402.6        102.2       128.9          0.268\n",
       "6        212.7        186.9       134.4          2.797\n",
       "7        406.2        192.6       134.9          2.451\n",
       "8        133.3        140.8        87.6          3.196\n",
       "9        470.9        144.2        86.9          2.021\n",
       "10       300.0         68.3        81.7          0.896\n",
       "11       301.6        214.6       101.7          5.084\n",
       "12       297.3        142.2        10.5          5.686\n",
       "13       314.0        146.7       157.1          1.193\n",
       "14       305.7        142.0        86.0          2.648\n",
       "15       300.1        143.7        90.2          3.303\n",
       "16       305.4        141.1        87.4          3.054\n",
       "17       305.2        141.5        87.0          3.302\n",
       "18       300.1         83.0        66.4          1.271\n",
       "19       106.6        209.6        33.0         11.648\n",
       "20       417.2         83.9        32.9          2.002\n",
       "21       251.0        294.4        41.5          9.604\n",
       "22       250.3        148.0        14.7          7.754\n",
       "23       145.1        291.0        50.2         11.590"
      ]
     },
     "execution_count": 3,
     "metadata": {},
     "output_type": "execute_result"
    }
   ],
   "source": [
    "df"
   ]
  },
  {
   "cell_type": "code",
   "execution_count": 4,
   "id": "03f3712a",
   "metadata": {},
   "outputs": [
    {
     "data": {
      "text/plain": [
       "array([ 3.541,  2.397,  6.694,  4.722,  0.593,  0.268,  2.797,  2.451,\n",
       "        3.196,  2.021,  0.896,  5.084,  5.686,  1.193,  2.648,  3.303,\n",
       "        3.054,  3.302,  1.271, 11.648,  2.002,  9.604,  7.754, 11.59 ])"
      ]
     },
     "execution_count": 4,
     "metadata": {},
     "output_type": "execute_result"
    }
   ],
   "source": [
    "y_obs = df['reaction_rate'].T.values\n",
    "y_obs"
   ]
  },
  {
   "cell_type": "code",
   "execution_count": 5,
   "id": "edf2f2d6",
   "metadata": {},
   "outputs": [
    {
     "data": {
      "text/plain": [
       "array([[9.0900e+01, 9.2900e+01, 1.7490e+02, 1.8720e+02, 9.2700e+01,\n",
       "        1.0220e+02, 1.8690e+02, 1.9260e+02, 1.4080e+02, 1.4420e+02,\n",
       "        6.8300e+01, 2.1460e+02, 1.4220e+02, 1.4670e+02, 1.4200e+02,\n",
       "        1.4370e+02, 1.4110e+02, 1.4150e+02, 8.3000e+01, 2.0960e+02,\n",
       "        8.3900e+01, 2.9440e+02, 1.4800e+02, 2.9100e+02],\n",
       "       [3.7100e+01, 3.6300e+01, 4.9400e+01, 4.4900e+01, 1.1630e+02,\n",
       "        1.2890e+02, 1.3440e+02, 1.3490e+02, 8.7600e+01, 8.6900e+01,\n",
       "        8.1700e+01, 1.0170e+02, 1.0500e+01, 1.5710e+02, 8.6000e+01,\n",
       "        9.0200e+01, 8.7400e+01, 8.7000e+01, 6.6400e+01, 3.3000e+01,\n",
       "        3.2900e+01, 4.1500e+01, 1.4700e+01, 5.0200e+01],\n",
       "       [3.5410e+00, 2.3970e+00, 6.6940e+00, 4.7220e+00, 5.9300e-01,\n",
       "        2.6800e-01, 2.7970e+00, 2.4510e+00, 3.1960e+00, 2.0210e+00,\n",
       "        8.9600e-01, 5.0840e+00, 5.6860e+00, 1.1930e+00, 2.6480e+00,\n",
       "        3.3030e+00, 3.0540e+00, 3.3020e+00, 1.2710e+00, 1.1648e+01,\n",
       "        2.0020e+00, 9.6040e+00, 7.7540e+00, 1.1590e+01]])"
      ]
     },
     "execution_count": 5,
     "metadata": {},
     "output_type": "execute_result"
    }
   ],
   "source": [
    "# regressor to predict a response variable\n",
    "regressor = df.iloc[:, 1:].T.values\n",
    "regressor"
   ]
  },
  {
   "cell_type": "code",
   "execution_count": 6,
   "id": "de4b8e26",
   "metadata": {},
   "outputs": [
    {
     "data": {
      "image/png": "[encoded data removed]",
      "text/plain": [
       "<Figure size 1200x400 with 3 Axes>"
      ]
     },
     "metadata": {},
     "output_type": "display_data"
    }
   ],
   "source": [
    "fig, ax = plt.subplots(ncols = 3, figsize = (12, 4))\n",
    "\n",
    "ax[0].plot(df['p_hydrogen'], df['reaction_rate'], 'k.')\n",
    "ax[0].set_xlabel('Hydrogen partial pressure (psia)')\n",
    "ax[0].set_ylabel('Reaction rate (hr$^{-1}$)')\n",
    "\n",
    "ax[1].plot(df['p_n_pentane'], df['reaction_rate'], 'b.')\n",
    "ax[1].set_xlabel('n-Pentane partial pressure (psia)')\n",
    "ax[1].set_ylabel('Reaction rate (hr$^{-1}$)')\n",
    "\n",
    "ax[2].plot(df['isopentane'], df['reaction_rate'], 'm.')\n",
    "ax[2].set_xlabel('Isopentane partial pressure (psia)')\n",
    "ax[2].set_ylabel('Reaction rate (hr$^{-1}$)')\n",
    "\n",
    "fig.tight_layout()"
   ]
  },
  {
   "cell_type": "markdown",
   "id": "3b3b7ca9",
   "metadata": {},
   "source": [
    "A proposed model for this data is\n",
    "\n",
    "$f(x, \\theta) = \\frac{\\theta_1\\theta_3(x_2-x_3/1.632)}{1+\\theta_2x_1+\\theta_3x_2+\\theta_4x_3}$"
   ]
  },
  {
   "cell_type": "code",
   "execution_count": 7,
   "id": "e53f74d5",
   "metadata": {},
   "outputs": [
    {
     "data": {
      "text/plain": [
       "array([0.26354313, 0.26268505, 0.19525628, 0.1766305 , 0.55052467,\n",
       "       0.55401684, 0.40814327, 0.40307526, 0.36819922, 0.3658862 ,\n",
       "       0.53425357, 0.30579931, 0.04401849, 0.51102148, 0.36424856,\n",
       "       0.37017209, 0.36777986, 0.36501712, 0.4326549 , 0.10132399,\n",
       "       0.26438026, 0.10278437, 0.05802591, 0.12181883])"
      ]
     },
     "execution_count": 7,
     "metadata": {},
     "output_type": "execute_result"
    }
   ],
   "source": [
    "def calc_y(x, a, b, c, d):\n",
    "    \n",
    "    num = a*c*(x[1] - x[2]/1.632)\n",
    "    denom = 1+b*x[0]+c*x[1]+d*x[2]\n",
    "    y = num/denom \n",
    "    \n",
    "    return y\n",
    "\n",
    "# test functionality of calc_y\n",
    "calc_y(regressor, 1, 1, 1, 1)"
   ]
  },
  {
   "cell_type": "markdown",
   "id": "939f0d1c",
   "metadata": {},
   "source": [
    "### use \"lmfit\""
   ]
  },
  {
   "cell_type": "code",
   "execution_count": 8,
   "id": "6a4add81",
   "metadata": {},
   "outputs": [
    {
     "name": "stdout",
     "output_type": "stream",
     "text": [
      "[[Model]]\n",
      "    Model(calc_y)\n",
      "[[Fit Statistics]]\n",
      "    # fitting method   = leastsq\n",
      "    # function evals   = 139\n",
      "    # data points      = 24\n",
      "    # variables        = 4\n",
      "    chi-square         = 45.6987332\n",
      "    reduced chi-square = 2.28493666\n",
      "    Akaike info crit   = 23.4564019\n",
      "    Bayesian info crit = 28.1686173\n",
      "[[Variables]]\n",
      "    a:  3.03125471 +/- 0.37234177 (12.28%) (init = 0.1)\n",
      "    b: -0.00503665 +/- 6.9499e-04 (13.80%) (init = 0.1)\n",
      "    c:  0.04432949 +/- 0.00416243 (9.39%) (init = 0.1)\n",
      "    d: -0.09580068 +/- 0.01111612 (11.60%) (init = 0.1)\n",
      "[[Correlations]] (unreported correlations are < 0.100)\n",
      "    C(b, d) = -0.737\n",
      "    C(b, c) = -0.523\n",
      "    C(a, b) = 0.408\n",
      "    C(a, d) = -0.235\n",
      "    C(c, d) = -0.114\n"
     ]
    }
   ],
   "source": [
    "my_model = Model(calc_y)\n",
    "\n",
    "# set the boundries for each parameter\n",
    "# my_model.set_param_hint('a', min= 0.5, max=200)\n",
    "# my_model.set_param_hint('b', min=-0.5, max=1)\n",
    "# my_model.set_param_hint('c', min=-0.5, max=1)\n",
    "# my_model.set_param_hint('d', min= -0.5, max=10)\n",
    "\n",
    "# initial values\n",
    "result = my_model.fit(y_obs, x=regressor, a=0.1, b=0.1, c=0.1, d=0.1)\n",
    "\n",
    "print(result.fit_report())"
   ]
  },
  {
   "cell_type": "code",
   "execution_count": 9,
   "id": "abd31833",
   "metadata": {},
   "outputs": [],
   "source": [
    "best_values = np.array(list(result.best_values.values()))\n",
    "best_fit = result.best_fit"
   ]
  },
  {
   "cell_type": "markdown",
   "id": "6ee391f6",
   "metadata": {},
   "source": [
    "**Studentized residual** is a statistical term and it is defined as the quotient obtained by dividing a residual by its estimated standard deviation. This is a crucial technique used in the detection of outlines. Practically, one can claim that any type of observation in a dataset having a studentized residual of more than 3 (absolute value) is an outlier. "
   ]
  },
  {
   "cell_type": "code",
   "execution_count": 10,
   "id": "d55a911a",
   "metadata": {},
   "outputs": [],
   "source": [
    "# X: regressor, Y: response variable\n",
    "def internally_studentized_residual(X, Y):\n",
    "    \n",
    "    X = np.array(X, dtype=float)\n",
    "    Y = np.array(Y, dtype=float)\n",
    "    \n",
    "    mean_X = np.mean(X)\n",
    "    mean_Y = np.mean(Y)\n",
    "    n = len(X)\n",
    "    \n",
    "    diff_mean_sqr = np.dot((X - mean_X), (X - mean_X))\n",
    "    \n",
    "    beta1 = np.dot((X - mean_X), (Y - mean_Y)) / diff_mean_sqr\n",
    "    beta0 = mean_Y - beta1 * mean_X\n",
    "    \n",
    "    y_hat = beta0 + beta1 * X\n",
    "    residuals = Y - y_hat\n",
    "    \n",
    "    h_ii = (X - mean_X) ** 2 / diff_mean_sqr + (1 / n)\n",
    "    Var_e = np.sqrt(sum((Y - y_hat) ** 2)/(n-2))\n",
    "    SE_regression = Var_e*((1-h_ii) ** 0.5)\n",
    "    studentized_residuals = residuals/SE_regression\n",
    "    \n",
    "    return studentized_residuals"
   ]
  },
  {
   "cell_type": "code",
   "execution_count": 11,
   "id": "1615c740",
   "metadata": {},
   "outputs": [],
   "source": [
    "residual_p_hydrogen = internally_studentized_residual(df[\"p_hydrogen\"], df['reaction_rate'])\n",
    "residual_p_n_pentane = internally_studentized_residual(df[\"p_n_pentane\"], df['reaction_rate'])\n",
    "residual_isopentane = internally_studentized_residual(df[\"isopentane\"], df['reaction_rate'])\n",
    "residual_fitted = internally_studentized_residual(best_fit, df['reaction_rate'])"
   ]
  },
  {
   "cell_type": "code",
   "execution_count": 12,
   "id": "9f359913",
   "metadata": {},
   "outputs": [
    {
     "data": {
      "image/png": "[encoded data removed]",
      "text/plain": [
       "<Figure size 800x600 with 4 Axes>"
      ]
     },
     "metadata": {},
     "output_type": "display_data"
    }
   ],
   "source": [
    "fig, ax = plt.subplots(nrows = 2, ncols = 2, figsize = (8, 6))\n",
    "\n",
    "ax[0][0].plot(df['p_hydrogen'], residual_p_hydrogen, 'k.')\n",
    "ax[0][0].set_xlabel('Hydrogen partial pressure (psia)')\n",
    "ax[0][0].set_ylabel('Studentized residuals')\n",
    "ax[0][0].axhline(y=0, color = \"r\", linestyle = \"--\")\n",
    "\n",
    "ax[0][1].plot(df['p_n_pentane'], residual_p_n_pentane, 'b.')\n",
    "ax[0][1].set_xlabel('n-Pentane partial pressure (psia)')\n",
    "ax[0][1].set_ylabel('Studentized residuals')\n",
    "ax[0][1].axhline(y=0, color = \"r\", linestyle = \"--\")\n",
    "\n",
    "ax[1][0].plot(df['isopentane'], residual_isopentane, 'm.')\n",
    "ax[1][0].set_xlabel('Isopentane partial pressure (psia)')\n",
    "ax[1][0].set_ylabel('Studentized residuals')\n",
    "ax[1][0].axhline(y=0, color = \"r\", linestyle = \"--\")\n",
    "\n",
    "ax[1][1].plot(best_fit, residual_fitted, 'g.')\n",
    "ax[1][1].set_xlabel('Fitted values')\n",
    "ax[1][1].set_ylabel('Studentized residuals')\n",
    "ax[1][1].axhline(y=0, color = \"r\", linestyle = \"--\")\n",
    "\n",
    "fig.tight_layout()"
   ]
  },
  {
   "cell_type": "markdown",
   "id": "055d5164",
   "metadata": {},
   "source": [
    "### Observations\n",
    "\n",
    "The plots show the residuals are generally well behaved. The summary statistics suggest potential difficulties since some of the standard errors produce approximate 95% intervals which include negative values, but the parameters must be positive to be physically meaningfull. \n",
    "\n",
    "On the other hand, contrary to Bates and Watts calculations the correlations are not exremely high when lmfit is used however the Studentized residuals vs Fitted values plot show residuals that is not very well behaved."
   ]
  },
  {
   "cell_type": "markdown",
   "id": "fbc1d638",
   "metadata": {},
   "source": [
    "### use scipy \"L-BFGS-B\""
   ]
  },
  {
   "cell_type": "code",
   "execution_count": 13,
   "id": "6b2f11e0",
   "metadata": {},
   "outputs": [
    {
     "data": {
      "text/plain": [
       "      fun: 45.69873336792945\n",
       " hess_inv: <4x4 LbfgsInvHessProduct with dtype=float64>\n",
       "      jac: array([ 7.10542740e-06, -3.83622023e-03,  1.83320026e-04, -3.57402996e-04])\n",
       "  message: 'CONVERGENCE: REL_REDUCTION_OF_F_<=_FACTR*EPSMCH'\n",
       "     nfev: 425\n",
       "      nit: 43\n",
       "     njev: 85\n",
       "   status: 0\n",
       "  success: True\n",
       "        x: array([ 3.03125453, -0.00503679,  0.04433045, -0.09579975])"
      ]
     },
     "execution_count": 13,
     "metadata": {},
     "output_type": "execute_result"
    }
   ],
   "source": [
    "def min_lsq(p, t, y):\n",
    "    \n",
    "    y_pred = calc_y(t, *p)\n",
    "    z = y_pred - y\n",
    "\n",
    "    return np.sum(z * z)\n",
    "\n",
    "initial_values = [0.1, 0.1, 0.1, 0.1]\n",
    "\n",
    "bnds = [(0, 30), (-1, 1), (-1, 1), (-1, 1)]\n",
    "\n",
    "min_sol_BFGS = minimize(min_lsq,\n",
    "                            initial_values,\n",
    "                            args=(regressor, y_obs),\n",
    "                            method=\"L-BFGS-B\",\n",
    "                            bounds = bnds)\n",
    "\n",
    "min_sol_BFGS"
   ]
  }
 ],
 "metadata": {
  "kernelspec": {
   "display_name": "Python 3 (ipykernel)",
   "language": "python",
   "name": "python3"
  },
  "language_info": {
   "codemirror_mode": {
    "name": "ipython",
    "version": 3
   },
   "file_extension": ".py",
   "mimetype": "text/x-python",
   "name": "python",
   "nbconvert_exporter": "python",
   "pygments_lexer": "ipython3",
   "version": "3.8.13"
  }
 },
 "nbformat": 4,
 "nbformat_minor": 5
}
