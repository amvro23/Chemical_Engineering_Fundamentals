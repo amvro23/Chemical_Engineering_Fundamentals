{
 "cells": [
  {
   "cell_type": "code",
   "execution_count": 1,
   "id": "7dcc6a91",
   "metadata": {},
   "outputs": [],
   "source": [
    "import numpy as np"
   ]
  },
  {
   "cell_type": "markdown",
   "id": "c19c76e6",
   "metadata": {},
   "source": [
    "### 1) Thermodynamic Analysis of an Ideal Mixture Containing (CH$_4$, CO$_2$, H$_2$O, H$_2$, CO, Ar)\n",
    "### 2) Thermodynamic Analysis of 4 Parallel DRM Reactions (i.e., DRM, SRM1, SRM2, WGS) "
   ]
  },
  {
   "cell_type": "markdown",
   "id": "d0c9c606",
   "metadata": {},
   "source": [
    "### Input Data"
   ]
  },
  {
   "cell_type": "code",
   "execution_count": 2,
   "id": "ad04e13d",
   "metadata": {},
   "outputs": [],
   "source": [
    "# coefficients of shomate equation - nist data from https://webbook.nist.gov/\n",
    "\n",
    "co2 = [24.99735, 55.18696, -33.69137, 7.948387, -0.136638, -403.6075, 228.2431, -393.5224]\n",
    "ch4 = [-0.703029, 108.4773, -42.52157, 5.862788, 0.678565, -76.84376, 158.7163, -74.87310]\n",
    "h2o = [30.09200, 6.832514, 6.793435, -2.534480, 0.082139, -250.8810, 223.3967, -241.8264]\n",
    "h2 = [33.066178, -11.363417, 11.432816, -2.772874, -0.158558, -9.980797, 172.707974, 0.0]\n",
    "co = [25.56759, 6.096130, 4.054656,  -2.671301,  0.131021, -118.0089, 227.3665, -110.5271]\n",
    "ar = [20.78600, 2.825911e-07, -1.464191e-07,  1.092131e-08, -3.661371e-08, -6.197350, 179.9990, 0.00000]\n",
    "\n",
    "######################################################################################################################\n",
    "# enthalpy of formation in kJ/mol\n",
    "HF298_ch4 = -74.85\n",
    "HF298_co2 = -393.51\n",
    "HF298_h2o = -241.826\n",
    "HF298_h2 = 0.0\n",
    "HF298_co = -110.53\n",
    "HF298_ar = 0.0\n",
    "\n",
    "######################################################################################################################\n",
    "# entropy of formation in J/mol/K\n",
    "SF298_ch4 = 186.25\n",
    "SF298_co2 = 197.66\n",
    "SF298_h2o = 188.84\n",
    "SF298_h2 = 130.68\n",
    "SF298_co = 213.79\n",
    "SF298_ar = 154.84\n",
    "\n",
    "# gibbs of formation in kJ/mol\n",
    "GF298_ch4 = HF298_ch4 - 298.15*SF298_ch4/1000\n",
    "GF298_co2 = HF298_co2 - 298.15*SF298_co2/1000\n",
    "GF298_h2o = HF298_h2o - 298.15*SF298_h2o/1000\n",
    "GF298_h2 = HF298_h2 - 298.15*SF298_h2/1000\n",
    "GF298_co = HF298_co - 298.15*SF298_co/1000\n",
    "GF298_ar = HF298_ar - 298.15*SF298_ar/1000\n",
    "\n",
    "######################################################################################################################\n",
    "# molar masses of the species containing in the mixture in kg/mol\n",
    "mr_ch4 = 16.04e-03\n",
    "mr_co2 = 44.01e-03\n",
    "mr_h2o = 18.01528e-03\n",
    "mr_h2 = 2.01588e-03\n",
    "mr_co = 28.01e-03\n",
    "mr_ar = 39.948e-03"
   ]
  },
  {
   "cell_type": "markdown",
   "id": "b4cb0ca6",
   "metadata": {},
   "source": [
    "### Equations"
   ]
  },
  {
   "cell_type": "code",
   "execution_count": 3,
   "id": "9b97a095",
   "metadata": {},
   "outputs": [],
   "source": [
    "# assumption of an ideal gas mixture\n",
    "\n",
    "# partial concentrations of species in mol/m3\n",
    "def ci_mol_m3(T, P, y):\n",
    "\n",
    "    return np.array([y*P/(8.314e-05*T)])\n",
    "\n",
    "# total concentration of the mixture in mol/m3\n",
    "def c_total_mol_m3(T, P, y):\n",
    "\n",
    "    return np.array([np.sum(ci_mol_m3(T, P, y))])\n",
    "\n",
    "# density of the mixture in kg/m3\n",
    "def d_mix_kg_m3(T, P, y):\n",
    "\n",
    "    return np.array([c_total_mol_m3(T, P, y)*Mr.dot(y)])\n",
    "\n",
    "# molar mass of the mixture in kg/mol\n",
    "def mr_mix_kg_mol(Mr, y):\n",
    "\n",
    "    return np.array([Mr.dot(y)])\n",
    "\n",
    "######################################################################################################################\n",
    "\n",
    "# specific heat capacity of species in J/mol/K\n",
    "def cpi_j_mol_K(T, WBi):\n",
    "\n",
    "    t = T/1000\n",
    "\n",
    "    T_Cpi = np.array([1,  t, t**2, t**3, 1.0/t])\n",
    "    \n",
    "    return np.array([WBi.dot(T_Cpi)])\n",
    "\n",
    "# specific heat capacity of the mixture in J/mol/K\n",
    "def cp_mix_j_mol_K(T, y, WBi):\n",
    "\n",
    "    t = T/1000\n",
    "\n",
    "    T_Cpi = np.array([1,  t, t**2, t**3, 1.0/t])\n",
    "    \n",
    "    return np.array([WBi.dot(T_Cpi).dot(y)])\n",
    "\n",
    "# specific heat capacity of the mixture in J/kg/K\n",
    "def cp_mix_kg_mol_K(T, y, WBi, Mr):\n",
    "\n",
    "    t = T/1000\n",
    "\n",
    "    T_Cpi = np.array([1,  t, t**2, t**3, 1.0/t])\n",
    "    \n",
    "    num = (WBi.dot(T_Cpi)).dot(y)\n",
    "    den = Mr.dot(y)\n",
    "    \n",
    "    return np.array([num/den])\n",
    "\n",
    "######################################################################################################################\n",
    "# enthalpy of reaction in kJ/mol\n",
    "def enthalpy_rxn_kj_mol(T, WBi, HF298_j, stoichiometry):\n",
    "\n",
    "    t = T/1000\n",
    "\n",
    "    Hrxn298 = np.dot(HF298_j, stoichiometry)\n",
    "\n",
    "    T_Hi = np.array([t,  t**2 / 2.0, t**3 / 3.0, t**4 / 4.0, -1.0 / t, 1.0, 0.0, -1.0])\n",
    "\n",
    "    Hrxn = Hrxn298 + (WBi.dot(T_Hi)).dot(stoichiometry)\n",
    "\n",
    "    return np.array([Hrxn])\n",
    "\n",
    "# partial enthalpies of species in kJ/mol\n",
    "def partial_enthalpies_kj_mol(T, WBi, HF298_i):\n",
    "\n",
    "    t = T/1000\n",
    "\n",
    "    T_Hi = np.array([t,  t**2 / 2.0, t**3 / 3.0, t**4 / 4.0, -1.0 / t, 1.0, 0.0, -1.0])\n",
    "\n",
    "    Hi = WBi.dot(T_Hi) # (H - H_298.15) kJ/mol\n",
    "\n",
    "    return np.array([(Hi + HF298_i)])\n",
    "\n",
    "######################################################################################################################\n",
    "# entropy of reaction in kJ/mol\n",
    "def entropy_rxn_kj_mol(T, WBi, SF298_j, stoichiometry):\n",
    "\n",
    "    t = T/1000\n",
    "\n",
    "    Srxn298 = np.dot(SF298_j, stoichiometry)\n",
    "\n",
    "    T_Si = np.array([np.log(t), t,  t**2 / 2.0,  t**3 / 3.0, -1.0 / (2.0 * t**2), 0.0, 1.0, 0.0])\n",
    "    \n",
    "    Srxn = (WBi.dot(T_Si/1000.0)).dot(stoichiometry)\n",
    "\n",
    "    return np.array([Srxn])\n",
    "\n",
    "######################################################################################################################\n",
    "def gibbs_rxn_kj_mol(T, WBi, HF298_j, SF298_j, stoichiometry):\n",
    "\n",
    "    Grxn = enthalpy_rxn_kj_mol(T, WBi, HF298_j, stoichiometry) - T*entropy_rxn_kj_mol(T, WBi, SF298_j, stoichiometry)\n",
    "\n",
    "    return np.array([Grxn])"
   ]
  },
  {
   "cell_type": "code",
   "execution_count": 4,
   "id": "765acb9d",
   "metadata": {},
   "outputs": [],
   "source": [
    "# condition for thermodynamic analysis for both cases\n",
    "T = 873.15 # K\n",
    "P = 1 # bar\n",
    "R = 8.314e-3 # kJ/mol/K"
   ]
  },
  {
   "cell_type": "markdown",
   "id": "b5e1ff05",
   "metadata": {},
   "source": [
    "### 1) Mixture"
   ]
  },
  {
   "cell_type": "code",
   "execution_count": 5,
   "id": "789a2360",
   "metadata": {},
   "outputs": [],
   "source": [
    "######################################################################################################################\n",
    "# mixture of CH4:0.3, CO2:0.2, H2O:0.0, H2:0.0, CO:0.0, Ar:0.5\n",
    "WBi_species = np.array([ch4, co2, h2o, h2, co, ar])\n",
    "\n",
    "# heats of formation at 298.15 K for CH4, CO2, H2O, H2, CO, Ar in kJ/mol\n",
    "HF298_species = np.array([HF298_ch4, HF298_co2, HF298_h2o,  HF298_h2, HF298_co, HF298_ar])\n",
    "\n",
    "# molar mass of species in the mixture in kg/mol\n",
    "Mr = np.array([mr_ch4, mr_co2, mr_h2o, mr_h2, mr_co, mr_ar])\n",
    "\n",
    "# molar ratio of the species in the mixture dimensionless\n",
    "y = np.array([0.3, 0.2, 0.0, 0.0, 0.0, 0.5])"
   ]
  },
  {
   "cell_type": "code",
   "execution_count": 6,
   "id": "a9b81be7",
   "metadata": {},
   "outputs": [
    {
     "data": {
      "text/plain": [
       "array([[4.13259053, 2.75506035, 0.        , 0.        , 0.        ,\n",
       "        6.88765088]])"
      ]
     },
     "execution_count": 6,
     "metadata": {},
     "output_type": "execute_result"
    }
   ],
   "source": [
    "# partial molar enthalpies of the mixture in mol/m3\n",
    "ci_mol_m3(T, P, y)"
   ]
  },
  {
   "cell_type": "code",
   "execution_count": 7,
   "id": "67fa5a7d",
   "metadata": {},
   "outputs": [
    {
     "data": {
      "text/plain": [
       "array([13.77530177])"
      ]
     },
     "execution_count": 7,
     "metadata": {},
     "output_type": "execute_result"
    }
   ],
   "source": [
    "# total concentration of the mixture in mol/m3\n",
    "c_total_mol_m3(T, P, y)"
   ]
  },
  {
   "cell_type": "code",
   "execution_count": 8,
   "id": "ec6d2296",
   "metadata": {},
   "outputs": [
    {
     "data": {
      "text/plain": [
       "array([[0.46268484]])"
      ]
     },
     "execution_count": 8,
     "metadata": {},
     "output_type": "execute_result"
    }
   ],
   "source": [
    "# density of the mixture in kg/m3\n",
    "d_mix_kg_m3(T, P, y)"
   ]
  },
  {
   "cell_type": "code",
   "execution_count": 9,
   "id": "9baf992b",
   "metadata": {},
   "outputs": [
    {
     "data": {
      "text/plain": [
       "array([0.033588])"
      ]
     },
     "execution_count": 9,
     "metadata": {},
     "output_type": "execute_result"
    }
   ],
   "source": [
    "# molar mass of the mixture in kg/mol\n",
    "mr_mix_kg_mol(Mr, y)"
   ]
  },
  {
   "cell_type": "code",
   "execution_count": 10,
   "id": "4e4a6f87",
   "metadata": {},
   "outputs": [
    {
     "data": {
      "text/plain": [
       "array([[66.27576278, 52.63245614, 39.64397803, 29.83304121, 32.35347837,\n",
       "        20.7860001 ]])"
      ]
     },
     "execution_count": 10,
     "metadata": {},
     "output_type": "execute_result"
    }
   ],
   "source": [
    "# specific heat capacity of species in J/mol/K\n",
    "cpi_j_mol_K(T, WBi_species[:,:-3])"
   ]
  },
  {
   "cell_type": "code",
   "execution_count": 11,
   "id": "9e18f75e",
   "metadata": {},
   "outputs": [
    {
     "data": {
      "text/plain": [
       "array([40.80222011])"
      ]
     },
     "execution_count": 11,
     "metadata": {},
     "output_type": "execute_result"
    }
   ],
   "source": [
    "# specific heat capacity of the mixture in J/mol/K\n",
    "cp_mix_j_mol_K(T, y, WBi_species[:,:-3])"
   ]
  },
  {
   "cell_type": "code",
   "execution_count": 12,
   "id": "5f866e4e",
   "metadata": {},
   "outputs": [
    {
     "data": {
      "text/plain": [
       "array([1214.78564105])"
      ]
     },
     "execution_count": 12,
     "metadata": {},
     "output_type": "execute_result"
    }
   ],
   "source": [
    "# specific heat capacity of the mixture in J/kg/K\n",
    "cp_mix_kg_mol_K(T, y,  WBi_species[:,:-3], Mr)"
   ]
  },
  {
   "cell_type": "code",
   "execution_count": 13,
   "id": "cd5a06cc",
   "metadata": {},
   "outputs": [
    {
     "data": {
      "text/plain": [
       "array([[ -45.44395579, -366.89608539, -220.95618251,   16.87479203,\n",
       "         -93.0021606 ,   11.95194602]])"
      ]
     },
     "execution_count": 13,
     "metadata": {},
     "output_type": "execute_result"
    }
   ],
   "source": [
    "# partial enthalpies of species in the gas mixture in kJ/mol\n",
    "partial_enthalpies_kj_mol(T, WBi_species, HF298_species)"
   ]
  },
  {
   "cell_type": "markdown",
   "id": "0593dfff",
   "metadata": {},
   "source": [
    "### 2) Parallel Reactions"
   ]
  },
  {
   "cell_type": "code",
   "execution_count": 14,
   "id": "4ecdd3e6",
   "metadata": {},
   "outputs": [],
   "source": [
    "# CO2 + CH4 ⇌ 2CO + 2H2 - DRM reaction\n",
    "WBi_DRM = np.array([co2, ch4, co, h2])\n",
    "\n",
    "# heats of formation at 298.15 K for CO2, CH4, CO, H2\n",
    "HF298_DRM = np.array([HF298_co2, HF298_ch4, HF298_co, HF298_h2]) # kJ/mol\n",
    "SF298_DRM = np.array([SF298_co2, SF298_ch4, SF298_co, SF298_h2]) # J/mol/K\n",
    "\n",
    "stoichiometry_DRM = np.array([-1, -1, 2, 2])\n",
    "\n",
    "######################################################################################################################\n",
    "# CH4 + H2O ⇌ CO + 3H2 - SRM1 reaction\n",
    "WBi_SRM1 = np.array([ch4, h2o, co, h2])\n",
    "\n",
    "# heats of formation at 298.15 for CH4, H2O, CO, H2\n",
    "HF298_SRM1 = np.array([HF298_ch4, HF298_h2o, HF298_co, HF298_h2]) # kJ/mol\n",
    "SF298_SRM1 = np.array([SF298_ch4, SF298_h2o, SF298_co, SF298_h2]) # J/mol/K\n",
    "\n",
    "stoichiometry_SRM1 = np.array([-1, -1, 1, 3])\n",
    "\n",
    "######################################################################################################################\n",
    "# CH4 + 2H2O ⇌ CO2 + 4H2 - SRM2 reaction\n",
    "WBi_SRM2 = np.array([ch4, h2o, co2, h2])\n",
    "\n",
    "# heats of formation at 298.15 K for CH4, H2O, CO2, H2\n",
    "HF298_SRM2 = np.array([HF298_ch4, HF298_h2o, HF298_co2, HF298_h2]) # kJ/mol\n",
    "SF298_SRM2 = np.array([SF298_ch4, SF298_h2o, SF298_co2, SF298_h2]) # J/mol/K\n",
    "\n",
    "stoichiometry_SRM2 = np.array([-1, -2, 1, 4])\n",
    "\n",
    "######################################################################################################################\n",
    "# CO + H2O ⇌ CO2 + H2 - WGS reaction\n",
    "WBi_WGS = np.array([co, h2o, co2, h2])\n",
    "\n",
    "# heats of formation at 298.15 K for CO, H2O, CO2, H2\n",
    "HF298_WGS = np.array([HF298_co, HF298_h2o, HF298_co2, HF298_h2]) # kJ/mol\n",
    "SF298_WGS = np.array([SF298_co, SF298_h2o, SF298_co2, SF298_h2]) # J/mol/K\n",
    "\n",
    "stoichiometry_WGS = np.array([-1, -1,  1,  1])"
   ]
  },
  {
   "cell_type": "code",
   "execution_count": 15,
   "id": "b05ffcad",
   "metadata": {},
   "outputs": [
    {
     "data": {
      "text/plain": [
       "array([260.08530404])"
      ]
     },
     "execution_count": 15,
     "metadata": {},
     "output_type": "execute_result"
    }
   ],
   "source": [
    "# enthalpy of DRM reaction in kJ/mol\n",
    "enthalpy_rxn_kj_mol(T, WBi_DRM, HF298_DRM, stoichiometry_DRM)"
   ]
  },
  {
   "cell_type": "code",
   "execution_count": 16,
   "id": "f92a0c4c",
   "metadata": {},
   "outputs": [
    {
     "data": {
      "text/plain": [
       "array([224.0223538])"
      ]
     },
     "execution_count": 16,
     "metadata": {},
     "output_type": "execute_result"
    }
   ],
   "source": [
    "# enthalpy of SRM1 reaction in kJ/mol\n",
    "enthalpy_rxn_kj_mol(T, WBi_SRM1, HF298_SRM1, stoichiometry_SRM1)"
   ]
  },
  {
   "cell_type": "code",
   "execution_count": 17,
   "id": "1286e8ae",
   "metadata": {},
   "outputs": [
    {
     "data": {
      "text/plain": [
       "array([187.95940355])"
      ]
     },
     "execution_count": 17,
     "metadata": {},
     "output_type": "execute_result"
    }
   ],
   "source": [
    "# enthalpy of SRM2 reaction in kJ/mol\n",
    "enthalpy_rxn_kj_mol(T, WBi_SRM2, HF298_SRM2, stoichiometry_SRM2)"
   ]
  },
  {
   "cell_type": "code",
   "execution_count": 18,
   "id": "e94bfdd0",
   "metadata": {},
   "outputs": [
    {
     "data": {
      "text/plain": [
       "array([-36.06295024])"
      ]
     },
     "execution_count": 18,
     "metadata": {},
     "output_type": "execute_result"
    }
   ],
   "source": [
    "# enthalpy of WGS reaction in kJ/mol\n",
    "enthalpy_rxn_kj_mol(T, WBi_WGS, HF298_WGS, stoichiometry_WGS)"
   ]
  },
  {
   "cell_type": "code",
   "execution_count": 19,
   "id": "1c0c5d86",
   "metadata": {},
   "outputs": [
    {
     "data": {
      "text/plain": [
       "array([0.28424661])"
      ]
     },
     "execution_count": 19,
     "metadata": {},
     "output_type": "execute_result"
    }
   ],
   "source": [
    "# entropy of DRM reaction in kJ/mol\n",
    "entropy_rxn_kj_mol(T, WBi_DRM, SF298_DRM, stoichiometry_DRM)"
   ]
  },
  {
   "cell_type": "code",
   "execution_count": 20,
   "id": "31b3faf8",
   "metadata": {},
   "outputs": [
    {
     "data": {
      "text/plain": [
       "array([0.25110111])"
      ]
     },
     "execution_count": 20,
     "metadata": {},
     "output_type": "execute_result"
    }
   ],
   "source": [
    "# entropy of SRM1 reaction in kJ/mol\n",
    "entropy_rxn_kj_mol(T, WBi_SRM1, SF298_SRM1, stoichiometry_SRM1)"
   ]
  },
  {
   "cell_type": "code",
   "execution_count": 21,
   "id": "f0960bdc",
   "metadata": {},
   "outputs": [
    {
     "data": {
      "text/plain": [
       "array([0.21795562])"
      ]
     },
     "execution_count": 21,
     "metadata": {},
     "output_type": "execute_result"
    }
   ],
   "source": [
    "# entropy of SRM2 reaction in kJ/mol\n",
    "entropy_rxn_kj_mol(T, WBi_SRM2, SF298_SRM2, stoichiometry_SRM2)"
   ]
  },
  {
   "cell_type": "code",
   "execution_count": 22,
   "id": "3f7e00fe",
   "metadata": {},
   "outputs": [
    {
     "data": {
      "text/plain": [
       "array([-0.0331455])"
      ]
     },
     "execution_count": 22,
     "metadata": {},
     "output_type": "execute_result"
    }
   ],
   "source": [
    "# entropy of SRM2 reaction in kJ/mol\n",
    "entropy_rxn_kj_mol(T, WBi_WGS, SF298_WGS, stoichiometry_WGS)"
   ]
  },
  {
   "cell_type": "code",
   "execution_count": 23,
   "id": "00630e15",
   "metadata": {},
   "outputs": [
    {
     "data": {
      "text/plain": [
       "array([[11.89537936]])"
      ]
     },
     "execution_count": 23,
     "metadata": {},
     "output_type": "execute_result"
    }
   ],
   "source": [
    "# gibbs energy of DRM reaction in kJ/mol\n",
    "gibbs_rxn_kj_mol(T, WBi_DRM, HF298_DRM, SF298_DRM, stoichiometry_DRM)"
   ]
  },
  {
   "cell_type": "code",
   "execution_count": 24,
   "id": "72ecebef",
   "metadata": {},
   "outputs": [
    {
     "data": {
      "text/plain": [
       "array([[4.77341847]])"
      ]
     },
     "execution_count": 24,
     "metadata": {},
     "output_type": "execute_result"
    }
   ],
   "source": [
    "# gibbs energy of SRM1 reaction in kJ/mol\n",
    "gibbs_rxn_kj_mol(T, WBi_SRM1, HF298_SRM1, SF298_SRM1, stoichiometry_SRM1)"
   ]
  },
  {
   "cell_type": "code",
   "execution_count": 25,
   "id": "654bf0d4",
   "metadata": {},
   "outputs": [
    {
     "data": {
      "text/plain": [
       "array([[-2.34854241]])"
      ]
     },
     "execution_count": 25,
     "metadata": {},
     "output_type": "execute_result"
    }
   ],
   "source": [
    "# gibbs energy of SRM2 reaction in kJ/mol\n",
    "gibbs_rxn_kj_mol(T, WBi_SRM2, HF298_SRM2, SF298_SRM2, stoichiometry_SRM2)"
   ]
  },
  {
   "cell_type": "code",
   "execution_count": 26,
   "id": "233fa3c5",
   "metadata": {},
   "outputs": [
    {
     "data": {
      "text/plain": [
       "array([[-7.12196089]])"
      ]
     },
     "execution_count": 26,
     "metadata": {},
     "output_type": "execute_result"
    }
   ],
   "source": [
    "# gibbs energy of WGS reaction in kJ/mol\n",
    "gibbs_rxn_kj_mol(T, WBi_WGS, HF298_WGS, SF298_WGS, stoichiometry_WGS)"
   ]
  },
  {
   "cell_type": "code",
   "execution_count": 27,
   "id": "a3f2edcb",
   "metadata": {},
   "outputs": [
    {
     "data": {
      "text/plain": [
       "array([[0.19424706]])"
      ]
     },
     "execution_count": 27,
     "metadata": {},
     "output_type": "execute_result"
    }
   ],
   "source": [
    "# Keq of DRM reaction\n",
    "np.exp(-gibbs_rxn_kj_mol(T, WBi_DRM, HF298_DRM, SF298_DRM, stoichiometry_DRM)/R/T)"
   ]
  },
  {
   "cell_type": "code",
   "execution_count": 28,
   "id": "3188d35e",
   "metadata": {},
   "outputs": [
    {
     "data": {
      "text/plain": [
       "array([[0.51811772]])"
      ]
     },
     "execution_count": 28,
     "metadata": {},
     "output_type": "execute_result"
    }
   ],
   "source": [
    "# Keq of SRM1 reaction\n",
    "np.exp(-gibbs_rxn_kj_mol(T, WBi_SRM1, HF298_SRM1, SF298_SRM1, stoichiometry_SRM1)/R/T)"
   ]
  },
  {
   "cell_type": "code",
   "execution_count": 29,
   "id": "e1f195d1",
   "metadata": {},
   "outputs": [
    {
     "data": {
      "text/plain": [
       "array([[1.38198214]])"
      ]
     },
     "execution_count": 29,
     "metadata": {},
     "output_type": "execute_result"
    }
   ],
   "source": [
    "# Keq of SRM2 reaction\n",
    "np.exp(-gibbs_rxn_kj_mol(T, WBi_SRM2, HF298_SRM2, SF298_SRM2, stoichiometry_SRM2)/R/T)"
   ]
  },
  {
   "cell_type": "code",
   "execution_count": 30,
   "id": "3c3c3c62",
   "metadata": {},
   "outputs": [
    {
     "data": {
      "text/plain": [
       "array([[2.66731301]])"
      ]
     },
     "execution_count": 30,
     "metadata": {},
     "output_type": "execute_result"
    }
   ],
   "source": [
    "# Keq of WGS reaction\n",
    "np.exp(-gibbs_rxn_kj_mol(T, WBi_WGS, HF298_WGS, SF298_WGS, stoichiometry_WGS)/R/T)"
   ]
  }
 ],
 "metadata": {
  "kernelspec": {
   "display_name": "Python 3 (ipykernel)",
   "language": "python",
   "name": "python3"
  },
  "language_info": {
   "codemirror_mode": {
    "name": "ipython",
    "version": 3
   },
   "file_extension": ".py",
   "mimetype": "text/x-python",
   "name": "python",
   "nbconvert_exporter": "python",
   "pygments_lexer": "ipython3",
   "version": "3.8.13"
  }
 },
 "nbformat": 4,
 "nbformat_minor": 5
}
