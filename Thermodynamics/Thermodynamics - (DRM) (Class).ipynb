{
 "cells": [
  {
   "cell_type": "code",
   "execution_count": 1,
   "id": "6f4ffd5b",
   "metadata": {},
   "outputs": [],
   "source": [
    "import numpy as np"
   ]
  },
  {
   "cell_type": "code",
   "execution_count": 2,
   "id": "32b12a76",
   "metadata": {},
   "outputs": [],
   "source": [
    "class Thermodynamics_DRM:\n",
    "    \n",
    "    def __init__(self, T, P, y, Mr, WBi_enthalpy, WBi_specific_heat, Hfi_298_species):\n",
    "        \n",
    "        self.T = T\n",
    "        self.P = P\n",
    "        self.y = y\n",
    "        self.Mr = Mr\n",
    "        self.WBi_enthalpy = WBi_enthalpy\n",
    "        self.WBi_specific_heat = WBi_specific_heat\n",
    "        self.Hfi_298_species = Hfi_298_species\n",
    "        \n",
    "###############################################################################################################################\n",
    "    # literature information contained in the NIST SOURCE Data Archive - https://webbook.nist.gov/\n",
    "    # CO2 + CH4 ⇌ 2CO + 2H2 - DRM reaction\n",
    "    def enthalpy_drm_kj_mol(self):\n",
    "\n",
    "        t = self.T/1000\n",
    "        WBi = np.array([\n",
    "              [25.56759,  6.096130,     4.054656,  -2.671301,  0.131021, -118.0089, 227.3665,   -110.5271],  # CO\n",
    "              [-0.703029, 108.4773,    -42.52157,   5.862788,  0.678565, -76.84376, 158.7163,   -74.87310],  # CH4\n",
    "              [24.99735,  55.18696,   -33.69137,    7.948387, -0.136638, -403.6075, 228.2431,   -393.5224],  # CO2\n",
    "              [33.066178, -11.363417,  11.432816,  -2.772874, -0.158558, -9.980797, 172.707974,    0.0]      # H2\n",
    "              ])\n",
    "\n",
    "        # heats of formation at 298.15 K for 'CO', 'CH4', 'CO2', 'H2'\n",
    "        Hfi_298 = np.array([-110.53, -74.85, -393.51, 0.0]) # kJ/mol\n",
    "\n",
    "        Sfi_298 = np.array([197.66, 186.25, 213.79, 130.68]) # J/mol*K\n",
    "\n",
    "        Stoichiometry = np.array([ 2,    # 'CO'\n",
    "                                  -1,    # 'CH4'\n",
    "                                  -1,    # 'CO2'\n",
    "                                   2])   # 'H2'\n",
    "\n",
    "        Hrxn298 = np.dot(Hfi_298, Stoichiometry)\n",
    "        Srxn298 = np.dot(Sfi_298, Stoichiometry)\n",
    "        Grxn298 = Hrxn298 - 298.15*(Srxn298)/1000\n",
    "\n",
    "        T_Hi = np.array([t,  t**2 / 2.0, t**3 / 3.0, t**4 / 4.0, -1.0 / t, 1.0, 0.0, -1.0])\n",
    "        T_Si = np.array([np.log(t), t,  t**2 / 2.0,  t**3 / 3.0, -1.0 / (2.0 * t**2), 0.0, 1.0, 0.0])\n",
    "\n",
    "        Hi = np.dot(WBi, T_Hi)        # (H - H_298.15) kJ/mol\n",
    "        Si = np.dot(WBi, T_Si/1000.0) # absolute entropy kJ/mol/K\n",
    "\n",
    "        Hi_stoichiometry = Hi*Stoichiometry\n",
    "        Si_stoichiometry = Si*Stoichiometry\n",
    "\n",
    "        sum_Hi = sum(Hi_stoichiometry)\n",
    "        sum_Si = sum(Si_stoichiometry)\n",
    "\n",
    "        Hrxn = Hrxn298 + sum_Hi # kJ/mol\n",
    "        Grxn = Hrxn - self.T*sum_Si\n",
    "\n",
    "        R = 8.314e-3 # kJ/mol/K\n",
    "\n",
    "        Keq = np.exp(-Grxn/R/self.T)\n",
    "\n",
    "        return np.array([Hrxn])\n",
    "    \n",
    "###############################################################################################################################\n",
    "    # literature information contained in the NIST SOURCE Data Archive - https://webbook.nist.gov/\n",
    "    # CH4 + H2O ⇌ CO + 3H2 - SRM1 reaction\n",
    "    def enthalpy_srm1_kj_mol(self): \n",
    "\n",
    "        t = self.T/1000            \n",
    "        WBi = np.array([\n",
    "              [25.56759,  6.096130,     4.054656,  -2.671301,  0.131021, -118.0089, 227.3665,   -110.5271],  # CO\n",
    "              [-0.703029, 108.4773,    -42.52157,   5.862788,  0.678565, -76.84376, 158.7163,   -74.87310],  # CH4\n",
    "              [30.09200,  6.832514,     6.793435,  -2.534480,  0.082139, -250.8810, 223.3967,   -241.8264],  # H2O\n",
    "              [33.066178, -11.363417,  11.432816,  -2.772874, -0.158558, -9.980797, 172.707974,    0.0]      # H2\n",
    "              ])\n",
    "\n",
    "\n",
    "        # heats of formation at 298.15 K for 'CO', 'CH4', 'H2O', 'H2'\n",
    "        Hfi_298 = np.array([-110.53, -74.85, -241.826, 0.0]) # kJ/mol\n",
    "\n",
    "        Sfi_298 = np.array([197.66, 186.25, 188.84, 130.68]) # J/mol*K\n",
    "\n",
    "        Stoichiometry = np.array([ 1,    # 'CO'\n",
    "                                  -1,    # 'CH4'\n",
    "                                  -1,    # 'H2O'\n",
    "                                   3])   # 'H2'\n",
    "\n",
    "        Hrxn298 = np.dot(Hfi_298, Stoichiometry)\n",
    "        Srxn298 = np.dot(Sfi_298, Stoichiometry)\n",
    "        Grxn298 = Hrxn298 - 298.15*(Srxn298)/1000\n",
    "\n",
    "        T_Hi = np.array([t,  t**2 / 2.0, t**3 / 3.0, t**4 / 4.0, -1.0 / t, 1.0, 0.0, -1.0])\n",
    "        T_Si = np.array([np.log(t), t,  t**2 / 2.0,  t**3 / 3.0, -1.0 / (2.0 * t**2), 0.0, 1.0, 0.0])\n",
    "\n",
    "        Hi = np.dot(WBi, T_Hi)        # (H - H_298.15) kJ/mol\n",
    "        Si = np.dot(WBi, T_Si/1000.0) # absolute entropy kJ/mol/K\n",
    "\n",
    "        Hi_stoichiometry = Hi*Stoichiometry\n",
    "        Si_stoichiometry = Si*Stoichiometry\n",
    "\n",
    "        sum_Hi = sum(Hi_stoichiometry)\n",
    "        sum_Si = sum(Si_stoichiometry)\n",
    "\n",
    "        Hrxn = Hrxn298 + sum_Hi # kJ/mol\n",
    "        Grxn = Hrxn - self.T*sum_Si\n",
    "\n",
    "        R = 8.314e-3 # kJ/mol/K\n",
    "\n",
    "        Keq = np.exp(-Grxn/R/self.T)\n",
    "        \n",
    "        return np.array([Hrxn])\n",
    "    \n",
    "###############################################################################################################################     \n",
    "    # literature information contained in the NIST SOURCE Data Archive - https://webbook.nist.gov/\n",
    "    # CH4 + 2H2O ⇌ CO2 + 4H2 - SRM2 reaction\n",
    "    def enthalpy_srm2_kj_mol(self):\n",
    "\n",
    "        t = self.T/1000                  \n",
    "        WBi = np.array([\n",
    "              [24.99735,  55.18696,   -33.69137,    7.948387, -0.136638, -403.6075, 228.2431,   -393.5224],  # CO2\n",
    "              [-0.703029, 108.4773,    -42.52157,   5.862788,  0.678565, -76.84376, 158.7163,   -74.87310],  # CH4\n",
    "              [30.09200,  6.832514,     6.793435,  -2.534480,  0.082139, -250.8810, 223.3967,   -241.8264],  # H2O\n",
    "              [33.066178, -11.363417,  11.432816,  -2.772874, -0.158558, -9.980797, 172.707974,    0.0]      # H2\n",
    "              ])\n",
    "\n",
    "\n",
    "        # heats of formation at 298.15 K for 'CO2', 'CH4', 'H2O', 'H2'\n",
    "        Hfi_298 = np.array([-393.51, -74.85, -241.826, 0.0]) # kJ/mol\n",
    "\n",
    "        Sfi_298 = np.array([213.79, 186.25, 188.84, 130.68]) # J/mol*K\n",
    "\n",
    "        Stoichiometry = np.array([ 1,    # 'CO2'\n",
    "                                  -1,    # 'CH4'\n",
    "                                  -2,    # 'H2O'\n",
    "                                   4])   # 'H2'\n",
    "\n",
    "        Hrxn298 = np.dot(Hfi_298, Stoichiometry)\n",
    "        Srxn298 = np.dot(Sfi_298, Stoichiometry)\n",
    "        Grxn298 = Hrxn298 - 298.15*(Srxn298)/1000\n",
    "\n",
    "        T_Hi = np.array([t,  t**2 / 2.0, t**3 / 3.0, t**4 / 4.0, -1.0 / t, 1.0, 0.0, -1.0])\n",
    "        T_Si = np.array([np.log(t), t,  t**2 / 2.0,  t**3 / 3.0, -1.0 / (2.0 * t**2), 0.0, 1.0, 0.0])\n",
    "\n",
    "        Hi = np.dot(WBi, T_Hi)        # (H - H_298.15) kJ/mol\n",
    "        Si = np.dot(WBi, T_Si/1000.0) # absolute entropy kJ/mol/K\n",
    "\n",
    "        Hi_stoichiometry = Hi*Stoichiometry\n",
    "        Si_stoichiometry = Si*Stoichiometry\n",
    "\n",
    "        sum_Hi = sum(Hi_stoichiometry)\n",
    "        sum_Si = sum(Si_stoichiometry)\n",
    "\n",
    "        Hrxn = Hrxn298 + sum_Hi # kJ/mol\n",
    "        Grxn = Hrxn - self.T*sum_Si\n",
    "\n",
    "        R = 8.314e-3 # kJ/mol/K\n",
    "\n",
    "        Keq = np.exp(-Grxn/R/self.T)\n",
    "\n",
    "        return np.array([Hrxn])\n",
    "\n",
    "###############################################################################################################################\n",
    "    # literature information contained in the NIST SOURCE Data Archive - https://webbook.nist.gov/\n",
    "    # CO + H2O ⇌ CO2 + H2 - WGS reaction\n",
    "    def enthalpy_wgs_kj_mol(self):   \n",
    "\n",
    "        t = self.T/1000                 \n",
    "        WBi = np.array([\n",
    "              [25.56759,  6.096130,     4.054656,  -2.671301,  0.131021, -118.0089, 227.3665,   -110.5271],  # CO\n",
    "              [30.09200,  6.832514,     6.793435,  -2.534480,  0.082139, -250.8810, 223.3967,   -241.8264],  # H2O\n",
    "              [24.99735,  55.18696,   -33.69137,    7.948387, -0.136638, -403.6075, 228.2431,   -393.5224],  # CO2\n",
    "              [33.066178, -11.363417,  11.432816,  -2.772874, -0.158558, -9.980797, 172.707974,    0.0]      # H2\n",
    "              ])\n",
    "\n",
    "\n",
    "        # heats of formation at 298.15 K for 'CO', 'H2O', 'CO2', 'H2'\n",
    "        Hfi_298 = np.array([-110.53, -241.826, -393.51, 0.0]) # kJ/mol\n",
    "\n",
    "        Sfi_298 = np.array([197.66, 188.84, 213.79, 130.68]) # J/mol*K\n",
    "\n",
    "        Stoichiometry = np.array([-1,    # 'CO'\n",
    "                                  -1,    # 'H2O'\n",
    "                                   1,    # 'CO2'\n",
    "                                   1])   # 'H2'\n",
    "\n",
    "        Hrxn298 = np.dot(Hfi_298, Stoichiometry)\n",
    "        Srxn298 = np.dot(Sfi_298, Stoichiometry)\n",
    "        Grxn298 = Hrxn298 - 298.15*(Srxn298)/1000\n",
    "\n",
    "        T_Hi = np.array([t,  t**2 / 2.0, t**3 / 3.0, t**4 / 4.0, -1.0 / t, 1.0, 0.0, -1.0])\n",
    "        T_Si = np.array([np.log(t), t,  t**2 / 2.0,  t**3 / 3.0, -1.0 / (2.0 * t**2), 0.0, 1.0, 0.0])\n",
    "\n",
    "        Hi = np.dot(WBi, T_Hi)        # (H - H_298.15) kJ/mol\n",
    "        Si = np.dot(WBi, T_Si/1000.0) # absolute entropy kJ/mol/K\n",
    "\n",
    "        Hi_stoichiometry = Hi*Stoichiometry\n",
    "        Si_stoichiometry = Si*Stoichiometry\n",
    "\n",
    "        sum_Hi = sum(Hi_stoichiometry)\n",
    "        sum_Si = sum(Si_stoichiometry)\n",
    "\n",
    "        Hrxn = Hrxn298 + sum_Hi # kJ/mol\n",
    "        Grxn = Hrxn - self.T*sum_Si\n",
    "\n",
    "        R = 8.314e-3 # kJ/mol/K\n",
    "\n",
    "        Keq = np.exp(-Grxn/R/self.T)\n",
    "\n",
    "        return np.array([Hrxn])\n",
    "    \n",
    " ###############################################################################################################################   \n",
    "    def partial_enthalpies_kj_mol(self):\n",
    "\n",
    "        t = self.T/1000\n",
    "\n",
    "        T_Hi = np.array([t,  t**2 / 2.0, t**3 / 3.0, t**4 / 4.0, -1.0 / t, 1.0, 0.0, -1.0])\n",
    "\n",
    "        Hi = self.WBi_enthalpy@T_Hi # (H - H_298.15) kJ/mol\n",
    "\n",
    "        return np.array([(Hi + self.Hfi_298_species)]) # kJ/mol\n",
    "\n",
    "###############################################################################################################################\n",
    "    def ci_mol_m3(self):\n",
    "\n",
    "        return np.array([self.y*self.P/(8.314e-05*self.T)]) # mol/m3\n",
    "    \n",
    "    def c_total_mol_m3(self):\n",
    "\n",
    "        return np.array([sum(self.y*self.P/(8.314e-05*self.T))]) # mol/m3\n",
    "    \n",
    "    def d_mix_kg_m3(self):\n",
    "        \n",
    "        return np.array([np.sum(self.y*self.P/(8.314e-05*self.T))*np.dot(self.Mr, self.y)]) # kg/m3\n",
    "    \n",
    "    def mr_mix_kg_mol(self):\n",
    "        \n",
    "        return np.array([np.dot(self.Mr, self.y)]) # kg/mol\n",
    "\n",
    "###############################################################################################################################\n",
    "    # specific heat capacity of species\n",
    "    def cpi_j_mol_K(self):\n",
    "\n",
    "        t = self.T/1000\n",
    "\n",
    "        T_Cpi = np.array([1,  t, t**2, t**3, 1.0/t])\n",
    "\n",
    "        return np.array([np.dot(self.WBi_specific_heat, T_Cpi)]) # in J/mol/K for p = 1 bar\n",
    "   \n",
    "    # specific heat capacity of the mixture\n",
    "    def cp_mix_j_mol_K(self):\n",
    "\n",
    "        t = self.T/1000\n",
    "\n",
    "        T_Cpi = np.array([1,  t, t**2, t**3, 1.0/t])\n",
    "\n",
    "        return np.array([(np.dot(np.dot(self.WBi_specific_heat, T_Cpi), self.y)).sum()]) # J/mol/K for p = 1 bar\n",
    "    \n",
    "    # specific heat capacity of the mixture\n",
    "    def cp_mix_kg_mol_K(self):\n",
    "\n",
    "        t = self.T/1000\n",
    "\n",
    "        T_Cpi = np.array([1,  t, t**2, t**3, 1.0/t])\n",
    "\n",
    "        return np.array([(np.dot(np.dot(self.WBi_specific_heat, \n",
    "                                        T_Cpi), self.y)).sum()/np.dot(self.Mr, self.y)]) # J/kg/K for p = 1 bar"
   ]
  },
  {
   "cell_type": "code",
   "execution_count": 3,
   "id": "6555520f",
   "metadata": {},
   "outputs": [],
   "source": [
    "# define the mixture composition and thermodynamic conditions (i.e., T, P, molar ratio, Mr, Nist Data)\n",
    "\n",
    "species = np.array([\"CH4\", \"CO2\", \"H2O\", \"H2\", \"CO\", \"Ar\"])\n",
    "T = 873.15 # K\n",
    "P = 1 # bar\n",
    "y = np.array([0.3, 0.2, 0.0, 0.0, 0.0, 0.5]) # dimensionless\n",
    "Mr = np.array([16.04e-03, 44.01e-03, 18.01528e-03, 2*1.00794e-03, 28.01e-03, 39.948e-03]) # kg/mol\n",
    "\n",
    "WBi_enthalpy = np.array([\n",
    "  [-0.703029, 108.4773,      -42.52157,       5.862788,      0.678565,    -76.84376,  158.7163,   -74.87310],  # CH4  \n",
    "  [24.99735,   55.18696,     -33.69137,       7.948387,     -0.136638,   -403.6075,   228.2431,  -393.5224],   # CO2\n",
    "  [30.09200,    6.832514,      6.793435,     -2.534480,      0.082139,   -250.8810,   223.3967,  -241.8264],   # H2O\n",
    "  [33.066178, -11.363417,     11.432816,     -2.772874,     -0.158558,     -9.980797, 172.707974,   0.00000],  # H2\n",
    "  [25.56759,    6.096130,      4.054656,     -2.671301,      0.131021,   -118.0089,   227.3665,  -110.52710],  # CO    \n",
    "  [20.78600,    2.825911e-07, -1.464191e-07,  1.092131e-08, -3.661371e-08, -6.197350, 179.9990,     0.00000],  # Ar\n",
    "  ])\n",
    "\n",
    "WBi_specific_heat = np.array([\n",
    "  [-0.703029, 108.4773,     -42.52157,       5.862788,       0.678565],       # CH4  \n",
    "  [24.99735,   55.18696,    -33.69137,       7.948387,      -0.136638],       # CO2\n",
    "  [30.09200,    6.832514,     6.793435,     -2.534480,       0.082139],       # H2O\n",
    "  [25.56759,    6.096130,     4.054656,     -2.671301,       0.131021],       # CO\n",
    "  [33.066178, -11.363417,    11.432816,     -2.772874,      -0.158558],       # H2    \n",
    "  [20.78600,    2.825911e-07, -1.464191e-07,  1.092131e-08, -3.661371e-08],   # Ar\n",
    "  ])\n",
    "\n",
    "# heats of formation at 298.15 K for 'CH4', 'CO2', 'H2O', 'H2', 'CO', 'Ar' in kJ/mol\n",
    "Hfi_298 = np.array([-74.85, -393.51, -241.826,  0.0, -110.53, 0.0])"
   ]
  },
  {
   "cell_type": "code",
   "execution_count": 5,
   "id": "06841eec",
   "metadata": {},
   "outputs": [],
   "source": [
    "# define the mixture composition and thermodynamic conditions\n",
    "thermo = Thermodynamics_DRM(T, P, y, Mr, WBi_enthalpy, WBi_specific_heat, Hfi_298)"
   ]
  },
  {
   "cell_type": "code",
   "execution_count": 6,
   "id": "0cdee17e",
   "metadata": {},
   "outputs": [
    {
     "data": {
      "text/plain": [
       "260.0853040432239"
      ]
     },
     "execution_count": 6,
     "metadata": {},
     "output_type": "execute_result"
    }
   ],
   "source": [
    "# enthalpy of drm in kJ/mol\n",
    "thermo.enthalpy_drm_kj_mol()[0]"
   ]
  },
  {
   "cell_type": "code",
   "execution_count": 7,
   "id": "2e741fe5",
   "metadata": {},
   "outputs": [
    {
     "data": {
      "text/plain": [
       "224.02235379865817"
      ]
     },
     "execution_count": 7,
     "metadata": {},
     "output_type": "execute_result"
    }
   ],
   "source": [
    "# enthalpy of srm1 in kJ/mol\n",
    "thermo.enthalpy_srm1_kj_mol()[0]"
   ]
  },
  {
   "cell_type": "code",
   "execution_count": 8,
   "id": "d2715ed0",
   "metadata": {},
   "outputs": [
    {
     "data": {
      "text/plain": [
       "187.95940355409243"
      ]
     },
     "execution_count": 8,
     "metadata": {},
     "output_type": "execute_result"
    }
   ],
   "source": [
    "# enthalpy of srm2 in kJ/mol\n",
    "thermo.enthalpy_srm2_kj_mol()[0]"
   ]
  },
  {
   "cell_type": "code",
   "execution_count": 9,
   "id": "6804661d",
   "metadata": {},
   "outputs": [
    {
     "data": {
      "text/plain": [
       "-36.06295024456574"
      ]
     },
     "execution_count": 9,
     "metadata": {},
     "output_type": "execute_result"
    }
   ],
   "source": [
    "# enthalpy of wgs in kJ/mol\n",
    "thermo.enthalpy_wgs_kj_mol()[0]"
   ]
  },
  {
   "cell_type": "code",
   "execution_count": 10,
   "id": "a5b8756d",
   "metadata": {},
   "outputs": [
    {
     "data": {
      "text/plain": [
       "array([ -45.44395579, -366.89608539, -220.95618251,   16.87479203,\n",
       "        -93.0021606 ,   11.95194602])"
      ]
     },
     "execution_count": 10,
     "metadata": {},
     "output_type": "execute_result"
    }
   ],
   "source": [
    "# partial enthalpies of species in kJ/mol\n",
    "thermo.partial_enthalpies_kj_mol()[0]"
   ]
  },
  {
   "cell_type": "code",
   "execution_count": 11,
   "id": "2e052515",
   "metadata": {},
   "outputs": [
    {
     "data": {
      "text/plain": [
       "array([4.13259053, 2.75506035, 0.        , 0.        , 0.        ,\n",
       "       6.88765088])"
      ]
     },
     "execution_count": 11,
     "metadata": {},
     "output_type": "execute_result"
    }
   ],
   "source": [
    "# partial concentrations of species in mol/m3\n",
    "thermo.ci_mol_m3()[0]"
   ]
  },
  {
   "cell_type": "code",
   "execution_count": 12,
   "id": "591ac35e",
   "metadata": {},
   "outputs": [
    {
     "data": {
      "text/plain": [
       "13.775301768303807"
      ]
     },
     "execution_count": 12,
     "metadata": {},
     "output_type": "execute_result"
    }
   ],
   "source": [
    "# total concentration of ideal mixture in mol/m3\n",
    "thermo.c_total_mol_m3()[0]"
   ]
  },
  {
   "cell_type": "code",
   "execution_count": 13,
   "id": "3846c747",
   "metadata": {},
   "outputs": [
    {
     "data": {
      "text/plain": [
       "0.033588"
      ]
     },
     "execution_count": 13,
     "metadata": {},
     "output_type": "execute_result"
    }
   ],
   "source": [
    "# molar mass of ideal gas mixture in kg/mol\n",
    "thermo.mr_mix_kg_mol()[0]"
   ]
  },
  {
   "cell_type": "code",
   "execution_count": 14,
   "id": "d417b897",
   "metadata": {},
   "outputs": [
    {
     "data": {
      "text/plain": [
       "0.4626848357937883"
      ]
     },
     "execution_count": 14,
     "metadata": {},
     "output_type": "execute_result"
    }
   ],
   "source": [
    "# density of ideal gas mixture in kg/m3\n",
    "thermo.d_mix_kg_m3()[0]"
   ]
  },
  {
   "cell_type": "code",
   "execution_count": 15,
   "id": "796370b9",
   "metadata": {},
   "outputs": [
    {
     "data": {
      "text/plain": [
       "array([66.27576278, 52.63245614, 39.64397803, 32.35347837, 29.83304121,\n",
       "       20.7860001 ])"
      ]
     },
     "execution_count": 15,
     "metadata": {},
     "output_type": "execute_result"
    }
   ],
   "source": [
    "# partial molar specific heat capacity in J/mol/K\n",
    "thermo.cpi_j_mol_K()[0]"
   ]
  },
  {
   "cell_type": "code",
   "execution_count": 16,
   "id": "12039858",
   "metadata": {},
   "outputs": [
    {
     "data": {
      "text/plain": [
       "40.80222011142341"
      ]
     },
     "execution_count": 16,
     "metadata": {},
     "output_type": "execute_result"
    }
   ],
   "source": [
    "# specific heat capacity of the mixture in J/mol/K\n",
    "thermo.cp_mix_j_mol_K()[0]"
   ]
  },
  {
   "cell_type": "code",
   "execution_count": 17,
   "id": "e72c64d6",
   "metadata": {},
   "outputs": [
    {
     "data": {
      "text/plain": [
       "1214.7856410451177"
      ]
     },
     "execution_count": 17,
     "metadata": {},
     "output_type": "execute_result"
    }
   ],
   "source": [
    "# specific heat capacity of the mixture in J/kg/K\n",
    "thermo.cp_mix_kg_mol_K()[0]"
   ]
  }
 ],
 "metadata": {
  "kernelspec": {
   "display_name": "Python 3 (ipykernel)",
   "language": "python",
   "name": "python3"
  },
  "language_info": {
   "codemirror_mode": {
    "name": "ipython",
    "version": 3
   },
   "file_extension": ".py",
   "mimetype": "text/x-python",
   "name": "python",
   "nbconvert_exporter": "python",
   "pygments_lexer": "ipython3",
   "version": "3.8.13"
  }
 },
 "nbformat": 4,
 "nbformat_minor": 5
}
