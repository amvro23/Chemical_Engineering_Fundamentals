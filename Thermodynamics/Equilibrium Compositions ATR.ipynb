{
 "cells": [
  {
   "cell_type": "code",
   "execution_count": 1,
   "id": "5f3188c6",
   "metadata": {},
   "outputs": [],
   "source": [
    "import cantera as ct\n",
    "import numpy as np\n",
    "import matplotlib.pyplot as plt\n",
    "from scipy.optimize import fmin_slsqp"
   ]
  },
  {
   "cell_type": "markdown",
   "id": "229c89e0",
   "metadata": {},
   "source": [
    "## Autothermal Reforming"
   ]
  },
  {
   "cell_type": "markdown",
   "id": "22ea31f7",
   "metadata": {},
   "source": [
    "Equilibrium Thermodynamics of the Autothermal Reforming of Methane Reaction"
   ]
  },
  {
   "cell_type": "markdown",
   "id": "594829ce",
   "metadata": {},
   "source": [
    "**Equations used are analytically presented in the notebook \"Equilibrium Compositions DRM\".**"
   ]
  },
  {
   "cell_type": "markdown",
   "id": "baba33d7",
   "metadata": {},
   "source": [
    "### 1st method with CANTERA"
   ]
  },
  {
   "cell_type": "code",
   "execution_count": 2,
   "id": "9dbdf7dc",
   "metadata": {},
   "outputs": [],
   "source": [
    "# create empty list to store data\n",
    "ch4_eq_combined = []\n",
    "h2o_eq_combined = []\n",
    "o2_eq_combined = []\n",
    "co2_eq_combined = []\n",
    "co_eq_combined = []\n",
    "h2_eq_combined = []\n",
    "n2_eq_combined = []\n",
    "Xch4_eq_combined = []"
   ]
  },
  {
   "cell_type": "code",
   "execution_count": 3,
   "id": "38861085",
   "metadata": {},
   "outputs": [],
   "source": [
    "# for example, create 20 linearly spaced values for temperautre between 473.15-1273.15 Kelvin\n",
    "Temp_range1 = np.linspace(473.15, 1273.15, 20)\n",
    "\n",
    "for Temp in Temp_range1:\n",
    "\n",
    "    gas = ct.Solution('gri30.xml','gri30_mix')\n",
    "    molar_ratio = {'CH4':0.167, 'H2O':0.416, 'O2':0.017, 'CO2':0.0, 'CO':0.00,\n",
    "                   'H2':0.0, 'N2': 0.4}\n",
    "    \n",
    "    pressure = 101325\n",
    "    gas.TPX = Temp, pressure, molar_ratio\n",
    "    \n",
    "    # transport properties\n",
    "    feed = gas['CH4', 'H2O', 'O2', 'CO2', 'CO', 'H2', 'N2']\n",
    "    \n",
    "    Xi_feed = feed.X # molar fractions\n",
    "    \n",
    "    # equilibrate temperature, pressure\n",
    "    feed.equilibrate('TP')\n",
    "    \n",
    "    ch4_eq = feed.X[0]\n",
    "    ch4_eq_combined.append(ch4_eq)\n",
    "    \n",
    "    h2o_eq = feed.X[1]\n",
    "    h2o_eq_combined.append(h2o_eq)\n",
    "    \n",
    "    o2_eq = feed.X[2]\n",
    "    o2_eq_combined.append(o2_eq)\n",
    "    \n",
    "    co2_eq = feed.X[3]\n",
    "    co2_eq_combined.append(co2_eq) \n",
    "    \n",
    "    co_eq = feed.X[4]\n",
    "    co_eq_combined.append(co_eq)\n",
    "    \n",
    "    h2_eq = feed.X[5]\n",
    "    h2_eq_combined.append(h2_eq)\n",
    "    \n",
    "    n2_eq = feed.X[6]\n",
    "    n2_eq_combined.append(n2_eq)"
   ]
  },
  {
   "cell_type": "markdown",
   "id": "83fca656",
   "metadata": {},
   "source": [
    "### 2nd method with GIBBS MINIMIZATION - (NIST DATA)"
   ]
  },
  {
   "cell_type": "code",
   "execution_count": 4,
   "id": "16194e77",
   "metadata": {},
   "outputs": [
    {
     "data": {
      "text/plain": [
       "array([-112.76670288, -280.23233368,  -41.59380213, -436.94621298,\n",
       "       -150.62409997,  -26.67468942,  -38.88135289])"
      ]
     },
     "execution_count": 4,
     "metadata": {},
     "output_type": "execute_result"
    }
   ],
   "source": [
    "def Gibbs_formation_gas(T):\n",
    "   \n",
    "    # Heats of formation at 298.15 K in kJ/mol\n",
    "    Hf298 = [\n",
    "        -74.85,   # CH4\n",
    "        -241.826, # H2O\n",
    "            0.0,  # O2\n",
    "        -393.51,  # CO2\n",
    "        -110.53,  # CO\n",
    "            0.0,  # H2\n",
    "            0.0,  # N2\n",
    "               ]\n",
    "    \n",
    "    # the values of coefficients slightly change depending on the temperature range\n",
    "    \n",
    "    if T < 500 + 273.15:\n",
    "            # Shomate parameters for each species\n",
    "            #        A          B           C          D          E            F          G       H\n",
    "        WB = [\n",
    "              [-0.703029, 108.4773,    -42.52157,   5.862788,  0.678565, -76.84376, 158.7163,   -74.87310],       # CH4\n",
    "              [30.09200,  6.832514,     6.793435,  -2.534480,  0.082139, -250.8810, 223.3967,   -241.8264],       # H2O\n",
    "              [31.32234, -20.23531,     57.86644,  -36.50624, -0.007374, -8.903471, 246.7945,         0.0],       # O2        \n",
    "              [24.99735,  55.18696,   -33.69137,    7.948387, -0.136638, -403.6075, 228.2431,   -393.5224],       # CO2\n",
    "              [25.56759,  6.096130,     4.054656,  -2.671301,  0.131021, -118.0089, 227.3665,   -110.5271],       # CO\n",
    "              [33.066178, -11.363417,  11.432816,  -2.772874, -0.158558, -9.980797, 172.707974,       0.0],       # H2\n",
    "              [28.98641,   1.853978,   -9.647459,   16.63537,  0.000117, -8.671914, 226.4168,         0.0],       # N2\n",
    "        ]     \n",
    "\n",
    "        WB = np.array(WB)\n",
    "        \n",
    "    if T > 500 + 273.15:\n",
    "            # Shomate parameters for each species\n",
    "            #        A          B           C          D          E            F          G       H\n",
    "        WB = [\n",
    "              [-0.703029, 108.4773,    -42.52157,   5.862788,  0.678565, -76.84376, 158.7163,   -74.87310],       # CH4\n",
    "              [30.09200,  6.832514,     6.793435,  -2.534480,  0.082139, -250.8810, 223.3967,   -241.8264],       # H2O\n",
    "              [30.03235, 8.772972,      -3.988133,   0.788313, -0.741599, -11.32468, 236.1663,        0.0],       # O2        \n",
    "              [24.99735,  55.18696,   -33.69137,    7.948387, -0.136638, -403.6075, 228.2431,   -393.5224],       # CO2\n",
    "              [25.56759,  6.096130,     4.054656,  -2.671301,  0.131021, -118.0089, 227.3665,   -110.5271],       # CO\n",
    "              [33.066178, -11.363417,  11.432816,  -2.772874, -0.158558, -9.980797, 172.707974,       0.0],       # H2\n",
    "              [19.50583,   19.88705,   -8.598535,   1.369784,  0.527601, -4.935202, 212.3900,         0.0],       # N2\n",
    "        ]     \n",
    "\n",
    "        WB = np.array(WB)\n",
    "\n",
    "    # Shomate equations\n",
    "    t = T/1000\n",
    "    T_H = np.array([t,  t**2 / 2.0, t**3 / 3.0, t**4 / 4.0, -1.0 / t, 1.0, 0.0, -1.0])\n",
    "    T_S = np.array([np.log(t), t,  t**2 / 2.0,  t**3 / 3.0, -1.0 / (2.0 * t**2), 0.0, 1.0, 0.0])\n",
    "\n",
    "    H = np.dot(WB, T_H)        # (H - H_298.15) kJ/mol\n",
    "    S = np.dot(WB, T_S/1000.0) # absolute entropy kJ/mol/K\n",
    "\n",
    "    Gjo = Hf298 + H - T*S\n",
    "    \n",
    "    return Gjo # is the standard free energy in kJ/mol\n",
    "\n",
    "Gibbs_formation_gas(200.15)"
   ]
  },
  {
   "cell_type": "code",
   "execution_count": 5,
   "id": "846eb076",
   "metadata": {},
   "outputs": [],
   "source": [
    "def func(nj):\n",
    "    \n",
    "    nj = np.array(nj)\n",
    "    \n",
    "    Gj = Gibbs_formation_gas(T) + R*T*np.log(nj / np.sum(nj) * P / Po)\n",
    "    \n",
    "    return np.dot(nj, Gj)"
   ]
  },
  {
   "cell_type": "code",
   "execution_count": 6,
   "id": "06242534",
   "metadata": {},
   "outputs": [],
   "source": [
    "                # CH4,  H2O,   O2,   CO2,  CO,   H2,   N2 \n",
    "a_jk = np.array([\n",
    "                 [ 1,    0,    0,    1,    1,    0,     0],   # C balance\n",
    "                 [ 0,    1,    2,    2,    1,    0,     0],   # O balance\n",
    "                 [ 4,    2,    0,    0,    0,    2,     0],   # H balance\n",
    "                 [ 0,    0,    0,    0,    0,    0,     2]    # N balance\n",
    "                                                        ])\n",
    "\n",
    "                       # CH4,  H2O,   O2,   N2 \n",
    "a_jk_inlet = np.array([\n",
    "                      [ 1,     0,     0,     0],   # C balance\n",
    "                      [ 0,     1,     2,     0],   # O balance\n",
    "                      [ 4,     2,     0,     0],   # H balance\n",
    "                      [ 0,     0,     0,     2]    # N balance\n",
    "                                          ])  \n",
    "\n",
    "# ratio of inlet species in the gas mixture\n",
    "inlet_species = np.array([0.167, 0.416, 0.017, 0.4])\n",
    "\n",
    "# incoming feed\n",
    "A_k = np.dot(a_jk_inlet, inlet_species)\n",
    "              \n",
    "def ec1(nj):\n",
    "    nj = np.array(nj)\n",
    "    '''conservation of atoms constraint - equality constraint'''\n",
    "    return np.dot(a_jk, nj) - A_k\n",
    "\n",
    "\n",
    "def ic1(nj):\n",
    "    nj = np.array(nj)\n",
    "    '''inequality constraint all n>=0'''\n",
    "    return nj"
   ]
  },
  {
   "cell_type": "code",
   "execution_count": 7,
   "id": "16c21fae",
   "metadata": {},
   "outputs": [
    {
     "name": "stderr",
     "output_type": "stream",
     "text": [
      "C:\\Users\\Ambrosios\\AppData\\Local\\Temp\\ipykernel_8260\\4109085706.py:5: RuntimeWarning: invalid value encountered in log\n",
      "  Gj = Gibbs_formation_gas(T) + R*T*np.log(nj / np.sum(nj) * P / Po)\n"
     ]
    },
    {
     "name": "stdout",
     "output_type": "stream",
     "text": [
      "Optimization terminated successfully    (Exit mode 0)\n",
      "            Current function value: -215.32759883955174\n",
      "            Iterations: 75\n",
      "            Function evaluations: 677\n",
      "            Gradient evaluations: 72\n",
      "Optimization terminated successfully    (Exit mode 0)\n",
      "            Current function value: -224.44298346254914\n",
      "            Iterations: 33\n",
      "            Function evaluations: 274\n",
      "            Gradient evaluations: 29\n",
      "Optimization terminated successfully    (Exit mode 0)\n",
      "            Current function value: -233.72762617607611\n",
      "            Iterations: 33\n",
      "            Function evaluations: 291\n",
      "            Gradient evaluations: 33\n",
      "Optimization terminated successfully    (Exit mode 0)\n",
      "            Current function value: -243.20049897796036\n",
      "            Iterations: 70\n",
      "            Function evaluations: 619\n",
      "            Gradient evaluations: 69\n",
      "Optimization terminated successfully    (Exit mode 0)\n",
      "            Current function value: -252.88501105588477\n",
      "            Iterations: 17\n",
      "            Function evaluations: 145\n",
      "            Gradient evaluations: 17\n",
      "Optimization terminated successfully    (Exit mode 0)\n",
      "            Current function value: -262.8073766523813\n",
      "            Iterations: 14\n",
      "            Function evaluations: 118\n",
      "            Gradient evaluations: 14\n",
      "Optimization terminated successfully    (Exit mode 0)\n",
      "            Current function value: -272.99581836285074\n",
      "            Iterations: 17\n",
      "            Function evaluations: 148\n",
      "            Gradient evaluations: 17\n",
      "Optimization terminated successfully    (Exit mode 0)\n",
      "            Current function value: -283.48077032952904\n",
      "            Iterations: 34\n",
      "            Function evaluations: 267\n",
      "            Gradient evaluations: 30\n",
      "Optimization terminated successfully    (Exit mode 0)\n",
      "            Current function value: -294.2880757081209\n",
      "            Iterations: 19\n",
      "            Function evaluations: 128\n",
      "            Gradient evaluations: 15\n",
      "Optimization terminated successfully    (Exit mode 0)\n",
      "            Current function value: -305.4481596181022\n",
      "            Iterations: 22\n",
      "            Function evaluations: 168\n",
      "            Gradient evaluations: 18\n",
      "Optimization terminated successfully    (Exit mode 0)\n",
      "            Current function value: -316.94547306892514\n",
      "            Iterations: 19\n",
      "            Function evaluations: 165\n",
      "            Gradient evaluations: 19\n",
      "Optimization terminated successfully    (Exit mode 0)\n",
      "            Current function value: -328.71219826884453\n",
      "            Iterations: 25\n",
      "            Function evaluations: 180\n",
      "            Gradient evaluations: 21\n",
      "Optimization terminated successfully    (Exit mode 0)\n",
      "            Current function value: -340.6585682717754\n",
      "            Iterations: 20\n",
      "            Function evaluations: 179\n",
      "            Gradient evaluations: 20\n",
      "Optimization terminated successfully    (Exit mode 0)\n",
      "            Current function value: -352.72592539831965\n",
      "            Iterations: 28\n",
      "            Function evaluations: 215\n",
      "            Gradient evaluations: 24\n",
      "Optimization terminated successfully    (Exit mode 0)\n",
      "            Current function value: -364.88895181347175\n",
      "            Iterations: 24\n",
      "            Function evaluations: 184\n",
      "            Gradient evaluations: 20\n",
      "Optimization terminated successfully    (Exit mode 0)\n",
      "            Current function value: -377.13717185993266\n",
      "            Iterations: 27\n",
      "            Function evaluations: 194\n",
      "            Gradient evaluations: 23\n",
      "Optimization terminated successfully    (Exit mode 0)\n",
      "            Current function value: -389.46511962576744\n",
      "            Iterations: 45\n",
      "            Function evaluations: 401\n",
      "            Gradient evaluations: 45\n",
      "Optimization terminated successfully    (Exit mode 0)\n",
      "            Current function value: -401.86906967239986\n",
      "            Iterations: 53\n",
      "            Function evaluations: 469\n",
      "            Gradient evaluations: 51\n",
      "Optimization terminated successfully    (Exit mode 0)\n",
      "            Current function value: -414.34603098572103\n",
      "            Iterations: 17\n",
      "            Function evaluations: 150\n",
      "            Gradient evaluations: 17\n",
      "Optimization terminated successfully    (Exit mode 0)\n",
      "            Current function value: -426.8934131955879\n",
      "            Iterations: 26\n",
      "            Function evaluations: 227\n",
      "            Gradient evaluations: 24\n"
     ]
    }
   ],
   "source": [
    "R = 8.314e-3 # kJ/mol/K\n",
    "P = 1.0 # atm, this is the total pressure in the reactor\n",
    "Po = 1.0 # atm, this is the standard state pressure\n",
    "inlet_ratio = np.array([0.167, 0.416, 0.017, 0.0, 0.0, 0.0, 0.4])\n",
    "\n",
    "yj = [] # molar ratio composition \n",
    "Temp_range = np.linspace(200+273.15, 1000+273.15, 20)\n",
    "\n",
    "for T in Temp_range:\n",
    "    \n",
    "    n0 = [1e-3, 1e-3, 1e-3, 1e-3, 1e-3, 1e-3, 1e-3]\n",
    "    sol = fmin_slsqp(func, n0, f_eqcons=ec1, f_ieqcons=ic1, acc=1e-12)\n",
    "    yj.append(sol/np.sum(sol))"
   ]
  },
  {
   "cell_type": "code",
   "execution_count": 8,
   "id": "bd2585cf",
   "metadata": {},
   "outputs": [],
   "source": [
    "yj = np.array(yj)"
   ]
  },
  {
   "cell_type": "code",
   "execution_count": 9,
   "id": "8290de29",
   "metadata": {},
   "outputs": [
    {
     "data": {
      "text/plain": [
       "array([[1.56058066e-01, 1.52840176e-01, 1.47283572e-01, 1.38856534e-01,\n",
       "        1.27280188e-01, 1.12569881e-01, 9.49960565e-02, 7.50265163e-02,\n",
       "        5.35307382e-02, 3.25317955e-02, 1.56964347e-02, 5.95315912e-03,\n",
       "        1.98464122e-03, 6.60175241e-04, 2.31961381e-04, 8.72402701e-05,\n",
       "        3.50807906e-05, 1.50123044e-05, 6.79333992e-06, 3.24010195e-06],\n",
       "       [4.27686714e-01, 4.20688358e-01, 4.08618503e-01, 3.90376029e-01,\n",
       "        3.65533071e-01, 3.34593359e-01, 2.99147819e-01, 2.61853159e-01,\n",
       "        2.26265025e-01, 1.96573065e-01, 1.76850200e-01, 1.68474389e-01,\n",
       "        1.67844160e-01, 1.70275220e-01, 1.73415604e-01, 1.76499248e-01,\n",
       "        1.79324108e-01, 1.81857470e-01, 1.84113945e-01, 1.86121964e-01],\n",
       "       [6.68959015e-14, 1.61761043e-13, 4.72137684e-21, 7.46160671e-19,\n",
       "        3.96435129e-15, 5.44455652e-18, 7.65674587e-19, 1.84037776e-12,\n",
       "        6.54695213e-12, 7.24468723e-14, 2.61945865e-14, 2.66490784e-12,\n",
       "        1.36745852e-11, 2.69836061e-14, 3.73122968e-13, 1.39075390e-14,\n",
       "        1.61955130e-15, 2.14267269e-13, 3.58000275e-14, 7.06037863e-14],\n",
       "       [1.03218950e-02, 1.27194257e-02, 1.68446454e-02, 2.30384376e-02,\n",
       "        3.13299459e-02, 4.12373828e-02, 5.15564899e-02, 6.02994075e-02,\n",
       "        6.51536390e-02, 6.48220529e-02, 6.04743154e-02, 5.49195360e-02,\n",
       "        4.98757184e-02, 4.55509832e-02, 4.17983547e-02, 3.85077933e-02,\n",
       "        3.56083574e-02, 3.30463028e-02, 3.07780764e-02, 2.87649768e-02],\n",
       "       [7.48515946e-07, 5.02908724e-06, 2.72215027e-05, 1.23314542e-04,\n",
       "        4.72313228e-04, 1.54455096e-03, 4.34242924e-03, 1.05046429e-02,\n",
       "        2.16947166e-02, 3.76997733e-02, 5.46133115e-02, 6.74404068e-02,\n",
       "        7.54462996e-02, 8.07596073e-02, 8.48318518e-02, 8.82304321e-02,\n",
       "        9.11687995e-02, 9.37458330e-02, 9.60201941e-02, 9.80359458e-02],\n",
       "       [7.41590876e-03, 1.71850208e-02, 3.40393784e-02, 5.95379352e-02,\n",
       "        9.43486804e-02, 1.37954671e-01, 1.88532114e-01, 2.43021503e-01,\n",
       "        2.97118531e-01, 3.44891584e-01, 3.79110501e-01, 3.95875739e-01,\n",
       "        3.99923051e-01, 3.98632419e-01, 3.95860748e-01, 3.92901716e-01,\n",
       "        3.90121768e-01, 3.87605686e-01, 3.85356288e-01, 3.83351328e-01],\n",
       "       [3.98516669e-01, 3.96561990e-01, 3.93186680e-01, 3.88067750e-01,\n",
       "        3.81035801e-01, 3.72100156e-01, 3.61425091e-01, 3.49294771e-01,\n",
       "        3.36237350e-01, 3.23481728e-01, 3.13255238e-01, 3.07336771e-01,\n",
       "        3.04926130e-01, 3.04121595e-01, 3.03861480e-01, 3.03773570e-01,\n",
       "        3.03741887e-01, 3.03729696e-01, 3.03724704e-01, 3.03722545e-01]])"
      ]
     },
     "execution_count": 9,
     "metadata": {},
     "output_type": "execute_result"
    }
   ],
   "source": [
    "yj.T"
   ]
  },
  {
   "cell_type": "code",
   "execution_count": 13,
   "id": "dcbe2e71",
   "metadata": {},
   "outputs": [
    {
     "data": {
      "image/png": "[encoded data removed]",
      "text/plain": [
       "<Figure size 640x480 with 1 Axes>"
      ]
     },
     "metadata": {},
     "output_type": "display_data"
    }
   ],
   "source": [
    "fig, ax = plt.subplots()\n",
    "\n",
    "species = ['CH$_4$', 'H$_2$O', 'CO$_2$', 'CO', 'H$_2$']\n",
    "\n",
    "for j, arr in enumerate(np.delete(yj.T, [2, -1], 0)):\n",
    "    ax.plot(Temp_range - 273.15, arr, \"-o\", label = species[j], lw = 1)\n",
    "    \n",
    "# define Tc to convert Kelvin to Celcius\n",
    "Tc = 273.15\n",
    "\n",
    "ax.plot(Temp_range1-Tc, ch4_eq_combined, '.', mfc = 'None', label = 'CH$_4$ (Cantera)', lw = 1)\n",
    "ax.plot(Temp_range1-Tc, h2o_eq_combined, '.', mfc = 'None', label = 'H$_2$O (Cantera)', lw = 1)\n",
    "ax.plot(Temp_range1-Tc, co2_eq_combined, '.', mfc = 'None', label = 'CO$_2$ (Cantera)', lw = 1)\n",
    "ax.plot(Temp_range1-Tc, co_eq_combined, '.', mfc = 'None', label = 'CO (Cantera)', lw = 1)\n",
    "ax.plot(Temp_range1-Tc, h2_eq_combined, '.', mfc = 'None', label = 'H$_2$ (Cantera)', lw = 1)\n",
    "ax.grid(ls=\"-\", alpha = 0.2)\n",
    "\n",
    "ax.legend(loc='upper center', bbox_to_anchor=(0.5, -0.15),\n",
    "          fancybox=True, shadow=True, ncol=2)\n",
    "\n",
    "ax.set_ylabel('molar ratio', fontsize=12, fontweight='bold')\n",
    "ax.set_xlabel('Temperature $^o$C', fontsize=12, fontweight='bold')\n",
    "ax.grid(ls=\"-\", alpha = 0.2)"
   ]
  }
 ],
 "metadata": {
  "kernelspec": {
   "display_name": "Python 3 (ipykernel)",
   "language": "python",
   "name": "python3"
  },
  "language_info": {
   "codemirror_mode": {
    "name": "ipython",
    "version": 3
   },
   "file_extension": ".py",
   "mimetype": "text/x-python",
   "name": "python",
   "nbconvert_exporter": "python",
   "pygments_lexer": "ipython3",
   "version": "3.8.13"
  }
 },
 "nbformat": 4,
 "nbformat_minor": 5
}
